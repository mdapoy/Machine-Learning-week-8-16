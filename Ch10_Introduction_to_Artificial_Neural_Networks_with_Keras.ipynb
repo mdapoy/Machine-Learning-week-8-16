{
  "nbformat": 4,
  "nbformat_minor": 0,
  "metadata": {
    "colab": {
      "provenance": [],
      "gpuType": "T4",
      "authorship_tag": "ABX9TyNKZ4gKmsJ4jeAfenS0olLh",
      "include_colab_link": true
    },
    "kernelspec": {
      "name": "python3",
      "display_name": "Python 3"
    },
    "language_info": {
      "name": "python"
    },
    "accelerator": "GPU"
  },
  "cells": [
    {
      "cell_type": "markdown",
      "metadata": {
        "id": "view-in-github",
        "colab_type": "text"
      },
      "source": [
        "<a href=\"https://colab.research.google.com/github/mdapoy/Machine-Learning-week-8-16/blob/main/Ch10_Introduction_to_Artificial_Neural_Networks_with_Keras.ipynb\" target=\"_parent\"><img src=\"https://colab.research.google.com/assets/colab-badge.svg\" alt=\"Open In Colab\"/></a>"
      ]
    },
    {
      "cell_type": "markdown",
      "source": [
        "# Laporan Analisis Bab 10: Introduction to Artificial Neural Networks with Keras\n",
        "\n",
        "## Pendahuluan\n",
        "Bab 10 memperkenalkan Jaringan Saraf Tiruan (Artificial Neural Networks - ANNs), inti dari Deep Learning. [cite_start]ANNs dijelaskan sebagai model Machine Learning yang terinspirasi dari neuron biologis di otak manusia[cite: 309]. [cite_start]Bab ini menggarisbawahi kegunaan ANNs yang serbaguna, kuat, dan skalabel untuk tugas-tugas Machine Learning yang besar dan kompleks seperti klasifikasi gambar, pengenalan suara, sistem rekomendasi, dan bahkan mengalahkan juara dunia dalam permainan Go[cite: 309]. [cite_start]Bagian pertama bab ini membahas sejarah ANN, mulai dari arsitektur awal hingga Multilayer Perceptrons (MLPs), sementara bagian kedua berfokus pada implementasi jaringan saraf menggunakan Keras API yang populer[cite: 309].\n",
        "\n",
        "## Ringkasan Isi Bab\n",
        "\n",
        "Bab 10 menguraikan beberapa konsep kunci terkait ANNs dan Keras:\n",
        "\n",
        "1.  **From Biological to Artificial Neurons (Dari Neuron Biologis ke Neuron Tiruan)**:\n",
        "    * [cite_start]**Sejarah ANNs**: Diperkenalkan pertama kali pada tahun 1943 oleh Warren McCulloch dan Walter Pitts dengan model komputasi neuron biologis yang disederhanakan[cite: 310]. [cite_start]ANNs mengalami periode \"musim dingin\" (penurunan minat dan pendanaan) di tahun 1960-an dan 1990-an sebelum kebangkitan kembali[cite: 310].\n",
        "    * [cite_start]**Mengapa ANNs Bangkit Kembali**: Kebangkitan minat saat ini didorong oleh ketersediaan data yang melimpah, peningkatan daya komputasi (terutama GPU), perbaikan algoritma pelatihan (meskipun penyesuaian kecil), serta terbukti bahwa beberapa keterbatasan teoritis ANNs tidak signifikan dalam praktiknya (misalnya, terjebak di *local optima* jarang terjadi dan biasanya mendekati *global optima*)[cite: 311].\n",
        "    * [cite_start]**Neuron Biologis**: Dijelaskan sebagai sel yang terdiri dari badan sel, dendrit, akson, dan terminal sinapsis, yang berkomunikasi melalui impuls listrik (potensial aksi) dan neurotransmitter[cite: 311]. [cite_start]Neuron sering diorganisasikan dalam lapisan-lapisan berurutan di korteks serebral[cite: 312, 313].\n",
        "    * [cite_start]**Komputasi Logika dengan Neuron**: McCulloch dan Pitts menunjukkan bahwa jaringan neuron tiruan sederhana (dengan input biner dan output biner, diaktifkan jika jumlah input aktif melebihi batas tertentu) dapat melakukan komputasi proposisi logika dasar seperti AND, OR, dan NOT[cite: 313, 314].\n",
        "\n",
        "2.  **The Perceptron**:\n",
        "    * [cite_start]**Definisi**: Salah satu arsitektur ANN paling sederhana, diciptakan pada tahun 1957 oleh Frank Rosenblatt[cite: 314]. [cite_start]Berbasis pada *threshold logic unit* (TLU) atau *linear threshold unit* (LTU)[cite: 314].\n",
        "    * [cite_start]**Cara Kerja TLU**: Menghitung jumlah tertimbang dari inputnya ($z = x^T w$), kemudian menerapkan *step function* (umumnya *Heaviside step function*) untuk menghasilkan output[cite: 314, 315].\n",
        "    * [cite_start]**Arsitektur Perceptron**: Terdiri dari satu lapisan TLU, di mana setiap TLU terhubung ke semua input (lapisan *fully connected* atau *dense layer*)[cite: 315]. [cite_start]Umumnya mencakup neuron bias (input $x_0 = 1$)[cite: 315]. [cite_start]Dapat digunakan untuk klasifikasi biner linier[cite: 315].\n",
        "    * [cite_start]**Algoritma Pelatihan**: Terinspirasi oleh aturan Hebb (koneksi antar neuron menguat jika aktif secara bersamaan)[cite: 316]. [cite_start]Aturan belajar Perceptron memperkuat bobot koneksi yang membantu mengurangi kesalahan[cite: 317].\n",
        "    * [cite_start]**Perceptron Convergence Theorem**: Rosenblatt menunjukkan bahwa algoritma ini akan konvergen ke solusi jika instance pelatihan *linearly separable*[cite: 317].\n",
        "    * [cite_start]**Keterbatasan**: Tidak mampu belajar pola kompleks (seperti masalah XOR) karena *decision boundary*-nya linier[cite: 318]. [cite_start]Ini mengarah pada \"musim dingin\" kedua ANN[cite: 318].\n",
        "\n",
        "3.  **The Multilayer Perceptron (MLP) and Backpropagation (MLP dan Backpropagation)**:\n",
        "    * [cite_start]**Arsitektur MLP**: Terdiri dari satu lapisan input, satu atau lebih *hidden layers* TLU, dan satu *output layer* TLU[cite: 319]. [cite_start]Lapisan-lapisan ini bersifat *feedforward* (sinyal mengalir satu arah)[cite: 319]. [cite_start]Jaringan dengan tumpukan *hidden layers* yang dalam disebut *deep neural network* (DNN)[cite: 319].\n",
        "    * [cite_start]**Algoritma Backpropagation**: Ditemukan pada tahun 1986 oleh David Rumelhart, Geoffrey Hinton, dan Ronald Williams[cite: 319, 320]. [cite_start]Ini adalah turunan dari Gradient Descent yang secara efisien menghitung gradien error jaringan terhadap setiap parameter model[cite: 320].\n",
        "        * [cite_start]**Langkah-langkah**: Memproses *mini-batch* data, melakukan *forward pass* (membuat prediksi dan menyimpan hasil perantara), mengukur *output error*, menghitung kontribusi error dari setiap koneksi (menggunakan *chain rule* secara terbalik), dan akhirnya melakukan langkah Gradient Descent untuk menyesuaikan bobot koneksi[cite: 320, 321].\n",
        "        * [cite_start]**Inisialisasi Bobot**: Penting untuk menginisialisasi bobot *hidden layer* secara acak untuk memecah simetri dan memungkinkan neuron belajar secara beragam[cite: 321].\n",
        "        * [cite_start]**Fungsi Aktivasi**: Pergantian *step function* dengan fungsi aktivasi yang *differentiable* (seperti *logistic/sigmoid*, *hyperbolic tangent (tanh)*, dan *Rectified Linear Unit (ReLU)*) sangat penting agar Gradient Descent dapat bekerja[cite: 321, 322]. [cite_start]Fungsi aktivasi non-linier diperlukan untuk memungkinkan jaringan belajar pola kompleks[cite: 322].\n",
        "\n",
        "4.  **Regression MLPs (MLP untuk Regresi)**:\n",
        "    * [cite_start]Digunakan untuk tugas regresi (memprediksi nilai numerik)[cite: 322].\n",
        "    * [cite_start]**Output Layer**: Memiliki satu neuron untuk prediksi nilai tunggal, atau beberapa neuron untuk regresi *multivariate*[cite: 322, 323].\n",
        "    * [cite_start]**Fungsi Aktivasi Output**: Umumnya tidak menggunakan fungsi aktivasi untuk output neuron (agar dapat mengeluarkan rentang nilai apapun)[cite: 323]. [cite_start]Namun, ReLU atau Softplus dapat digunakan jika output dijamin positif, atau *logistic/tanh* jika output terikat pada rentang tertentu[cite: 323].\n",
        "    * [cite_start]**Fungsi Loss**: Umumnya Mean Squared Error (MSE), atau Mean Absolute Error (MAE)/Huber Loss jika terdapat banyak *outlier*[cite: 323].\n",
        "    * [cite_start]**Arsitektur Umum**: Dijelaskan dalam tabel 10-1[cite: 323].\n",
        "\n",
        "5.  **Classification MLPs (MLP untuk Klasifikasi)**:\n",
        "    * [cite_start]Digunakan untuk tugas klasifikasi[cite: 324].\n",
        "    * [cite_start]**Binary Classification**: Satu neuron output dengan fungsi aktivasi *logistic* (mengestimasi probabilitas kelas positif)[cite: 324].\n",
        "    * [cite_start]**Multilabel Binary Classification**: Satu neuron output per label biner, masing-masing dengan fungsi aktivasi *logistic* (probabilitas tidak harus berjumlah 1)[cite: 324].\n",
        "    * [cite_start]**Multiclass Classification**: Satu neuron output per kelas, dengan fungsi aktivasi *softmax* pada seluruh lapisan output (probabilitas berjumlah 1, untuk kelas-kelas eksklusif)[cite: 324, 325].\n",
        "    * **Fungsi Loss**: Umumnya *cross-entropy loss* (atau *log loss*).\n",
        "    * **Arsitektur Umum**: Dijelaskan dalam tabel 10-2.\n",
        "\n",
        "6.  **Implementing MLPs with Keras (Mengimplementasikan MLP dengan Keras)**:\n",
        "    * **Keras API**: High-level Deep Learning API yang memudahkan pembangunan, pelatihan, evaluasi, dan eksekusi jaringan saraf.\n",
        "    * [cite_start]**`tf.keras`**: Implementasi Keras yang dibundel dengan TensorFlow, direkomendasikan karena fitur tambahannya (misalnya, TensorFlow's Data API)[cite: 325, 326]. [cite_start]API-nya mirip dengan PyTorch[cite: 326].\n",
        "    * [cite_start]**Instalasi TensorFlow 2**: Instruksi instalasi `tensorflow` melalui `pip`[cite: 327].\n",
        "    * **Membangun Image Classifier menggunakan Sequential API**:\n",
        "        * [cite_start]**Memuat Dataset**: Menggunakan `keras.datasets.fashion_mnist` yang mirip MNIST tetapi dengan item fashion[cite: 327]. [cite_start]Data diskalakan ke rentang 0-1 dan dibagi menjadi *training*, *validation*, dan *test set*[cite: 328].\n",
        "        * [cite_start]**Membuat Model**: Menggunakan `keras.models.Sequential` untuk tumpukan lapisan sederhana[cite: 329]. [cite_start]Contoh: `Flatten` (pre-processing), `Dense` (hidden layers dengan ReLU), `Dense` (output layer dengan softmax)[cite: 329].\n",
        "        * [cite_start]**`model.summary()`**: Menampilkan arsitektur model, bentuk output setiap layer, dan jumlah parameter[cite: 330].\n",
        "        * [cite_start]**Parameter Layer**: `get_weights()` dan `set_weights()` untuk mengakses bobot dan bias[cite: 331]. [cite_start]`kernel_initializer` dan `bias_initializer` untuk inisialisasi[cite: 331, 332].\n",
        "    * [cite_start]**Mengkompilasi Model**: Menggunakan `model.compile()` untuk menentukan fungsi *loss*, *optimizer* (misalnya, \"sgd\"), dan metrik tambahan (misalnya, \"accuracy\")[cite: 332].\n",
        "    * [cite_start]**Melatih dan Mengevaluasi Model**: Menggunakan `model.fit()` dengan data input, target, jumlah *epochs*, dan opsional *validation set*[cite: 333]. [cite_start]Keras menampilkan *loss* dan metrik per *epoch*[cite: 334]. [cite_start]`history` objek yang dikembalikan berisi log pelatihan[cite: 334].\n",
        "    * [cite_start]**Menggunakan Model untuk Prediksi**: Menggunakan `model.predict()` untuk mendapatkan probabilitas kelas, atau `model.predict_classes()` untuk mendapatkan prediksi kelas langsung[cite: 336, 337].\n",
        "    * [cite_start]**Membangun Regression MLP menggunakan Sequential API**: Mirip dengan klasifikasi, tetapi lapisan output memiliki satu neuron tanpa fungsi aktivasi, dan fungsi *loss* adalah Mean Squared Error (MSE)[cite: 338].\n",
        "\n",
        "7.  **Building Complex Models Using the Functional API (Membangun Model Kompleks menggunakan Functional API)**:\n",
        "    * [cite_start]**Nonsequential Networks**: Memungkinkan arsitektur yang lebih kompleks, seperti *Wide & Deep neural network*, di mana sebagian input terhubung langsung ke lapisan output untuk menangkap pola sederhana dan dalam[cite: 338, 339].\n",
        "    * [cite_start]**Cara Kerja Functional API**: Menggunakan objek `Input` sebagai spesifikasi input[cite: 339]. [cite_start]Lapisan dipanggil seperti fungsi (misalnya, `hidden1 = keras.layers.Dense(...)(input_)`) untuk menghubungkan lapisan[cite: 339]. [cite_start]Model dibuat dengan `keras.Model(inputs=..., outputs=...)`[cite: 339].\n",
        "    * [cite_start]**Multiple Inputs**: Dapat menangani beberapa input dengan mendefinisikan beberapa objek `Input` dan mengumpankannya ke model saat pelatihan[cite: 340].\n",
        "    * [cite_start]**Multiple Outputs**: Dapat memiliki beberapa output, masing-masing dengan fungsi *loss* sendiri dan bobot *loss* yang dapat disesuaikan saat kompilasi model[cite: 342]. [cite_start]Berguna untuk tugas berganda atau regularisasi[cite: 341].\n",
        "\n",
        "8.  **Using the Subclassing API to Build Dynamic Models (Menggunakan Subclassing API untuk Membangun Model Dinamis)**:\n",
        "    * [cite_start]**Cara Kerja**: Cukup buat subclass dari kelas `keras.Model`, definisikan lapisan di konstruktor, dan lakukan komputasi di metode `call()`[cite: 313, 360].\n",
        "    * [cite_start]**Fleksibilitas**: Memungkinkan perilaku dinamis seperti loop, percabangan kondisional, dan operasi TensorFlow level rendah[cite: 313, 361].\n",
        "    * [cite_start]**Keterbatasan**: Arsitektur model tersembunyi di metode `call()`, sehingga Keras tidak dapat dengan mudah memeriksanya, menyimpan/mengkloningnya, atau memeriksa tipe/bentuk di awal[cite: 314, 361]. [cite_start]Lebih mudah membuat kesalahan[cite: 314, 361]. [cite_start]Direkomendasikan hanya jika fleksibilitas ekstra benar-benar dibutuhkan[cite: 314, 361].\n",
        "\n",
        "9.  **Saving and Restoring a Model (Menyimpan dan Memulihkan Model)**:\n",
        "    * [cite_start]**`model.save(\"my_keras_model.h5\")`**: Menyimpan arsitektur model, parameter (bobot dan bias), dan *optimizer* menggunakan format HDF5[cite: 314].\n",
        "    * [cite_start]**`keras.models.load_model(\"my_keras_model.h5\")`**: Memuat model yang disimpan[cite: 315].\n",
        "    * [cite_start]**Subclassing API**: Model yang dibuat dengan Subclassing API memerlukan `save_weights()` dan `load_weights()` untuk parameter, tetapi arsitektur dan komponen lain harus disimpan/dipulihkan secara manual[cite: 315].\n",
        "\n",
        "10. **Using Callbacks (Menggunakan Callbacks)**:\n",
        "    * [cite_start]**`model.fit()`**: Menerima argumen `callbacks` untuk menentukan objek yang akan dipanggil Keras selama pelatihan[cite: 315].\n",
        "    * [cite_start]**`ModelCheckpoint`**: Menyimpan *checkpoint* model secara berkala (misalnya, di akhir setiap *epoch*)[cite: 315]. [cite_start]Opsi `save_best_only=True` menyimpan model hanya jika kinerja validasinya adalah yang terbaik sejauh ini[cite: 315].\n",
        "    * [cite_start]**`EarlyStopping`**: Menghentikan pelatihan jika tidak ada kemajuan terukur pada *validation set* selama beberapa *epochs* (`patience`) dan secara opsional mengembalikan bobot terbaik[cite: 315, 316].\n",
        "    * [cite_start]**Custom Callbacks**: Dapat dibuat dengan membuat subclass dari `keras.callbacks.Callback` dan mengimplementasikan metode seperti `on_epoch_end()`, `on_train_begin()`, dll.[cite: 316].\n",
        "\n",
        "11. **Using TensorBoard for Visualization (Menggunakan TensorBoard untuk Visualisasi)**:\n",
        "    * [cite_start]**TensorBoard**: Alat visualisasi interaktif untuk melihat kurva belajar, membandingkan *runs*, menganalisis statistik, dll.[cite: 317].\n",
        "    * [cite_start]**`TensorBoard()` Callback**: Membuat file log biner (`event files`) yang berisi ringkasan data visualisasi[cite: 317]. [cite_start]TensorBoard server memonitor direktori log ini[cite: 317].\n",
        "    * [cite_start]**Menjalankan TensorBoard**: Dapat dijalankan dari terminal (`tensorboard --logdir=./my_logs`) atau langsung di Jupyter Notebook (`%load_ext tensorboard`, `%tensorboard --logdir=./my_logs`)[cite: 318].\n",
        "    * [cite_start]**`tf.summary`**: API level rendah untuk mencatat skalar, histogram, gambar, audio, dan teks[cite: 319].\n",
        "\n",
        "12. **Fine-Tuning Neural Network Hyperparameters (Menyesuaikan Hyperparameter Jaringan Saraf Tiruan)**:\n",
        "    * [cite_start]**Kompleksitas**: Banyak hyperparameter untuk disesuaikan: jumlah lapisan, neuron per lapisan, fungsi aktivasi, inisialisasi bobot, dll.[cite: 320].\n",
        "    * [cite_start]**Strategi**: Menggunakan *grid search* atau *randomized search* (seperti di Bab 2) dengan membungkus model Keras dalam objek yang meniru *regressor* Scikit-Learn (misalnya, `keras.wrappers.scikit_learn.KerasRegressor`)[cite: 320, 321].\n",
        "    * **Pustaka Optimasi Hyperparameter**: Hyperopt, Hyperas, kopt, Talos, Keras Tuner, Scikit-Optimize (skopt), Spearmint, Hyperband, Sklearn-Deap. [cite_start]Layanan cloud seperti Google Cloud AI Platform juga menawarkan optimasi hyperparameter[cite: 322, 323].\n",
        "    * [cite_start]**Jumlah Hidden Layers**: Untuk masalah kompleks, jaringan yang dalam (*deep networks*) lebih efisien parameter dan belajar fitur hierarkis (transfer learning)[cite: 323, 324]. [cite_start]Mulai dengan 1-2 lapisan tersembunyi, tingkatkan hingga *overfitting*[cite: 324].\n",
        "    * [cite_start]**Jumlah Neurons per Hidden Layer**: Ditentukan oleh input/output[cite: 324]. Untuk lapisan tersembunyi, dapat menggunakan jumlah neuron yang sama di semua lapisan, atau lapisan pertama lebih besar. Lebih efisien meningkatkan jumlah lapisan daripada neuron per lapisan.\n",
        "    * **Learning Rate, Batch Size, dll.**:\n",
        "        * **Learning Rate**: Hyperparameter paling penting. Optimalnya sekitar setengah dari *learning rate* maksimum yang menyebabkan divergensi. Teknik pencarian: meningkatkan *learning rate* secara eksponensial dan mencari titik di mana *loss* mulai melonjak.\n",
        "        * [cite_start]**Optimizer**: Penting untuk menggunakan *optimizer* yang lebih canggih daripada Gradient Descent biasa (akan dibahas di Bab 11)[cite: 326].\n",
        "        * [cite_start]**Batch Size**: Besar *batch size* bisa mempercepat pelatihan (GPU efisien), tetapi bisa menyebabkan ketidakstabilan atau generalisasi yang buruk[cite: 326]. [cite_start]Ada debat tentang ukuran optimal (dari 2-32 hingga ribuan)[cite: 326].\n",
        "        * [cite_start]**Activation Function**: ReLU (atau variannya) adalah pilihan default yang baik untuk *hidden layers*[cite: 326]. [cite_start]Output layer tergantung tugas[cite: 326].\n",
        "        * [cite_start]**Jumlah Iterasi**: Umumnya tidak perlu disesuaikan, gunakan *early stopping*[cite: 327].\n",
        "\n",
        "## Analisis dan Relevansi untuk Mahasiswa\n",
        "\n",
        "Bab 10 adalah titik masuk yang fundamental ke dunia Deep Learning, yang sangat relevan bagi mahasiswa karena:\n",
        "\n",
        "* **Jembatan Teori-Praktik**: Bab ini secara efektif menjembatani teori di balik ANNs (dari neuron biologis hingga backpropagation) dengan implementasi praktis menggunakan Keras. Ini penting bagi mahasiswa untuk memahami \"mengapa\" dan \"bagaimana\".\n",
        "* **Pengenalan Keras yang Komprehensif**: Keras disajikan sebagai alat utama untuk membangun jaringan saraf, yang sangat penting karena Keras adalah API standar de-facto di TensorFlow dan sangat populer di industri. Mahasiswa mempelajari API Sequential, Functional, dan Subclassing, memberikan fleksibilitas untuk berbagai arsitektur.\n",
        "* **Manajemen Pelatihan Model**: Konsep-konsep seperti kompilasi model, pelatihan (`fit()`), evaluasi (`evaluate()`), prediksi (`predict()`), dan penggunaan *callbacks* (ModelCheckpoint, EarlyStopping) adalah keterampilan praktis yang esensial untuk setiap proyek Deep Learning.\n",
        "* **Debugging dan Pemantauan**: Penggunaan TensorBoard untuk visualisasi kurva belajar dan log pelatihan adalah alat penting untuk pemantauan dan debugging model, yang sangat relevan dalam siklus hidup proyek ML.\n",
        "* **Pemahaman Hyperparameter Tuning**: Diskusi mendalam tentang *hyperparameter tuning*, termasuk jumlah lapisan/neuron dan fungsi aktivasi, mempersiapkan mahasiswa untuk tantangan dalam mengoptimalkan model DNN. Panduan praktis tentang fungsi aktivasi dan inisialisasi bobot adalah sangat berharga.\n",
        "* **Evolusi ANNs**: Mempelajari sejarah ANNs, termasuk \"musim dingin\" dan kebangkitan kembali, memberikan konteks historis dan menunjukkan sifat dinamis bidang ini.\n",
        "\n",
        "## Kesimpulan\n",
        "\n",
        "Bab 10 adalah pengantar yang sangat kuat dan praktis untuk Jaringan Saraf Tiruan dan Deep Learning dengan Keras. Mahasiswa yang menguasai bab ini akan memiliki dasar yang kokoh untuk membangun, melatih, mengevaluasi, dan menyetel model jaringan saraf untuk berbagai tugas klasifikasi dan regresi. Pemahaman ini mutlak diperlukan sebelum melangkah ke arsitektur DNN yang lebih kompleks dan teknik pelatihan tingkat lanjut."
      ],
      "metadata": {
        "id": "ymj5YPQaSYv4"
      }
    },
    {
      "cell_type": "code",
      "source": [
        "# Import library yang diperlukan\n",
        "import numpy as np\n",
        "import pandas as pd\n",
        "import matplotlib.pyplot as plt\n",
        "import tensorflow as tf\n",
        "from tensorflow import keras\n",
        "import os\n",
        "\n",
        "# Mengatur seed untuk reproducibility\n",
        "np.random.seed(42)\n",
        "tf.random.set_seed(42)\n",
        "\n",
        "# --- BAGIAN 1: MEMUAT DAN MENYIAPKAN DATASET ---\n",
        "print(\"--- Memuat dan Menyiapkan Dataset Fashion MNIST ---\")\n",
        "\n",
        "# Memuat dataset Fashion MNIST\n",
        "fashion_mnist = keras.datasets.fashion_mnist\n",
        "(X_train_full, y_train_full), (X_test, y_test) = fashion_mnist.load_data()\n",
        "\n",
        "print(f\"Bentuk X_train_full: {X_train_full.shape}\")\n",
        "print(f\"Tipe data X_train_full: {X_train_full.dtype}\")\n",
        "\n",
        "# Memisahkan validation set dan menskalakan fitur\n",
        "# Menskalakan intensitas piksel ke rentang 0-1\n",
        "X_valid, X_train = X_train_full[:5000] / 255.0, X_train_full[5000:] / 255.0\n",
        "y_valid, y_train = y_train_full[:5000], y_train_full[5000:]\n",
        "\n",
        "# Daftar nama kelas untuk Fashion MNIST\n",
        "class_names = [\"T-shirt/top\", \"Trouser\", \"Pullover\", \"Dress\", \"Coat\",\n",
        "               \"Sandal\", \"Shirt\", \"Sneaker\", \"Bag\", \"Ankle boot\"]\n",
        "print(f\"Nama kelas untuk y_train[0]: {class_names[y_train[0]]}\")\n",
        "\n",
        "# Menampilkan beberapa sampel gambar (opsional)\n",
        "plt.figure(figsize=(10, 5))\n",
        "for i in range(10):\n",
        "    plt.subplot(2, 5, i + 1)\n",
        "    plt.imshow(X_train[i], cmap=\"binary\")\n",
        "    plt.title(class_names[y_train[i]])\n",
        "    plt.axis(\"off\")\n",
        "plt.suptitle(\"Sampel Fashion MNIST\")\n",
        "plt.tight_layout(rect=[0, 0, 1, 0.95])\n",
        "plt.show()\n",
        "\n",
        "\n",
        "# --- BAGIAN 2: MEMBANGUN MODEL DENGAN SEQUENTIAL API ---\n",
        "print(\"\\n--- Membangun Model dengan Sequential API ---\")\n",
        "\n",
        "# Model MLP dengan two hidden layer\n",
        "model = keras.models.Sequential([\n",
        "    keras.layers.Flatten(input_shape=[28, 28]),\n",
        "    keras.layers.Dense(300, activation=\"relu\"),\n",
        "    keras.layers.Dense(100, activation=\"relu\"),\n",
        "    keras.layers.Dense(10, activation=\"softmax\")\n",
        "])\n",
        "\n",
        "# Atau bisa juga dengan cara ini (list of layers)\n",
        "# model = keras.models.Sequential([\n",
        "#     keras.layers.Flatten(input_shape=[28, 28]),\n",
        "#     keras.layers.Dense(300, activation=\"relu\"),\n",
        "#     keras.layers.Dense(100, activation=\"relu\"),\n",
        "#     keras.layers.Dense(10, activation=\"softmax\")\n",
        "# ])\n",
        "\n",
        "model.summary()\n",
        "\n",
        "# Mengakses lapisan dan bobot\n",
        "hidden1 = model.layers[1]\n",
        "print(f\"\\nNama lapisan pertama (hidden1): {hidden1.name}\")\n",
        "# Use the correct generated name of the layer or access by index\n",
        "print(f\"Apakah model.get_layer('{hidden1.name}') adalah hidden1? {model.get_layer(hidden1.name) is hidden1}\")\n",
        "\n",
        "\n",
        "weights, biases = hidden1.get_weights()\n",
        "print(f\"Bentuk bobot hidden1: {weights.shape}\")\n",
        "print(f\"Bentuk bias hidden1: {biases.shape}\")\n",
        "# print(f\"Bobot hidden1 (beberapa contoh):\\n{weights[:3, :3]}\")\n",
        "# print(f\"Bias hidden1 (beberapa contoh): {biases[:3]}\")\n",
        "\n",
        "\n",
        "# --- BAGIAN 3: KOMPILASI MODEL ---\n",
        "print(\"\\n--- Kompilasi Model ---\")\n",
        "\n",
        "model.compile(loss=\"sparse_categorical_crossentropy\",\n",
        "              optimizer=\"sgd\",\n",
        "              metrics=[\"accuracy\"])\n",
        "\n",
        "print(\"Model telah dikompilasi.\")\n",
        "\n",
        "\n",
        "# --- BAGIAN 4: MELATIH DAN MENGEVALUASI MODEL ---\n",
        "print(\"\\n--- Melatih dan Mengevaluasi Model ---\")\n",
        "\n",
        "history = model.fit(X_train, y_train, epochs=30,\n",
        "                    validation_data=(X_valid, y_valid))\n",
        "\n",
        "print(\"\\nModel telah selesai dilatih.\")\n",
        "\n",
        "# Menampilkan kurva belajar\n",
        "pd.DataFrame(history.history).plot(figsize=(8, 5))\n",
        "plt.grid(True)\n",
        "plt.gca().set_ylim(0, 1) # Mengatur rentang vertikal ke [0-1]\n",
        "plt.title(\"Kurva Belajar\")\n",
        "plt.xlabel(\"Epochs\")\n",
        "plt.ylabel(\"Akurasi / Loss\")\n",
        "plt.show()\n",
        "\n",
        "# Mengevaluasi model pada test set\n",
        "mse_test, accuracy_test = model.evaluate(X_test, y_test)\n",
        "print(f\"\\nLoss pada test set: {mse_test:.4f}\")\n",
        "print(f\"Akurasi pada test set: {accuracy_test:.4f}\")\n",
        "\n",
        "\n",
        "# --- BAGIAN 5: MENGGUNAKAN MODEL UNTUK PREDIKSI ---\n",
        "print(\"\\n--- Menggunakan Model untuk Prediksi ---\")\n",
        "\n",
        "# Mengambil beberapa instance baru (misalnya, 3 instance pertama dari test set)\n",
        "X_new = X_test[:3]\n",
        "\n",
        "# Mendapatkan probabilitas kelas\n",
        "y_proba = model.predict(X_new)\n",
        "print(f\"\\nProbabilitas prediksi untuk X_new (dibulatkan):\\n{y_proba.round(2)}\")\n",
        "\n",
        "# Mendapatkan prediksi kelas langsung\n",
        "y_pred_classes = np.argmax(y_proba, axis=1) # Mengganti predict_classes() yang deprecated\n",
        "# y_pred_classes = model.predict_classes(X_new) # Metode lama\n",
        "print(f\"\\nPrediksi kelas untuk X_new: {y_pred_classes}\")\n",
        "print(f\"Nama kelas prediksi: {np.array(class_names)[y_pred_classes]}\")\n",
        "\n",
        "# Membandingkan dengan label sebenarnya\n",
        "y_new = y_test[:3]\n",
        "print(f\"Label sebenarnya untuk X_new: {y_new}\")\n",
        "print(f\"Nama kelas sebenarnya: {np.array(class_names)[y_new]}\")\n",
        "\n",
        "\n",
        "# --- BAGIAN 6: MEMBANGUN REGRESSION MLP DENGAN SEQUENTIAL API ---\n",
        "print(\"\\n--- Membangun Regression MLP dengan Sequential API ---\")\n",
        "\n",
        "from sklearn.datasets import fetch_california_housing\n",
        "from sklearn.model_selection import train_test_split\n",
        "from sklearn.preprocessing import StandardScaler\n",
        "\n",
        "# Memuat dataset California Housing\n",
        "housing = fetch_california_housing()\n",
        "X_train_full_reg, X_test_reg, y_train_full_reg, y_test_reg = train_test_split(\n",
        "    housing.data, housing.target, random_state=42)\n",
        "X_train_reg, X_valid_reg, y_train_reg, y_valid_reg = train_test_split(\n",
        "    X_train_full_reg, y_train_full_reg, random_state=42)\n",
        "\n",
        "# Menskalakan fitur\n",
        "scaler = StandardScaler()\n",
        "X_train_reg_scaled = scaler.fit_transform(X_train_reg)\n",
        "X_valid_reg_scaled = scaler.transform(X_valid_reg)\n",
        "X_test_reg_scaled = scaler.transform(X_test_reg)\n",
        "\n",
        "# Model Regression MLP\n",
        "model_reg = keras.models.Sequential([\n",
        "    keras.layers.Dense(30, activation=\"relu\", input_shape=X_train_reg_scaled.shape[1:]),\n",
        "    keras.layers.Dense(1) # Output layer tunggal neuron, tanpa aktivasi\n",
        "])\n",
        "\n",
        "model_reg.compile(loss=\"mean_squared_error\", optimizer=\"sgd\")\n",
        "history_reg = model_reg.fit(X_train_reg_scaled, y_train_reg, epochs=20,\n",
        "                            validation_data=(X_valid_reg_scaled, y_valid_reg))\n",
        "\n",
        "mse_test_reg = model_reg.evaluate(X_test_reg_scaled, y_test_reg)\n",
        "print(f\"\\nMSE pada test set (Regresi): {mse_test_reg:.4f}\")\n",
        "\n",
        "X_new_reg = X_test_reg_scaled[:3] # Contoh instance baru\n",
        "y_pred_reg = model_reg.predict(X_new_reg)\n",
        "print(f\"Prediksi Regresi untuk X_new_reg:\\n{y_pred_reg}\")\n",
        "print(f\"Label sebenarnya untuk X_new_reg: {y_test_reg[:3]}\")\n",
        "\n",
        "\n",
        "# --- BAGIAN 7: MEMBANGUN MODEL KOMPLEKS DENGAN FUNCTIONAL API ---\n",
        "print(\"\\n--- Membangun Model Kompleks dengan Functional API ---\")\n",
        "\n",
        "# Contoh Wide & Deep model (Gambar 10-14)\n",
        "input_ = keras.layers.Input(shape=X_train_reg_scaled.shape[1:])\n",
        "hidden1 = keras.layers.Dense(30, activation=\"relu\")(input_)\n",
        "hidden2 = keras.layers.Dense(30, activation=\"relu\")(hidden1)\n",
        "concat = keras.layers.Concatenate()([input_, hidden2])\n",
        "output = keras.layers.Dense(1)(concat)\n",
        "model_functional = keras.Model(inputs=[input_], outputs=[output])\n",
        "\n",
        "model_functional.compile(loss=\"mse\", optimizer=\"sgd\")\n",
        "model_functional.fit(X_train_reg_scaled, y_train_reg, epochs=5)\n",
        "print(\"Model Functional API (Wide & Deep sederhana) telah dilatih.\")\n",
        "\n",
        "\n",
        "# Contoh model dengan Multiple Inputs (Gambar 10-15)\n",
        "input_A = keras.layers.Input(shape=[5], name=\"wide_input\") # 5 fitur untuk wide path\n",
        "input_B = keras.layers.Input(shape=[6], name=\"deep_input\") # 6 fitur untuk deep path\n",
        "hidden1_B = keras.layers.Dense(30, activation=\"relu\")(input_B)\n",
        "hidden2_B = keras.layers.Dense(30, activation=\"relu\")(hidden1_B)\n",
        "concat_AB = keras.layers.concatenate([input_A, hidden2_B])\n",
        "output_multi_input = keras.layers.Dense(1, name=\"output\")(concat_AB)\n",
        "model_multi_input = keras.Model(inputs=[input_A, input_B], outputs=[output_multi_input])\n",
        "\n",
        "model_multi_input.compile(loss=\"mse\", optimizer=\"sgd\")\n",
        "# Siapkan data untuk multiple inputs\n",
        "X_train_A, X_train_B = X_train_reg_scaled[:, :5], X_train_reg_scaled[:, 2:]\n",
        "X_valid_A, X_valid_B = X_valid_reg_scaled[:, :5], X_valid_reg_scaled[:, 2:]\n",
        "X_test_A, X_test_B = X_test_reg_scaled[:, :5], X_test_reg_scaled[:, 2:]\n",
        "\n",
        "model_multi_input.fit((X_train_A, X_train_B), y_train_reg, epochs=5,\n",
        "                      validation_data=((X_valid_A, X_valid_B), y_valid_reg))\n",
        "print(\"Model Functional API (Multiple Inputs) telah dilatih.\")\n",
        "\n",
        "\n",
        "# Contoh model dengan Multiple Outputs (Gambar 10-16)\n",
        "output_main = keras.layers.Dense(1, name=\"main_output\")(concat_AB)\n",
        "aux_output = keras.layers.Dense(1, name=\"aux_output\")(hidden2_B)\n",
        "model_multi_output = keras.Model(inputs=[input_A, input_B], outputs=[output_main, aux_output])\n",
        "\n",
        "# Kompilasi dengan multiple losses dan loss_weights\n",
        "model_multi_output.compile(loss=[\"mse\", \"mse\"], loss_weights=[0.9, 0.1], optimizer=\"sgd\")\n",
        "model_multi_output.fit((X_train_A, X_train_B), (y_train_reg, y_train_reg), epochs=5,\n",
        "                       validation_data=((X_valid_A, X_valid_B), (y_valid_reg, y_valid_reg)))\n",
        "print(\"Model Functional API (Multiple Outputs) telah dilatih.\")\n",
        "\n",
        "\n",
        "# --- BAGIAN 8: MEMBANGUN MODEL DINAMIS DENGAN SUBCLASSING API ---\n",
        "print(\"\\n--- Membangun Model Dinamis dengan Subclassing API ---\")\n",
        "\n",
        "class WideAndDeepModel(keras.Model):\n",
        "    def __init__(self, units=30, activation=\"relu\", **kwargs):\n",
        "        super().__init__(**kwargs)\n",
        "        self.hidden1 = keras.layers.Dense(units, activation=activation)\n",
        "        self.hidden2 = keras.layers.Dense(units, activation=activation)\n",
        "        self.main_output = keras.layers.Dense(1)\n",
        "        self.aux_output = keras.layers.Dense(1)\n",
        "\n",
        "    def call(self, inputs):\n",
        "        input_A, input_B = inputs\n",
        "        hidden1 = self.hidden1(input_B)\n",
        "        hidden2 = self.hidden2(hidden1)\n",
        "        concat = keras.layers.concatenate([input_A, hidden2])\n",
        "        main_output = self.main_output(concat)\n",
        "        aux_output = self.aux_output(hidden2)\n",
        "        return main_output, aux_output\n",
        "\n",
        "model_subclass = WideAndDeepModel()\n",
        "model_subclass.compile(loss=[\"mse\", \"mse\"], loss_weights=[0.9, 0.1], optimizer=\"sgd\")\n",
        "model_subclass.fit((X_train_A, X_train_B), (y_train_reg, y_train_reg), epochs=5)\n",
        "print(\"Model Subclassing API telah dilatih.\")\n",
        "\n",
        "\n",
        "# --- BAGIAN 9: MENYIMPAN DAN MEMULIHKAN MODEL ---\n",
        "print(\"\\n--- Menyimpan dan Memulihkan Model ---\")\n",
        "\n",
        "# Menyimpan model Sequential/Functional API\n",
        "model.save(\"my_keras_model.h5\")\n",
        "print(\"Model 'my_keras_model.h5' berhasil disimpan.\")\n",
        "\n",
        "# Memuat model\n",
        "loaded_model = keras.models.load_model(\"my_keras_model.h5\")\n",
        "print(\"Model berhasil dimuat dari 'my_keras_model.h5'.\")\n",
        "\n",
        "# Untuk model subclassed, hanya bobot yang mudah disimpan\n",
        "# model_subclass.save_weights(\"my_subclass_weights.h5\")\n",
        "# new_model_instance = WideAndDeepModel()\n",
        "# new_model_instance.build((X_train_A.shape, X_train_B.shape)) # Harus membangun model terlebih dahulu\n",
        "# new_model_instance.load_weights(\"my_subclass_weights.h5\")\n",
        "# print(\"Bobot model subclassed berhasil disimpan dan dimuat.\")\n",
        "\n",
        "\n",
        "# --- BAGIAN 10: MENGGUNAKAN CALLBACKS ---\n",
        "print(\"\\n--- Menggunakan Callbacks ---\")\n",
        "\n",
        "# ModelCheckpoint untuk menyimpan model terbaik\n",
        "checkpoint_cb = keras.callbacks.ModelCheckpoint(\"my_keras_model.h5\", save_best_only=True)\n",
        "\n",
        "# EarlyStopping\n",
        "early_stopping_cb = keras.callbacks.EarlyStopping(patience=10, restore_best_weights=True)\n",
        "\n",
        "# Melatih model dengan callbacks\n",
        "model_cb = keras.models.Sequential([\n",
        "    keras.layers.Flatten(input_shape=[28, 28]),\n",
        "    keras.layers.Dense(300, activation=\"relu\"),\n",
        "    keras.layers.Dense(100, activation=\"relu\"),\n",
        "    keras.layers.Dense(10, activation=\"softmax\")\n",
        "])\n",
        "model_cb.compile(loss=\"sparse_categorical_crossentropy\", optimizer=\"sgd\", metrics=[\"accuracy\"])\n",
        "print(\"\\nMelatih model dengan ModelCheckpoint dan EarlyStopping...\")\n",
        "history_cb = model_cb.fit(X_train, y_train, epochs=100, # Epochs besar, ES akan menghentikan\n",
        "                          validation_data=(X_valid, y_valid),\n",
        "                          callbacks=[checkpoint_cb, early_stopping_cb])\n",
        "print(\"Pelatihan dengan callbacks selesai.\")\n",
        "\n",
        "# Memulihkan model terbaik yang disimpan oleh ModelCheckpoint (jika save_best_only=True)\n",
        "# Jika restore_best_weights=True di EarlyStopping, model_cb sudah yang terbaik\n",
        "if not early_stopping_cb.restore_best_weights:\n",
        "    best_model = keras.models.load_model(\"my_keras_model.h5\")\n",
        "    print(\"Model terbaik dimuat kembali.\")\n",
        "else:\n",
        "    best_model = model_cb\n",
        "    print(\"Model terbaik sudah dipulihkan oleh EarlyStopping.\")\n",
        "\n",
        "\n",
        "# Custom Callback\n",
        "class PrintValTrainRatioCallback(keras.callbacks.Callback):\n",
        "    def on_epoch_end(self, epoch, logs):\n",
        "        if logs and \"val_loss\" in logs and \"loss\" in logs:\n",
        "            print(f\"\\nval/train loss ratio: {logs['val_loss'] / logs['loss']:.2f}\")\n",
        "\n",
        "model_cb_custom = keras.models.Sequential([\n",
        "    keras.layers.Flatten(input_shape=[28, 28]),\n",
        "    keras.layers.Dense(300, activation=\"relu\"),\n",
        "    keras.layers.Dense(100, activation=\"relu\"),\n",
        "    keras.layers.Dense(10, activation=\"softmax\")\n",
        "])\n",
        "model_cb_custom.compile(loss=\"sparse_categorical_crossentropy\", optimizer=\"sgd\", metrics=[\"accuracy\"])\n",
        "print(\"\\nMelatih model dengan Custom Callback...\")\n",
        "model_cb_custom.fit(X_train, y_train, epochs=5,\n",
        "                     validation_data=(X_valid, y_valid),\n",
        "                     callbacks=[PrintValTrainRatioCallback()])\n",
        "print(\"Pelatihan dengan custom callback selesai.\")\n",
        "\n",
        "\n",
        "# --- BAGIAN 11: MENGGUNAKAN TENSORBOARD UNTUK VISUALISASI ---\n",
        "print(\"\\n--- Menggunakan TensorBoard untuk Visualisasi ---\")\n",
        "\n",
        "# Fungsi untuk membuat direktori log TensorBoard\n",
        "def get_run_logdir():\n",
        "    import time\n",
        "    run_id = time.strftime(\"run_%Y_%m_%d-%H_%M_%S\")\n",
        "    return os.path.join(os.curdir, \"my_logs\", run_id)\n",
        "\n",
        "run_logdir = get_run_logdir()\n",
        "tensorboard_cb = keras.callbacks.TensorBoard(run_logdir)\n",
        "\n",
        "# Melatih model dengan TensorBoard callback\n",
        "model_tb = keras.models.Sequential([\n",
        "    keras.layers.Flatten(input_shape=[28, 28]),\n",
        "    keras.layers.Dense(300, activation=\"relu\"),\n",
        "    keras.layers.Dense(100, activation=\"relu\"),\n",
        "    keras.layers.Dense(10, activation=\"softmax\")\n",
        "])\n",
        "model_tb.compile(loss=\"sparse_categorical_crossentropy\", optimizer=\"sgd\", metrics=[\"accuracy\"])\n",
        "print(\"\\nMelatih model dengan TensorBoard Callback...\")\n",
        "model_tb.fit(X_train, y_train, epochs=5,\n",
        "             validation_data=(X_valid, y_valid),\n",
        "             callbacks=[tensorboard_cb])\n",
        "print(\"Pelatihan dengan TensorBoard callback selesai. Sekarang Anda bisa menjalankan TensorBoard.\")\n",
        "print(f\"Jalankan di terminal: tensorboard --logdir={os.path.join(os.curdir, 'my_logs')}\")\n",
        "\n",
        "# Contoh logging ke TensorBoard secara manual (tf.summary)\n",
        "print(\"\\nLogging ke TensorBoard secara manual (tf.summary):\")\n",
        "test_logdir = get_run_logdir()\n",
        "writer = tf.summary.create_file_writer(test_logdir)\n",
        "with writer.as_default():\n",
        "    for step in range(1, 10 + 1): # Hanya 10 langkah untuk demo\n",
        "        tf.summary.scalar(\"my_scalar\", np.sin(step / 10), step=step)\n",
        "        data = (np.random.randn(100) + 2) * step / 10 # Beberapa data acak\n",
        "        tf.summary.histogram(\"my_hist\", data, buckets=50, step=step)\n",
        "        images = np.random.rand(2, 32, 32, 3) # Gambar RGB acak\n",
        "        tf.summary.image(\"my_images\", images * step / 10, step=step)\n",
        "        texts = [f\"Langkah adalah {step}\", f\"Kuadratnya adalah {step**2}\"]\n",
        "        tf.summary.text(\"my_text\", texts, step=step)\n",
        "print(\"Logging manual selesai.\")\n",
        "\n",
        "# --- BAGIAN 12: FINE-TUNING NEURAL NETWORK HYPERPARAMETERS (BAGIAN REGRESI) ---\n",
        "print(\"\\n--- Fine-Tuning Neural Network Hyperparameters (Regresi) ---\")\n",
        "\n",
        "from scipy.stats import reciprocal\n",
        "from sklearn.model_selection import RandomizedSearchCV\n",
        "from sklearn.datasets import fetch_california_housing\n",
        "from sklearn.model_selection import train_test_split\n",
        "from sklearn.preprocessing import StandardScaler\n",
        "\n",
        "# Memuat dan menyiapkan data California Housing (sudah dilakukan di atas, tapi diulang untuk kemandirian bagian ini)\n",
        "housing = fetch_california_housing()\n",
        "X_train_full_reg, X_test_reg, y_train_full_reg, y_test_reg = train_test_split(\n",
        "    housing.data, housing.target, random_state=42)\n",
        "X_train_reg, X_valid_reg, y_train_reg, y_valid_reg = train_test_split(\n",
        "    X_train_full_reg, y_train_full_reg, random_state=42)\n",
        "scaler_hp = StandardScaler() # Ganti nama scaler agar tidak bentrok\n",
        "X_train_reg_scaled = scaler_hp.fit_transform(X_train_reg)\n",
        "X_valid_reg_scaled = scaler_hp.transform(X_valid_reg)\n",
        "X_test_reg_scaled = scaler_hp.transform(X_test_reg)\n",
        "\n",
        "# Fungsi untuk membangun model Keras (regression MLP)\n",
        "def build_model_hp(n_hidden=1, n_neurons=30, learning_rate=3e-3, input_shape=[8]):\n",
        "    model = keras.models.Sequential()\n",
        "    model.add(keras.layers.InputLayer(input_shape=input_shape))\n",
        "    for layer in range(n_hidden):\n",
        "        model.add(keras.layers.Dense(n_neurons, activation=\"relu\"))\n",
        "    model.add(keras.layers.Dense(1)) # Output neuron tunggal untuk regresi\n",
        "    optimizer = keras.optimizers.SGD(learning_rate=learning_rate)\n",
        "    model.compile(loss=\"mse\", optimizer=optimizer)\n",
        "    return model\n",
        "\n",
        "# Membuat KerasRegressor wrapper\n",
        "# keras.wrappers.scikit_learn.KerasRegressor telah dipindahkan/diubah di TF 2.x\n",
        "# Sesuai buku, Anda mungkin perlu menginstal tf-keras-wrappers (pip install tf-keras-wrappers)\n",
        "# atau menggunakan implementasi dari repositori buku\n",
        "# Untuk tujuan reproduksi, saya akan menggunakan implementasi dari buku:\n",
        "from tensorflow.python.keras.wrappers.scikit_learn import KerasRegressor\n",
        "\n",
        "keras_reg = KerasRegressor(build_fn=build_model_hp)\n",
        "\n",
        "# Menentukan ruang pencarian hyperparameter\n",
        "param_distribs = {\n",
        "    \"n_hidden\": [0, 1, 2, 3],\n",
        "    \"n_neurons\": np.arange(1, 100),\n",
        "    \"learning_rate\": reciprocal(3e-4, 3e-2),\n",
        "}\n",
        "\n",
        "# Melakukan Randomized Search with Cross-Validation\n",
        "print(\"\\nMelakukan Randomized Search (ini mungkin memakan waktu lama)...\")\n",
        "rnd_search_cv = RandomizedSearchCV(keras_reg, param_distribs, n_iter=10, cv=3, random_state=42, verbose=0, n_jobs=-1)\n",
        "rnd_search_cv.fit(X_train_reg_scaled, y_train_reg, epochs=10, # Small epochs for demo\n",
        "                  validation_data=(X_valid_reg_scaled, y_valid_reg),\n",
        "                  callbacks=[keras.callbacks.EarlyStopping(patience=10)])\n",
        "print(\"Randomized Search selesai.\")\n",
        "\n",
        "# Menampilkan hasil terbaik\n",
        "print(f\"\\nParameter terbaik: {rnd_search_cv.best_params_}\")\n",
        "print(f\"Skor terbaik (negatif MSE): {rnd_search_cv.best_score_:.4f}\")\n",
        "\n",
        "# Mendapatkan model terbaik\n",
        "best_model_hp = rnd_search_cv.best_estimator_.model\n",
        "print(\"Model terbaik dari Randomized Search:\")\n",
        "best_model_hp.summary()\n",
        "\n",
        "# Mengevaluasi model terbaik pada test set\n",
        "mse_test_best_hp = best_model_hp.evaluate(X_test_reg_scaled, y_test_reg)\n",
        "print(f\"MSE model terbaik pada test set: {mse_test_best_hp:.4f}\")"
      ],
      "metadata": {
        "colab": {
          "base_uri": "https://localhost:8080/",
          "height": 1000
        },
        "id": "tOnqbQZEYUnC",
        "outputId": "8f35ed9f-acea-4aa9-e981-993f4791f3f7"
      },
      "execution_count": 5,
      "outputs": [
        {
          "output_type": "stream",
          "name": "stdout",
          "text": [
            "--- Memuat dan Menyiapkan Dataset Fashion MNIST ---\n",
            "Bentuk X_train_full: (60000, 28, 28)\n",
            "Tipe data X_train_full: uint8\n",
            "Nama kelas untuk y_train[0]: Coat\n"
          ]
        },
        {
          "output_type": "display_data",
          "data": {
            "text/plain": [
              "<Figure size 1000x500 with 10 Axes>"
            ],
            "image/png": "[encoded data removed]"
          },
          "metadata": {}
        },
        {
          "output_type": "stream",
          "name": "stdout",
          "text": [
            "\n",
            "--- Membangun Model dengan Sequential API ---\n"
          ]
        },
        {
          "output_type": "stream",
          "name": "stderr",
          "text": [
            "/usr/local/lib/python3.11/dist-packages/keras/src/layers/reshaping/flatten.py:37: UserWarning: Do not pass an `input_shape`/`input_dim` argument to a layer. When using Sequential models, prefer using an `Input(shape)` object as the first layer in the model instead.\n",
            "  super().__init__(**kwargs)\n"
          ]
        },
        {
          "output_type": "display_data",
          "data": {
            "text/plain": [
              "\u001b[1mModel: \"sequential_8\"\u001b[0m\n"
            ],
            "text/html": [
              "<pre style=\"white-space:pre;overflow-x:auto;line-height:normal;font-family:Menlo,'DejaVu Sans Mono',consolas,'Courier New',monospace\"><span style=\"font-weight: bold\">Model: \"sequential_8\"</span>\n",
              "</pre>\n"
            ]
          },
          "metadata": {}
        },
        {
          "output_type": "display_data",
          "data": {
            "text/plain": [
              "┏━━━━━━━━━━━━━━━━━━━━━━━━━━━━━━━━━┳━━━━━━━━━━━━━━━━━━━━━━━━┳━━━━━━━━━━━━━━━┓\n",
              "┃\u001b[1m \u001b[0m\u001b[1mLayer (type)                   \u001b[0m\u001b[1m \u001b[0m┃\u001b[1m \u001b[0m\u001b[1mOutput Shape          \u001b[0m\u001b[1m \u001b[0m┃\u001b[1m \u001b[0m\u001b[1m      Param #\u001b[0m\u001b[1m \u001b[0m┃\n",
              "┡━━━━━━━━━━━━━━━━━━━━━━━━━━━━━━━━━╇━━━━━━━━━━━━━━━━━━━━━━━━╇━━━━━━━━━━━━━━━┩\n",
              "│ flatten_6 (\u001b[38;5;33mFlatten\u001b[0m)             │ (\u001b[38;5;45mNone\u001b[0m, \u001b[38;5;34m784\u001b[0m)            │             \u001b[38;5;34m0\u001b[0m │\n",
              "├─────────────────────────────────┼────────────────────────┼───────────────┤\n",
              "│ dense_36 (\u001b[38;5;33mDense\u001b[0m)                │ (\u001b[38;5;45mNone\u001b[0m, \u001b[38;5;34m300\u001b[0m)            │       \u001b[38;5;34m235,500\u001b[0m │\n",
              "├─────────────────────────────────┼────────────────────────┼───────────────┤\n",
              "│ dense_37 (\u001b[38;5;33mDense\u001b[0m)                │ (\u001b[38;5;45mNone\u001b[0m, \u001b[38;5;34m100\u001b[0m)            │        \u001b[38;5;34m30,100\u001b[0m │\n",
              "├─────────────────────────────────┼────────────────────────┼───────────────┤\n",
              "│ dense_38 (\u001b[38;5;33mDense\u001b[0m)                │ (\u001b[38;5;45mNone\u001b[0m, \u001b[38;5;34m10\u001b[0m)             │         \u001b[38;5;34m1,010\u001b[0m │\n",
              "└─────────────────────────────────┴────────────────────────┴───────────────┘\n"
            ],
            "text/html": [
              "<pre style=\"white-space:pre;overflow-x:auto;line-height:normal;font-family:Menlo,'DejaVu Sans Mono',consolas,'Courier New',monospace\">┏━━━━━━━━━━━━━━━━━━━━━━━━━━━━━━━━━┳━━━━━━━━━━━━━━━━━━━━━━━━┳━━━━━━━━━━━━━━━┓\n",
              "┃<span style=\"font-weight: bold\"> Layer (type)                    </span>┃<span style=\"font-weight: bold\"> Output Shape           </span>┃<span style=\"font-weight: bold\">       Param # </span>┃\n",
              "┡━━━━━━━━━━━━━━━━━━━━━━━━━━━━━━━━━╇━━━━━━━━━━━━━━━━━━━━━━━━╇━━━━━━━━━━━━━━━┩\n",
              "│ flatten_6 (<span style=\"color: #0087ff; text-decoration-color: #0087ff\">Flatten</span>)             │ (<span style=\"color: #00d7ff; text-decoration-color: #00d7ff\">None</span>, <span style=\"color: #00af00; text-decoration-color: #00af00\">784</span>)            │             <span style=\"color: #00af00; text-decoration-color: #00af00\">0</span> │\n",
              "├─────────────────────────────────┼────────────────────────┼───────────────┤\n",
              "│ dense_36 (<span style=\"color: #0087ff; text-decoration-color: #0087ff\">Dense</span>)                │ (<span style=\"color: #00d7ff; text-decoration-color: #00d7ff\">None</span>, <span style=\"color: #00af00; text-decoration-color: #00af00\">300</span>)            │       <span style=\"color: #00af00; text-decoration-color: #00af00\">235,500</span> │\n",
              "├─────────────────────────────────┼────────────────────────┼───────────────┤\n",
              "│ dense_37 (<span style=\"color: #0087ff; text-decoration-color: #0087ff\">Dense</span>)                │ (<span style=\"color: #00d7ff; text-decoration-color: #00d7ff\">None</span>, <span style=\"color: #00af00; text-decoration-color: #00af00\">100</span>)            │        <span style=\"color: #00af00; text-decoration-color: #00af00\">30,100</span> │\n",
              "├─────────────────────────────────┼────────────────────────┼───────────────┤\n",
              "│ dense_38 (<span style=\"color: #0087ff; text-decoration-color: #0087ff\">Dense</span>)                │ (<span style=\"color: #00d7ff; text-decoration-color: #00d7ff\">None</span>, <span style=\"color: #00af00; text-decoration-color: #00af00\">10</span>)             │         <span style=\"color: #00af00; text-decoration-color: #00af00\">1,010</span> │\n",
              "└─────────────────────────────────┴────────────────────────┴───────────────┘\n",
              "</pre>\n"
            ]
          },
          "metadata": {}
        },
        {
          "output_type": "display_data",
          "data": {
            "text/plain": [
              "\u001b[1m Total params: \u001b[0m\u001b[38;5;34m266,610\u001b[0m (1.02 MB)\n"
            ],
            "text/html": [
              "<pre style=\"white-space:pre;overflow-x:auto;line-height:normal;font-family:Menlo,'DejaVu Sans Mono',consolas,'Courier New',monospace\"><span style=\"font-weight: bold\"> Total params: </span><span style=\"color: #00af00; text-decoration-color: #00af00\">266,610</span> (1.02 MB)\n",
              "</pre>\n"
            ]
          },
          "metadata": {}
        },
        {
          "output_type": "display_data",
          "data": {
            "text/plain": [
              "\u001b[1m Trainable params: \u001b[0m\u001b[38;5;34m266,610\u001b[0m (1.02 MB)\n"
            ],
            "text/html": [
              "<pre style=\"white-space:pre;overflow-x:auto;line-height:normal;font-family:Menlo,'DejaVu Sans Mono',consolas,'Courier New',monospace\"><span style=\"font-weight: bold\"> Trainable params: </span><span style=\"color: #00af00; text-decoration-color: #00af00\">266,610</span> (1.02 MB)\n",
              "</pre>\n"
            ]
          },
          "metadata": {}
        },
        {
          "output_type": "display_data",
          "data": {
            "text/plain": [
              "\u001b[1m Non-trainable params: \u001b[0m\u001b[38;5;34m0\u001b[0m (0.00 B)\n"
            ],
            "text/html": [
              "<pre style=\"white-space:pre;overflow-x:auto;line-height:normal;font-family:Menlo,'DejaVu Sans Mono',consolas,'Courier New',monospace\"><span style=\"font-weight: bold\"> Non-trainable params: </span><span style=\"color: #00af00; text-decoration-color: #00af00\">0</span> (0.00 B)\n",
              "</pre>\n"
            ]
          },
          "metadata": {}
        },
        {
          "output_type": "stream",
          "name": "stdout",
          "text": [
            "\n",
            "Nama lapisan pertama (hidden1): dense_36\n",
            "Apakah model.get_layer('dense_36') adalah hidden1? True\n",
            "Bentuk bobot hidden1: (784, 300)\n",
            "Bentuk bias hidden1: (300,)\n",
            "\n",
            "--- Kompilasi Model ---\n",
            "Model telah dikompilasi.\n",
            "\n",
            "--- Melatih dan Mengevaluasi Model ---\n",
            "Epoch 1/30\n",
            "\u001b[1m1719/1719\u001b[0m \u001b[32m━━━━━━━━━━━━━━━━━━━━\u001b[0m\u001b[37m\u001b[0m \u001b[1m10s\u001b[0m 5ms/step - accuracy: 0.6959 - loss: 0.9666 - val_accuracy: 0.8204 - val_loss: 0.5226\n",
            "Epoch 2/30\n",
            "\u001b[1m1719/1719\u001b[0m \u001b[32m━━━━━━━━━━━━━━━━━━━━\u001b[0m\u001b[37m\u001b[0m \u001b[1m7s\u001b[0m 4ms/step - accuracy: 0.8255 - loss: 0.4981 - val_accuracy: 0.8426 - val_loss: 0.4591\n",
            "Epoch 3/30\n",
            "\u001b[1m1719/1719\u001b[0m \u001b[32m━━━━━━━━━━━━━━━━━━━━\u001b[0m\u001b[37m\u001b[0m \u001b[1m9s\u001b[0m 5ms/step - accuracy: 0.8432 - loss: 0.4476 - val_accuracy: 0.8548 - val_loss: 0.4261\n",
            "Epoch 4/30\n",
            "\u001b[1m1719/1719\u001b[0m \u001b[32m━━━━━━━━━━━━━━━━━━━━\u001b[0m\u001b[37m\u001b[0m \u001b[1m10s\u001b[0m 5ms/step - accuracy: 0.8523 - loss: 0.4174 - val_accuracy: 0.8616 - val_loss: 0.4057\n",
            "Epoch 5/30\n",
            "\u001b[1m1719/1719\u001b[0m \u001b[32m━━━━━━━━━━━━━━━━━━━━\u001b[0m\u001b[37m\u001b[0m \u001b[1m9s\u001b[0m 4ms/step - accuracy: 0.8595 - loss: 0.3965 - val_accuracy: 0.8662 - val_loss: 0.3902\n",
            "Epoch 6/30\n",
            "\u001b[1m1719/1719\u001b[0m \u001b[32m━━━━━━━━━━━━━━━━━━━━\u001b[0m\u001b[37m\u001b[0m \u001b[1m10s\u001b[0m 4ms/step - accuracy: 0.8648 - loss: 0.3797 - val_accuracy: 0.8684 - val_loss: 0.3798\n",
            "Epoch 7/30\n",
            "\u001b[1m1719/1719\u001b[0m \u001b[32m━━━━━━━━━━━━━━━━━━━━\u001b[0m\u001b[37m\u001b[0m \u001b[1m11s\u001b[0m 4ms/step - accuracy: 0.8698 - loss: 0.3659 - val_accuracy: 0.8704 - val_loss: 0.3703\n",
            "Epoch 8/30\n",
            "\u001b[1m1719/1719\u001b[0m \u001b[32m━━━━━━━━━━━━━━━━━━━━\u001b[0m\u001b[37m\u001b[0m \u001b[1m11s\u001b[0m 5ms/step - accuracy: 0.8745 - loss: 0.3541 - val_accuracy: 0.8728 - val_loss: 0.3629\n",
            "Epoch 9/30\n",
            "\u001b[1m1719/1719\u001b[0m \u001b[32m━━━━━━━━━━━━━━━━━━━━\u001b[0m\u001b[37m\u001b[0m \u001b[1m8s\u001b[0m 5ms/step - accuracy: 0.8777 - loss: 0.3434 - val_accuracy: 0.8744 - val_loss: 0.3563\n",
            "Epoch 10/30\n",
            "\u001b[1m1719/1719\u001b[0m \u001b[32m━━━━━━━━━━━━━━━━━━━━\u001b[0m\u001b[37m\u001b[0m \u001b[1m7s\u001b[0m 4ms/step - accuracy: 0.8810 - loss: 0.3340 - val_accuracy: 0.8768 - val_loss: 0.3503\n",
            "Epoch 11/30\n",
            "\u001b[1m1719/1719\u001b[0m \u001b[32m━━━━━━━━━━━━━━━━━━━━\u001b[0m\u001b[37m\u001b[0m \u001b[1m11s\u001b[0m 4ms/step - accuracy: 0.8835 - loss: 0.3255 - val_accuracy: 0.8776 - val_loss: 0.3460\n",
            "Epoch 12/30\n",
            "\u001b[1m1719/1719\u001b[0m \u001b[32m━━━━━━━━━━━━━━━━━━━━\u001b[0m\u001b[37m\u001b[0m \u001b[1m8s\u001b[0m 5ms/step - accuracy: 0.8860 - loss: 0.3177 - val_accuracy: 0.8792 - val_loss: 0.3412\n",
            "Epoch 13/30\n",
            "\u001b[1m1719/1719\u001b[0m \u001b[32m━━━━━━━━━━━━━━━━━━━━\u001b[0m\u001b[37m\u001b[0m \u001b[1m10s\u001b[0m 4ms/step - accuracy: 0.8879 - loss: 0.3104 - val_accuracy: 0.8786 - val_loss: 0.3365\n",
            "Epoch 14/30\n",
            "\u001b[1m1719/1719\u001b[0m \u001b[32m━━━━━━━━━━━━━━━━━━━━\u001b[0m\u001b[37m\u001b[0m \u001b[1m7s\u001b[0m 4ms/step - accuracy: 0.8905 - loss: 0.3036 - val_accuracy: 0.8808 - val_loss: 0.3331\n",
            "Epoch 15/30\n",
            "\u001b[1m1719/1719\u001b[0m \u001b[32m━━━━━━━━━━━━━━━━━━━━\u001b[0m\u001b[37m\u001b[0m \u001b[1m8s\u001b[0m 5ms/step - accuracy: 0.8928 - loss: 0.2971 - val_accuracy: 0.8824 - val_loss: 0.3304\n",
            "Epoch 16/30\n",
            "\u001b[1m1719/1719\u001b[0m \u001b[32m━━━━━━━━━━━━━━━━━━━━\u001b[0m\u001b[37m\u001b[0m \u001b[1m9s\u001b[0m 4ms/step - accuracy: 0.8952 - loss: 0.2909 - val_accuracy: 0.8828 - val_loss: 0.3276\n",
            "Epoch 17/30\n",
            "\u001b[1m1719/1719\u001b[0m \u001b[32m━━━━━━━━━━━━━━━━━━━━\u001b[0m\u001b[37m\u001b[0m \u001b[1m10s\u001b[0m 4ms/step - accuracy: 0.8976 - loss: 0.2851 - val_accuracy: 0.8836 - val_loss: 0.3247\n",
            "Epoch 18/30\n",
            "\u001b[1m1719/1719\u001b[0m \u001b[32m━━━━━━━━━━━━━━━━━━━━\u001b[0m\u001b[37m\u001b[0m \u001b[1m10s\u001b[0m 4ms/step - accuracy: 0.9000 - loss: 0.2797 - val_accuracy: 0.8850 - val_loss: 0.3229\n",
            "Epoch 19/30\n",
            "\u001b[1m1719/1719\u001b[0m \u001b[32m━━━━━━━━━━━━━━━━━━━━\u001b[0m\u001b[37m\u001b[0m \u001b[1m8s\u001b[0m 5ms/step - accuracy: 0.9022 - loss: 0.2744 - val_accuracy: 0.8852 - val_loss: 0.3217\n",
            "Epoch 20/30\n",
            "\u001b[1m1719/1719\u001b[0m \u001b[32m━━━━━━━━━━━━━━━━━━━━\u001b[0m\u001b[37m\u001b[0m \u001b[1m9s\u001b[0m 4ms/step - accuracy: 0.9044 - loss: 0.2693 - val_accuracy: 0.8838 - val_loss: 0.3201\n",
            "Epoch 21/30\n",
            "\u001b[1m1719/1719\u001b[0m \u001b[32m━━━━━━━━━━━━━━━━━━━━\u001b[0m\u001b[37m\u001b[0m \u001b[1m10s\u001b[0m 4ms/step - accuracy: 0.9063 - loss: 0.2644 - val_accuracy: 0.8854 - val_loss: 0.3188\n",
            "Epoch 22/30\n",
            "\u001b[1m1719/1719\u001b[0m \u001b[32m━━━━━━━━━━━━━━━━━━━━\u001b[0m\u001b[37m\u001b[0m \u001b[1m10s\u001b[0m 4ms/step - accuracy: 0.9079 - loss: 0.2596 - val_accuracy: 0.8856 - val_loss: 0.3184\n",
            "Epoch 23/30\n",
            "\u001b[1m1719/1719\u001b[0m \u001b[32m━━━━━━━━━━━━━━━━━━━━\u001b[0m\u001b[37m\u001b[0m \u001b[1m11s\u001b[0m 4ms/step - accuracy: 0.9097 - loss: 0.2547 - val_accuracy: 0.8858 - val_loss: 0.3170\n",
            "Epoch 24/30\n",
            "\u001b[1m1719/1719\u001b[0m \u001b[32m━━━━━━━━━━━━━━━━━━━━\u001b[0m\u001b[37m\u001b[0m \u001b[1m11s\u001b[0m 5ms/step - accuracy: 0.9109 - loss: 0.2503 - val_accuracy: 0.8858 - val_loss: 0.3160\n",
            "Epoch 25/30\n",
            "\u001b[1m1719/1719\u001b[0m \u001b[32m━━━━━━━━━━━━━━━━━━━━\u001b[0m\u001b[37m\u001b[0m \u001b[1m10s\u001b[0m 5ms/step - accuracy: 0.9132 - loss: 0.2459 - val_accuracy: 0.8856 - val_loss: 0.3155\n",
            "Epoch 26/30\n",
            "\u001b[1m1719/1719\u001b[0m \u001b[32m━━━━━━━━━━━━━━━━━━━━\u001b[0m\u001b[37m\u001b[0m \u001b[1m10s\u001b[0m 4ms/step - accuracy: 0.9148 - loss: 0.2418 - val_accuracy: 0.8870 - val_loss: 0.3135\n",
            "Epoch 27/30\n",
            "\u001b[1m1719/1719\u001b[0m \u001b[32m━━━━━━━━━━━━━━━━━━━━\u001b[0m\u001b[37m\u001b[0m \u001b[1m8s\u001b[0m 5ms/step - accuracy: 0.9166 - loss: 0.2376 - val_accuracy: 0.8874 - val_loss: 0.3132\n",
            "Epoch 28/30\n",
            "\u001b[1m1719/1719\u001b[0m \u001b[32m━━━━━━━━━━━━━━━━━━━━\u001b[0m\u001b[37m\u001b[0m \u001b[1m10s\u001b[0m 5ms/step - accuracy: 0.9179 - loss: 0.2336 - val_accuracy: 0.8882 - val_loss: 0.3119\n",
            "Epoch 29/30\n",
            "\u001b[1m1719/1719\u001b[0m \u001b[32m━━━━━━━━━━━━━━━━━━━━\u001b[0m\u001b[37m\u001b[0m \u001b[1m7s\u001b[0m 4ms/step - accuracy: 0.9192 - loss: 0.2297 - val_accuracy: 0.8878 - val_loss: 0.3114\n",
            "Epoch 30/30\n",
            "\u001b[1m1719/1719\u001b[0m \u001b[32m━━━━━━━━━━━━━━━━━━━━\u001b[0m\u001b[37m\u001b[0m \u001b[1m8s\u001b[0m 5ms/step - accuracy: 0.9202 - loss: 0.2258 - val_accuracy: 0.8890 - val_loss: 0.3116\n",
            "\n",
            "Model telah selesai dilatih.\n"
          ]
        },
        {
          "output_type": "display_data",
          "data": {
            "text/plain": [
              "<Figure size 800x500 with 1 Axes>"
            ],
            "image/png": "[encoded data removed]"
          },
          "metadata": {}
        },
        {
          "output_type": "stream",
          "name": "stdout",
          "text": [
            "\u001b[1m313/313\u001b[0m \u001b[32m━━━━━━━━━━━━━━━━━━━━\u001b[0m\u001b[37m\u001b[0m \u001b[1m1s\u001b[0m 3ms/step - accuracy: 0.8498 - loss: 67.2647\n",
            "\n",
            "Loss pada test set: 69.5830\n",
            "Akurasi pada test set: 0.8445\n",
            "\n",
            "--- Menggunakan Model untuk Prediksi ---\n"
          ]
        },
        {
          "output_type": "stream",
          "name": "stderr",
          "text": [
            "WARNING:tensorflow:5 out of the last 5 calls to <function TensorFlowTrainer.make_predict_function.<locals>.one_step_on_data_distributed at 0x78bdde823060> triggered tf.function retracing. Tracing is expensive and the excessive number of tracings could be due to (1) creating @tf.function repeatedly in a loop, (2) passing tensors with different shapes, (3) passing Python objects instead of tensors. For (1), please define your @tf.function outside of the loop. For (2), @tf.function has reduce_retracing=True option that can avoid unnecessary retracing. For (3), please refer to https://www.tensorflow.org/guide/function#controlling_retracing and https://www.tensorflow.org/api_docs/python/tf/function for  more details.\n"
          ]
        },
        {
          "output_type": "stream",
          "name": "stdout",
          "text": [
            "\u001b[1m1/1\u001b[0m \u001b[32m━━━━━━━━━━━━━━━━━━━━\u001b[0m\u001b[37m\u001b[0m \u001b[1m0s\u001b[0m 77ms/step\n",
            "\n",
            "Probabilitas prediksi untuk X_new (dibulatkan):\n",
            "[[0. 0. 0. 0. 0. 0. 0. 0. 0. 1.]\n",
            " [0. 0. 1. 0. 0. 0. 0. 0. 0. 0.]\n",
            " [0. 1. 0. 0. 0. 0. 0. 0. 0. 0.]]\n",
            "\n",
            "Prediksi kelas untuk X_new: [9 2 1]\n",
            "Nama kelas prediksi: ['Ankle boot' 'Pullover' 'Trouser']\n",
            "Label sebenarnya untuk X_new: [9 2 1]\n",
            "Nama kelas sebenarnya: ['Ankle boot' 'Pullover' 'Trouser']\n",
            "\n",
            "--- Membangun Regression MLP dengan Sequential API ---\n",
            "Epoch 1/20\n"
          ]
        },
        {
          "output_type": "stream",
          "name": "stderr",
          "text": [
            "/usr/local/lib/python3.11/dist-packages/keras/src/layers/core/dense.py:87: UserWarning: Do not pass an `input_shape`/`input_dim` argument to a layer. When using Sequential models, prefer using an `Input(shape)` object as the first layer in the model instead.\n",
            "  super().__init__(activity_regularizer=activity_regularizer, **kwargs)\n"
          ]
        },
        {
          "output_type": "stream",
          "name": "stdout",
          "text": [
            "\u001b[1m363/363\u001b[0m \u001b[32m━━━━━━━━━━━━━━━━━━━━\u001b[0m\u001b[37m\u001b[0m \u001b[1m2s\u001b[0m 4ms/step - loss: 1.4604 - val_loss: 8.2943\n",
            "Epoch 2/20\n",
            "\u001b[1m363/363\u001b[0m \u001b[32m━━━━━━━━━━━━━━━━━━━━\u001b[0m\u001b[37m\u001b[0m \u001b[1m2s\u001b[0m 3ms/step - loss: 0.5921 - val_loss: 16.8313\n",
            "Epoch 3/20\n",
            "\u001b[1m363/363\u001b[0m \u001b[32m━━━━━━━━━━━━━━━━━━━━\u001b[0m\u001b[37m\u001b[0m \u001b[1m1s\u001b[0m 3ms/step - loss: 0.5371 - val_loss: 6.4008\n",
            "Epoch 4/20\n",
            "\u001b[1m363/363\u001b[0m \u001b[32m━━━━━━━━━━━━━━━━━━━━\u001b[0m\u001b[37m\u001b[0m \u001b[1m1s\u001b[0m 2ms/step - loss: 0.4810 - val_loss: 0.9603\n",
            "Epoch 5/20\n",
            "\u001b[1m363/363\u001b[0m \u001b[32m━━━━━━━━━━━━━━━━━━━━\u001b[0m\u001b[37m\u001b[0m \u001b[1m1s\u001b[0m 3ms/step - loss: 0.4483 - val_loss: 0.4139\n",
            "Epoch 6/20\n",
            "\u001b[1m363/363\u001b[0m \u001b[32m━━━━━━━━━━━━━━━━━━━━\u001b[0m\u001b[37m\u001b[0m \u001b[1m1s\u001b[0m 3ms/step - loss: 0.4308 - val_loss: 0.3882\n",
            "Epoch 7/20\n",
            "\u001b[1m363/363\u001b[0m \u001b[32m━━━━━━━━━━━━━━━━━━━━\u001b[0m\u001b[37m\u001b[0m \u001b[1m1s\u001b[0m 3ms/step - loss: 0.4236 - val_loss: 0.3819\n",
            "Epoch 8/20\n",
            "\u001b[1m363/363\u001b[0m \u001b[32m━━━━━━━━━━━━━━━━━━━━\u001b[0m\u001b[37m\u001b[0m \u001b[1m1s\u001b[0m 3ms/step - loss: 0.4183 - val_loss: 0.3796\n",
            "Epoch 9/20\n",
            "\u001b[1m363/363\u001b[0m \u001b[32m━━━━━━━━━━━━━━━━━━━━\u001b[0m\u001b[37m\u001b[0m \u001b[1m1s\u001b[0m 2ms/step - loss: 0.4139 - val_loss: 0.3788\n",
            "Epoch 10/20\n",
            "\u001b[1m363/363\u001b[0m \u001b[32m━━━━━━━━━━━━━━━━━━━━\u001b[0m\u001b[37m\u001b[0m \u001b[1m2s\u001b[0m 3ms/step - loss: 0.4101 - val_loss: 0.3780\n",
            "Epoch 11/20\n",
            "\u001b[1m363/363\u001b[0m \u001b[32m━━━━━━━━━━━━━━━━━━━━\u001b[0m\u001b[37m\u001b[0m \u001b[1m1s\u001b[0m 4ms/step - loss: 0.4067 - val_loss: 0.3754\n",
            "Epoch 12/20\n",
            "\u001b[1m363/363\u001b[0m \u001b[32m━━━━━━━━━━━━━━━━━━━━\u001b[0m\u001b[37m\u001b[0m \u001b[1m2s\u001b[0m 2ms/step - loss: 0.4038 - val_loss: 0.3746\n",
            "Epoch 13/20\n",
            "\u001b[1m363/363\u001b[0m \u001b[32m━━━━━━━━━━━━━━━━━━━━\u001b[0m\u001b[37m\u001b[0m \u001b[1m1s\u001b[0m 2ms/step - loss: 0.4006 - val_loss: 0.3731\n",
            "Epoch 14/20\n",
            "\u001b[1m363/363\u001b[0m \u001b[32m━━━━━━━━━━━━━━━━━━━━\u001b[0m\u001b[37m\u001b[0m \u001b[1m1s\u001b[0m 3ms/step - loss: 0.3976 - val_loss: 0.3886\n",
            "Epoch 15/20\n",
            "\u001b[1m363/363\u001b[0m \u001b[32m━━━━━━━━━━━━━━━━━━━━\u001b[0m\u001b[37m\u001b[0m \u001b[1m1s\u001b[0m 3ms/step - loss: 0.3950 - val_loss: 0.3561\n",
            "Epoch 16/20\n",
            "\u001b[1m363/363\u001b[0m \u001b[32m━━━━━━━━━━━━━━━━━━━━\u001b[0m\u001b[37m\u001b[0m \u001b[1m1s\u001b[0m 3ms/step - loss: 0.3925 - val_loss: 0.3917\n",
            "Epoch 17/20\n",
            "\u001b[1m363/363\u001b[0m \u001b[32m━━━━━━━━━━━━━━━━━━━━\u001b[0m\u001b[37m\u001b[0m \u001b[1m1s\u001b[0m 3ms/step - loss: 0.3903 - val_loss: 0.3509\n",
            "Epoch 18/20\n",
            "\u001b[1m363/363\u001b[0m \u001b[32m━━━━━━━━━━━━━━━━━━━━\u001b[0m\u001b[37m\u001b[0m \u001b[1m1s\u001b[0m 3ms/step - loss: 0.3880 - val_loss: 0.4258\n",
            "Epoch 19/20\n",
            "\u001b[1m363/363\u001b[0m \u001b[32m━━━━━━━━━━━━━━━━━━━━\u001b[0m\u001b[37m\u001b[0m \u001b[1m1s\u001b[0m 3ms/step - loss: 0.3859 - val_loss: 0.3540\n",
            "Epoch 20/20\n",
            "\u001b[1m363/363\u001b[0m \u001b[32m━━━━━━━━━━━━━━━━━━━━\u001b[0m\u001b[37m\u001b[0m \u001b[1m2s\u001b[0m 4ms/step - loss: 0.3839 - val_loss: 0.3622\n",
            "\u001b[1m162/162\u001b[0m \u001b[32m━━━━━━━━━━━━━━━━━━━━\u001b[0m\u001b[37m\u001b[0m \u001b[1m0s\u001b[0m 2ms/step - loss: 0.3723\n",
            "\n",
            "MSE pada test set (Regresi): 0.3688\n"
          ]
        },
        {
          "output_type": "stream",
          "name": "stderr",
          "text": [
            "WARNING:tensorflow:6 out of the last 6 calls to <function TensorFlowTrainer.make_predict_function.<locals>.one_step_on_data_distributed at 0x78bdde8628e0> triggered tf.function retracing. Tracing is expensive and the excessive number of tracings could be due to (1) creating @tf.function repeatedly in a loop, (2) passing tensors with different shapes, (3) passing Python objects instead of tensors. For (1), please define your @tf.function outside of the loop. For (2), @tf.function has reduce_retracing=True option that can avoid unnecessary retracing. For (3), please refer to https://www.tensorflow.org/guide/function#controlling_retracing and https://www.tensorflow.org/api_docs/python/tf/function for  more details.\n"
          ]
        },
        {
          "output_type": "stream",
          "name": "stdout",
          "text": [
            "\u001b[1m1/1\u001b[0m \u001b[32m━━━━━━━━━━━━━━━━━━━━\u001b[0m\u001b[37m\u001b[0m \u001b[1m0s\u001b[0m 62ms/step\n",
            "Prediksi Regresi untuk X_new_reg:\n",
            "[[0.71903276]\n",
            " [1.553612  ]\n",
            " [3.8173435 ]]\n",
            "Label sebenarnya untuk X_new_reg: [0.477   0.458   5.00001]\n",
            "\n",
            "--- Membangun Model Kompleks dengan Functional API ---\n",
            "Epoch 1/5\n"
          ]
        },
        {
          "output_type": "stream",
          "name": "stderr",
          "text": [
            "/usr/local/lib/python3.11/dist-packages/keras/src/models/functional.py:237: UserWarning: The structure of `inputs` doesn't match the expected structure.\n",
            "Expected: ['keras_tensor_76']\n",
            "Received: inputs=Tensor(shape=(None, 8))\n",
            "  warnings.warn(msg)\n"
          ]
        },
        {
          "output_type": "stream",
          "name": "stdout",
          "text": [
            "\u001b[1m363/363\u001b[0m \u001b[32m━━━━━━━━━━━━━━━━━━━━\u001b[0m\u001b[37m\u001b[0m \u001b[1m1s\u001b[0m 2ms/step - loss: 1.3254\n",
            "Epoch 2/5\n",
            "\u001b[1m363/363\u001b[0m \u001b[32m━━━━━━━━━━━━━━━━━━━━\u001b[0m\u001b[37m\u001b[0m \u001b[1m1s\u001b[0m 2ms/step - loss: 0.5084\n",
            "Epoch 3/5\n",
            "\u001b[1m363/363\u001b[0m \u001b[32m━━━━━━━━━━━━━━━━━━━━\u001b[0m\u001b[37m\u001b[0m \u001b[1m1s\u001b[0m 2ms/step - loss: 0.4511\n",
            "Epoch 4/5\n",
            "\u001b[1m363/363\u001b[0m \u001b[32m━━━━━━━━━━━━━━━━━━━━\u001b[0m\u001b[37m\u001b[0m \u001b[1m1s\u001b[0m 2ms/step - loss: 0.4280\n",
            "Epoch 5/5\n",
            "\u001b[1m363/363\u001b[0m \u001b[32m━━━━━━━━━━━━━━━━━━━━\u001b[0m\u001b[37m\u001b[0m \u001b[1m1s\u001b[0m 2ms/step - loss: 0.4146\n",
            "Model Functional API (Wide & Deep sederhana) telah dilatih.\n",
            "Epoch 1/5\n",
            "\u001b[1m363/363\u001b[0m \u001b[32m━━━━━━━━━━━━━━━━━━━━\u001b[0m\u001b[37m\u001b[0m \u001b[1m1s\u001b[0m 3ms/step - loss: 1.1066 - val_loss: 1.1060\n",
            "Epoch 2/5\n",
            "\u001b[1m363/363\u001b[0m \u001b[32m━━━━━━━━━━━━━━━━━━━━\u001b[0m\u001b[37m\u001b[0m \u001b[1m1s\u001b[0m 3ms/step - loss: 0.4736 - val_loss: 3.0304\n",
            "Epoch 3/5\n",
            "\u001b[1m363/363\u001b[0m \u001b[32m━━━━━━━━━━━━━━━━━━━━\u001b[0m\u001b[37m\u001b[0m \u001b[1m1s\u001b[0m 3ms/step - loss: 0.4463 - val_loss: 2.2143\n",
            "Epoch 4/5\n",
            "\u001b[1m363/363\u001b[0m \u001b[32m━━━━━━━━━━━━━━━━━━━━\u001b[0m\u001b[37m\u001b[0m \u001b[1m1s\u001b[0m 4ms/step - loss: 0.4344 - val_loss: 5.1787\n",
            "Epoch 5/5\n",
            "\u001b[1m363/363\u001b[0m \u001b[32m━━━━━━━━━━━━━━━━━━━━\u001b[0m\u001b[37m\u001b[0m \u001b[1m2s\u001b[0m 3ms/step - loss: 0.4386 - val_loss: 0.8714\n",
            "Model Functional API (Multiple Inputs) telah dilatih.\n",
            "Epoch 1/5\n",
            "\u001b[1m363/363\u001b[0m \u001b[32m━━━━━━━━━━━━━━━━━━━━\u001b[0m\u001b[37m\u001b[0m \u001b[1m2s\u001b[0m 4ms/step - aux_output_loss: 3.0738 - loss: 0.9059 - main_output_loss: 0.6650 - val_aux_output_loss: 1.0814 - val_loss: 0.4992 - val_main_output_loss: 0.4344\n",
            "Epoch 2/5\n",
            "\u001b[1m363/363\u001b[0m \u001b[32m━━━━━━━━━━━━━━━━━━━━\u001b[0m\u001b[37m\u001b[0m \u001b[1m1s\u001b[0m 3ms/step - aux_output_loss: 0.8746 - loss: 0.4740 - main_output_loss: 0.4295 - val_aux_output_loss: 0.8946 - val_loss: 0.4251 - val_main_output_loss: 0.3728\n",
            "Epoch 3/5\n",
            "\u001b[1m363/363\u001b[0m \u001b[32m━━━━━━━━━━━━━━━━━━━━\u001b[0m\u001b[37m\u001b[0m \u001b[1m1s\u001b[0m 3ms/step - aux_output_loss: 0.7429 - loss: 0.4493 - main_output_loss: 0.4167 - val_aux_output_loss: 0.6838 - val_loss: 0.4026 - val_main_output_loss: 0.3712\n",
            "Epoch 4/5\n",
            "\u001b[1m363/363\u001b[0m \u001b[32m━━━━━━━━━━━━━━━━━━━━\u001b[0m\u001b[37m\u001b[0m \u001b[1m1s\u001b[0m 3ms/step - aux_output_loss: 0.6614 - loss: 0.4341 - main_output_loss: 0.4089 - val_aux_output_loss: 0.6377 - val_loss: 0.3922 - val_main_output_loss: 0.3648\n",
            "Epoch 5/5\n",
            "\u001b[1m363/363\u001b[0m \u001b[32m━━━━━━━━━━━━━━━━━━━━\u001b[0m\u001b[37m\u001b[0m \u001b[1m1s\u001b[0m 3ms/step - aux_output_loss: 0.6082 - loss: 0.4235 - main_output_loss: 0.4030 - val_aux_output_loss: 0.5912 - val_loss: 0.4079 - val_main_output_loss: 0.3874\n",
            "Model Functional API (Multiple Outputs) telah dilatih.\n",
            "\n",
            "--- Membangun Model Dinamis dengan Subclassing API ---\n",
            "Epoch 1/5\n",
            "\u001b[1m363/363\u001b[0m \u001b[32m━━━━━━━━━━━━━━━━━━━━\u001b[0m\u001b[37m\u001b[0m \u001b[1m2s\u001b[0m 3ms/step - loss: 1.3642 - mse_loss: 3.7308\n",
            "Epoch 2/5\n",
            "\u001b[1m363/363\u001b[0m \u001b[32m━━━━━━━━━━━━━━━━━━━━\u001b[0m\u001b[37m\u001b[0m \u001b[1m1s\u001b[0m 3ms/step - loss: 0.5437 - mse_loss: 1.0233\n",
            "Epoch 3/5\n",
            "\u001b[1m363/363\u001b[0m \u001b[32m━━━━━━━━━━━━━━━━━━━━\u001b[0m\u001b[37m\u001b[0m \u001b[1m1s\u001b[0m 2ms/step - loss: 0.4899 - mse_loss: 0.8167\n",
            "Epoch 4/5\n",
            "\u001b[1m363/363\u001b[0m \u001b[32m━━━━━━━━━━━━━━━━━━━━\u001b[0m\u001b[37m\u001b[0m \u001b[1m1s\u001b[0m 2ms/step - loss: 0.4755 - mse_loss: 0.7081\n",
            "Epoch 5/5\n",
            "\u001b[1m363/363\u001b[0m \u001b[32m━━━━━━━━━━━━━━━━━━━━\u001b[0m\u001b[37m\u001b[0m \u001b[1m1s\u001b[0m 2ms/step - loss: 0.4545 - mse_loss: 0.6629\n"
          ]
        },
        {
          "output_type": "stream",
          "name": "stderr",
          "text": [
            "WARNING:absl:You are saving your model as an HDF5 file via `model.save()` or `keras.saving.save_model(model)`. This file format is considered legacy. We recommend using instead the native Keras format, e.g. `model.save('my_model.keras')` or `keras.saving.save_model(model, 'my_model.keras')`. \n",
            "WARNING:absl:Compiled the loaded model, but the compiled metrics have yet to be built. `model.compile_metrics` will be empty until you train or evaluate the model.\n"
          ]
        },
        {
          "output_type": "stream",
          "name": "stdout",
          "text": [
            "Model Subclassing API telah dilatih.\n",
            "\n",
            "--- Menyimpan dan Memulihkan Model ---\n",
            "Model 'my_keras_model.h5' berhasil disimpan.\n",
            "Model berhasil dimuat dari 'my_keras_model.h5'.\n",
            "\n",
            "--- Menggunakan Callbacks ---\n",
            "\n",
            "Melatih model dengan ModelCheckpoint dan EarlyStopping...\n"
          ]
        },
        {
          "output_type": "stream",
          "name": "stderr",
          "text": [
            "/usr/local/lib/python3.11/dist-packages/keras/src/layers/reshaping/flatten.py:37: UserWarning: Do not pass an `input_shape`/`input_dim` argument to a layer. When using Sequential models, prefer using an `Input(shape)` object as the first layer in the model instead.\n",
            "  super().__init__(**kwargs)\n"
          ]
        },
        {
          "output_type": "stream",
          "name": "stdout",
          "text": [
            "Epoch 1/100\n",
            "\u001b[1m1718/1719\u001b[0m \u001b[32m━━━━━━━━━━━━━━━━━━━\u001b[0m\u001b[37m━\u001b[0m \u001b[1m0s\u001b[0m 4ms/step - accuracy: 0.6885 - loss: 0.9972"
          ]
        },
        {
          "output_type": "stream",
          "name": "stderr",
          "text": [
            "WARNING:absl:You are saving your model as an HDF5 file via `model.save()` or `keras.saving.save_model(model)`. This file format is considered legacy. We recommend using instead the native Keras format, e.g. `model.save('my_model.keras')` or `keras.saving.save_model(model, 'my_model.keras')`. \n"
          ]
        },
        {
          "output_type": "stream",
          "name": "stdout",
          "text": [
            "\b\b\b\b\b\b\b\b\b\b\b\b\b\b\b\b\b\b\b\b\b\b\b\b\b\b\b\b\b\b\b\b\b\b\b\b\b\b\b\b\b\b\b\b\b\b\b\b\b\b\b\b\b\b\b\b\b\b\b\b\b\b\b\b\b\b\b\b\b\b\b\b\b\b\b\b\r\u001b[1m1719/1719\u001b[0m \u001b[32m━━━━━━━━━━━━━━━━━━━━\u001b[0m\u001b[37m\u001b[0m \u001b[1m8s\u001b[0m 5ms/step - accuracy: 0.6886 - loss: 0.9969 - val_accuracy: 0.8272 - val_loss: 0.5159\n",
            "Epoch 2/100\n",
            "\u001b[1m1707/1719\u001b[0m \u001b[32m━━━━━━━━━━━━━━━━━━━\u001b[0m\u001b[37m━\u001b[0m \u001b[1m0s\u001b[0m 4ms/step - accuracy: 0.8273 - loss: 0.4974"
          ]
        },
        {
          "output_type": "stream",
          "name": "stderr",
          "text": [
            "WARNING:absl:You are saving your model as an HDF5 file via `model.save()` or `keras.saving.save_model(model)`. This file format is considered legacy. We recommend using instead the native Keras format, e.g. `model.save('my_model.keras')` or `keras.saving.save_model(model, 'my_model.keras')`. \n"
          ]
        },
        {
          "output_type": "stream",
          "name": "stdout",
          "text": [
            "\b\b\b\b\b\b\b\b\b\b\b\b\b\b\b\b\b\b\b\b\b\b\b\b\b\b\b\b\b\b\b\b\b\b\b\b\b\b\b\b\b\b\b\b\b\b\b\b\b\b\b\b\b\b\b\b\b\b\b\b\b\b\b\b\b\b\b\b\b\b\b\b\b\b\b\b\r\u001b[1m1719/1719\u001b[0m \u001b[32m━━━━━━━━━━━━━━━━━━━━\u001b[0m\u001b[37m\u001b[0m \u001b[1m9s\u001b[0m 4ms/step - accuracy: 0.8274 - loss: 0.4973 - val_accuracy: 0.8448 - val_loss: 0.4534\n",
            "Epoch 3/100\n",
            "\u001b[1m1715/1719\u001b[0m \u001b[32m━━━━━━━━━━━━━━━━━━━\u001b[0m\u001b[37m━\u001b[0m \u001b[1m0s\u001b[0m 5ms/step - accuracy: 0.8434 - loss: 0.4463"
          ]
        },
        {
          "output_type": "stream",
          "name": "stderr",
          "text": [
            "WARNING:absl:You are saving your model as an HDF5 file via `model.save()` or `keras.saving.save_model(model)`. This file format is considered legacy. We recommend using instead the native Keras format, e.g. `model.save('my_model.keras')` or `keras.saving.save_model(model, 'my_model.keras')`. \n"
          ]
        },
        {
          "output_type": "stream",
          "name": "stdout",
          "text": [
            "\b\b\b\b\b\b\b\b\b\b\b\b\b\b\b\b\b\b\b\b\b\b\b\b\b\b\b\b\b\b\b\b\b\b\b\b\b\b\b\b\b\b\b\b\b\b\b\b\b\b\b\b\b\b\b\b\b\b\b\b\b\b\b\b\b\b\b\b\b\b\b\b\b\b\b\b\r\u001b[1m1719/1719\u001b[0m \u001b[32m━━━━━━━━━━━━━━━━━━━━\u001b[0m\u001b[37m\u001b[0m \u001b[1m9s\u001b[0m 5ms/step - accuracy: 0.8434 - loss: 0.4463 - val_accuracy: 0.8540 - val_loss: 0.4216\n",
            "Epoch 4/100\n",
            "\u001b[1m1710/1719\u001b[0m \u001b[32m━━━━━━━━━━━━━━━━━━━\u001b[0m\u001b[37m━\u001b[0m \u001b[1m0s\u001b[0m 4ms/step - accuracy: 0.8531 - loss: 0.4174"
          ]
        },
        {
          "output_type": "stream",
          "name": "stderr",
          "text": [
            "WARNING:absl:You are saving your model as an HDF5 file via `model.save()` or `keras.saving.save_model(model)`. This file format is considered legacy. We recommend using instead the native Keras format, e.g. `model.save('my_model.keras')` or `keras.saving.save_model(model, 'my_model.keras')`. \n"
          ]
        },
        {
          "output_type": "stream",
          "name": "stdout",
          "text": [
            "\b\b\b\b\b\b\b\b\b\b\b\b\b\b\b\b\b\b\b\b\b\b\b\b\b\b\b\b\b\b\b\b\b\b\b\b\b\b\b\b\b\b\b\b\b\b\b\b\b\b\b\b\b\b\b\b\b\b\b\b\b\b\b\b\b\b\b\b\b\b\b\b\b\b\b\b\r\u001b[1m1719/1719\u001b[0m \u001b[32m━━━━━━━━━━━━━━━━━━━━\u001b[0m\u001b[37m\u001b[0m \u001b[1m10s\u001b[0m 5ms/step - accuracy: 0.8531 - loss: 0.4173 - val_accuracy: 0.8612 - val_loss: 0.4013\n",
            "Epoch 5/100\n",
            "\u001b[1m1714/1719\u001b[0m \u001b[32m━━━━━━━━━━━━━━━━━━━\u001b[0m\u001b[37m━\u001b[0m \u001b[1m0s\u001b[0m 4ms/step - accuracy: 0.8590 - loss: 0.3966"
          ]
        },
        {
          "output_type": "stream",
          "name": "stderr",
          "text": [
            "WARNING:absl:You are saving your model as an HDF5 file via `model.save()` or `keras.saving.save_model(model)`. This file format is considered legacy. We recommend using instead the native Keras format, e.g. `model.save('my_model.keras')` or `keras.saving.save_model(model, 'my_model.keras')`. \n"
          ]
        },
        {
          "output_type": "stream",
          "name": "stdout",
          "text": [
            "\b\b\b\b\b\b\b\b\b\b\b\b\b\b\b\b\b\b\b\b\b\b\b\b\b\b\b\b\b\b\b\b\b\b\b\b\b\b\b\b\b\b\b\b\b\b\b\b\b\b\b\b\b\b\b\b\b\b\b\b\b\b\b\b\b\b\b\b\b\b\b\b\b\b\b\b\r\u001b[1m1719/1719\u001b[0m \u001b[32m━━━━━━━━━━━━━━━━━━━━\u001b[0m\u001b[37m\u001b[0m \u001b[1m7s\u001b[0m 4ms/step - accuracy: 0.8591 - loss: 0.3966 - val_accuracy: 0.8678 - val_loss: 0.3849\n",
            "Epoch 6/100\n",
            "\u001b[1m1715/1719\u001b[0m \u001b[32m━━━━━━━━━━━━━━━━━━━\u001b[0m\u001b[37m━\u001b[0m \u001b[1m0s\u001b[0m 4ms/step - accuracy: 0.8646 - loss: 0.3800"
          ]
        },
        {
          "output_type": "stream",
          "name": "stderr",
          "text": [
            "WARNING:absl:You are saving your model as an HDF5 file via `model.save()` or `keras.saving.save_model(model)`. This file format is considered legacy. We recommend using instead the native Keras format, e.g. `model.save('my_model.keras')` or `keras.saving.save_model(model, 'my_model.keras')`. \n"
          ]
        },
        {
          "output_type": "stream",
          "name": "stdout",
          "text": [
            "\b\b\b\b\b\b\b\b\b\b\b\b\b\b\b\b\b\b\b\b\b\b\b\b\b\b\b\b\b\b\b\b\b\b\b\b\b\b\b\b\b\b\b\b\b\b\b\b\b\b\b\b\b\b\b\b\b\b\b\b\b\b\b\b\b\b\b\b\b\b\b\b\b\b\b\b\r\u001b[1m1719/1719\u001b[0m \u001b[32m━━━━━━━━━━━━━━━━━━━━\u001b[0m\u001b[37m\u001b[0m \u001b[1m8s\u001b[0m 5ms/step - accuracy: 0.8646 - loss: 0.3800 - val_accuracy: 0.8704 - val_loss: 0.3733\n",
            "Epoch 7/100\n",
            "\u001b[1m1712/1719\u001b[0m \u001b[32m━━━━━━━━━━━━━━━━━━━\u001b[0m\u001b[37m━\u001b[0m \u001b[1m0s\u001b[0m 4ms/step - accuracy: 0.8690 - loss: 0.3664"
          ]
        },
        {
          "output_type": "stream",
          "name": "stderr",
          "text": [
            "WARNING:absl:You are saving your model as an HDF5 file via `model.save()` or `keras.saving.save_model(model)`. This file format is considered legacy. We recommend using instead the native Keras format, e.g. `model.save('my_model.keras')` or `keras.saving.save_model(model, 'my_model.keras')`. \n"
          ]
        },
        {
          "output_type": "stream",
          "name": "stdout",
          "text": [
            "\b\b\b\b\b\b\b\b\b\b\b\b\b\b\b\b\b\b\b\b\b\b\b\b\b\b\b\b\b\b\b\b\b\b\b\b\b\b\b\b\b\b\b\b\b\b\b\b\b\b\b\b\b\b\b\b\b\b\b\b\b\b\b\b\b\b\b\b\b\b\b\b\b\b\b\b\r\u001b[1m1719/1719\u001b[0m \u001b[32m━━━━━━━━━━━━━━━━━━━━\u001b[0m\u001b[37m\u001b[0m \u001b[1m7s\u001b[0m 4ms/step - accuracy: 0.8690 - loss: 0.3664 - val_accuracy: 0.8718 - val_loss: 0.3628\n",
            "Epoch 8/100\n",
            "\u001b[1m1708/1719\u001b[0m \u001b[32m━━━━━━━━━━━━━━━━━━━\u001b[0m\u001b[37m━\u001b[0m \u001b[1m0s\u001b[0m 4ms/step - accuracy: 0.8720 - loss: 0.3545"
          ]
        },
        {
          "output_type": "stream",
          "name": "stderr",
          "text": [
            "WARNING:absl:You are saving your model as an HDF5 file via `model.save()` or `keras.saving.save_model(model)`. This file format is considered legacy. We recommend using instead the native Keras format, e.g. `model.save('my_model.keras')` or `keras.saving.save_model(model, 'my_model.keras')`. \n"
          ]
        },
        {
          "output_type": "stream",
          "name": "stdout",
          "text": [
            "\b\b\b\b\b\b\b\b\b\b\b\b\b\b\b\b\b\b\b\b\b\b\b\b\b\b\b\b\b\b\b\b\b\b\b\b\b\b\b\b\b\b\b\b\b\b\b\b\b\b\b\b\b\b\b\b\b\b\b\b\b\b\b\b\b\b\b\b\b\b\b\b\b\b\b\b\r\u001b[1m1719/1719\u001b[0m \u001b[32m━━━━━━━━━━━━━━━━━━━━\u001b[0m\u001b[37m\u001b[0m \u001b[1m10s\u001b[0m 4ms/step - accuracy: 0.8720 - loss: 0.3545 - val_accuracy: 0.8750 - val_loss: 0.3550\n",
            "Epoch 9/100\n",
            "\u001b[1m1713/1719\u001b[0m \u001b[32m━━━━━━━━━━━━━━━━━━━\u001b[0m\u001b[37m━\u001b[0m \u001b[1m0s\u001b[0m 4ms/step - accuracy: 0.8761 - loss: 0.3438"
          ]
        },
        {
          "output_type": "stream",
          "name": "stderr",
          "text": [
            "WARNING:absl:You are saving your model as an HDF5 file via `model.save()` or `keras.saving.save_model(model)`. This file format is considered legacy. We recommend using instead the native Keras format, e.g. `model.save('my_model.keras')` or `keras.saving.save_model(model, 'my_model.keras')`. \n"
          ]
        },
        {
          "output_type": "stream",
          "name": "stdout",
          "text": [
            "\b\b\b\b\b\b\b\b\b\b\b\b\b\b\b\b\b\b\b\b\b\b\b\b\b\b\b\b\b\b\b\b\b\b\b\b\b\b\b\b\b\b\b\b\b\b\b\b\b\b\b\b\b\b\b\b\b\b\b\b\b\b\b\b\b\b\b\b\b\b\b\b\b\b\b\b\r\u001b[1m1719/1719\u001b[0m \u001b[32m━━━━━━━━━━━━━━━━━━━━\u001b[0m\u001b[37m\u001b[0m \u001b[1m8s\u001b[0m 5ms/step - accuracy: 0.8761 - loss: 0.3438 - val_accuracy: 0.8764 - val_loss: 0.3481\n",
            "Epoch 10/100\n",
            "\u001b[1m1715/1719\u001b[0m \u001b[32m━━━━━━━━━━━━━━━━━━━\u001b[0m\u001b[37m━\u001b[0m \u001b[1m0s\u001b[0m 4ms/step - accuracy: 0.8793 - loss: 0.3346"
          ]
        },
        {
          "output_type": "stream",
          "name": "stderr",
          "text": [
            "WARNING:absl:You are saving your model as an HDF5 file via `model.save()` or `keras.saving.save_model(model)`. This file format is considered legacy. We recommend using instead the native Keras format, e.g. `model.save('my_model.keras')` or `keras.saving.save_model(model, 'my_model.keras')`. \n"
          ]
        },
        {
          "output_type": "stream",
          "name": "stdout",
          "text": [
            "\b\b\b\b\b\b\b\b\b\b\b\b\b\b\b\b\b\b\b\b\b\b\b\b\b\b\b\b\b\b\b\b\b\b\b\b\b\b\b\b\b\b\b\b\b\b\b\b\b\b\b\b\b\b\b\b\b\b\b\b\b\b\b\b\b\b\b\b\b\b\b\b\b\b\b\b\r\u001b[1m1719/1719\u001b[0m \u001b[32m━━━━━━━━━━━━━━━━━━━━\u001b[0m\u001b[37m\u001b[0m \u001b[1m10s\u001b[0m 5ms/step - accuracy: 0.8793 - loss: 0.3345 - val_accuracy: 0.8786 - val_loss: 0.3418\n",
            "Epoch 11/100\n",
            "\u001b[1m1709/1719\u001b[0m \u001b[32m━━━━━━━━━━━━━━━━━━━\u001b[0m\u001b[37m━\u001b[0m \u001b[1m0s\u001b[0m 4ms/step - accuracy: 0.8824 - loss: 0.3260"
          ]
        },
        {
          "output_type": "stream",
          "name": "stderr",
          "text": [
            "WARNING:absl:You are saving your model as an HDF5 file via `model.save()` or `keras.saving.save_model(model)`. This file format is considered legacy. We recommend using instead the native Keras format, e.g. `model.save('my_model.keras')` or `keras.saving.save_model(model, 'my_model.keras')`. \n"
          ]
        },
        {
          "output_type": "stream",
          "name": "stdout",
          "text": [
            "\b\b\b\b\b\b\b\b\b\b\b\b\b\b\b\b\b\b\b\b\b\b\b\b\b\b\b\b\b\b\b\b\b\b\b\b\b\b\b\b\b\b\b\b\b\b\b\b\b\b\b\b\b\b\b\b\b\b\b\b\b\b\b\b\b\b\b\b\b\b\b\b\b\b\b\b\r\u001b[1m1719/1719\u001b[0m \u001b[32m━━━━━━━━━━━━━━━━━━━━\u001b[0m\u001b[37m\u001b[0m \u001b[1m7s\u001b[0m 4ms/step - accuracy: 0.8824 - loss: 0.3260 - val_accuracy: 0.8802 - val_loss: 0.3364\n",
            "Epoch 12/100\n",
            "\u001b[1m1706/1719\u001b[0m \u001b[32m━━━━━━━━━━━━━━━━━━━\u001b[0m\u001b[37m━\u001b[0m \u001b[1m0s\u001b[0m 4ms/step - accuracy: 0.8847 - loss: 0.3183"
          ]
        },
        {
          "output_type": "stream",
          "name": "stderr",
          "text": [
            "WARNING:absl:You are saving your model as an HDF5 file via `model.save()` or `keras.saving.save_model(model)`. This file format is considered legacy. We recommend using instead the native Keras format, e.g. `model.save('my_model.keras')` or `keras.saving.save_model(model, 'my_model.keras')`. \n"
          ]
        },
        {
          "output_type": "stream",
          "name": "stdout",
          "text": [
            "\b\b\b\b\b\b\b\b\b\b\b\b\b\b\b\b\b\b\b\b\b\b\b\b\b\b\b\b\b\b\b\b\b\b\b\b\b\b\b\b\b\b\b\b\b\b\b\b\b\b\b\b\b\b\b\b\b\b\b\b\b\b\b\b\b\b\b\b\b\b\b\b\b\b\b\b\r\u001b[1m1719/1719\u001b[0m \u001b[32m━━━━━━━━━━━━━━━━━━━━\u001b[0m\u001b[37m\u001b[0m \u001b[1m11s\u001b[0m 5ms/step - accuracy: 0.8847 - loss: 0.3183 - val_accuracy: 0.8818 - val_loss: 0.3318\n",
            "Epoch 13/100\n",
            "\u001b[1m1713/1719\u001b[0m \u001b[32m━━━━━━━━━━━━━━━━━━━\u001b[0m\u001b[37m━\u001b[0m \u001b[1m0s\u001b[0m 4ms/step - accuracy: 0.8879 - loss: 0.3111"
          ]
        },
        {
          "output_type": "stream",
          "name": "stderr",
          "text": [
            "WARNING:absl:You are saving your model as an HDF5 file via `model.save()` or `keras.saving.save_model(model)`. This file format is considered legacy. We recommend using instead the native Keras format, e.g. `model.save('my_model.keras')` or `keras.saving.save_model(model, 'my_model.keras')`. \n"
          ]
        },
        {
          "output_type": "stream",
          "name": "stdout",
          "text": [
            "\b\b\b\b\b\b\b\b\b\b\b\b\b\b\b\b\b\b\b\b\b\b\b\b\b\b\b\b\b\b\b\b\b\b\b\b\b\b\b\b\b\b\b\b\b\b\b\b\b\b\b\b\b\b\b\b\b\b\b\b\b\b\b\b\b\b\b\b\b\b\b\b\b\b\b\b\r\u001b[1m1719/1719\u001b[0m \u001b[32m━━━━━━━━━━━━━━━━━━━━\u001b[0m\u001b[37m\u001b[0m \u001b[1m8s\u001b[0m 5ms/step - accuracy: 0.8879 - loss: 0.3110 - val_accuracy: 0.8824 - val_loss: 0.3276\n",
            "Epoch 14/100\n",
            "\u001b[1m1712/1719\u001b[0m \u001b[32m━━━━━━━━━━━━━━━━━━━\u001b[0m\u001b[37m━\u001b[0m \u001b[1m0s\u001b[0m 4ms/step - accuracy: 0.8904 - loss: 0.3042"
          ]
        },
        {
          "output_type": "stream",
          "name": "stderr",
          "text": [
            "WARNING:absl:You are saving your model as an HDF5 file via `model.save()` or `keras.saving.save_model(model)`. This file format is considered legacy. We recommend using instead the native Keras format, e.g. `model.save('my_model.keras')` or `keras.saving.save_model(model, 'my_model.keras')`. \n"
          ]
        },
        {
          "output_type": "stream",
          "name": "stdout",
          "text": [
            "\b\b\b\b\b\b\b\b\b\b\b\b\b\b\b\b\b\b\b\b\b\b\b\b\b\b\b\b\b\b\b\b\b\b\b\b\b\b\b\b\b\b\b\b\b\b\b\b\b\b\b\b\b\b\b\b\b\b\b\b\b\b\b\b\b\b\b\b\b\b\b\b\b\b\b\b\r\u001b[1m1719/1719\u001b[0m \u001b[32m━━━━━━━━━━━━━━━━━━━━\u001b[0m\u001b[37m\u001b[0m \u001b[1m9s\u001b[0m 4ms/step - accuracy: 0.8904 - loss: 0.3042 - val_accuracy: 0.8832 - val_loss: 0.3234\n",
            "Epoch 15/100\n",
            "\u001b[1m1716/1719\u001b[0m \u001b[32m━━━━━━━━━━━━━━━━━━━\u001b[0m\u001b[37m━\u001b[0m \u001b[1m0s\u001b[0m 4ms/step - accuracy: 0.8924 - loss: 0.2979"
          ]
        },
        {
          "output_type": "stream",
          "name": "stderr",
          "text": [
            "WARNING:absl:You are saving your model as an HDF5 file via `model.save()` or `keras.saving.save_model(model)`. This file format is considered legacy. We recommend using instead the native Keras format, e.g. `model.save('my_model.keras')` or `keras.saving.save_model(model, 'my_model.keras')`. \n"
          ]
        },
        {
          "output_type": "stream",
          "name": "stdout",
          "text": [
            "\b\b\b\b\b\b\b\b\b\b\b\b\b\b\b\b\b\b\b\b\b\b\b\b\b\b\b\b\b\b\b\b\b\b\b\b\b\b\b\b\b\b\b\b\b\b\b\b\b\b\b\b\b\b\b\b\b\b\b\b\b\b\b\b\b\b\b\b\b\b\b\b\b\b\b\b\r\u001b[1m1719/1719\u001b[0m \u001b[32m━━━━━━━━━━━━━━━━━━━━\u001b[0m\u001b[37m\u001b[0m \u001b[1m10s\u001b[0m 4ms/step - accuracy: 0.8924 - loss: 0.2979 - val_accuracy: 0.8836 - val_loss: 0.3203\n",
            "Epoch 16/100\n",
            "\u001b[1m1712/1719\u001b[0m \u001b[32m━━━━━━━━━━━━━━━━━━━\u001b[0m\u001b[37m━\u001b[0m \u001b[1m0s\u001b[0m 4ms/step - accuracy: 0.8948 - loss: 0.2920"
          ]
        },
        {
          "output_type": "stream",
          "name": "stderr",
          "text": [
            "WARNING:absl:You are saving your model as an HDF5 file via `model.save()` or `keras.saving.save_model(model)`. This file format is considered legacy. We recommend using instead the native Keras format, e.g. `model.save('my_model.keras')` or `keras.saving.save_model(model, 'my_model.keras')`. \n"
          ]
        },
        {
          "output_type": "stream",
          "name": "stdout",
          "text": [
            "\b\b\b\b\b\b\b\b\b\b\b\b\b\b\b\b\b\b\b\b\b\b\b\b\b\b\b\b\b\b\b\b\b\b\b\b\b\b\b\b\b\b\b\b\b\b\b\b\b\b\b\b\b\b\b\b\b\b\b\b\b\b\b\b\b\b\b\b\b\b\b\b\b\b\b\b\r\u001b[1m1719/1719\u001b[0m \u001b[32m━━━━━━━━━━━━━━━━━━━━\u001b[0m\u001b[37m\u001b[0m \u001b[1m10s\u001b[0m 4ms/step - accuracy: 0.8948 - loss: 0.2920 - val_accuracy: 0.8842 - val_loss: 0.3176\n",
            "Epoch 17/100\n",
            "\u001b[1m1709/1719\u001b[0m \u001b[32m━━━━━━━━━━━━━━━━━━━\u001b[0m\u001b[37m━\u001b[0m \u001b[1m0s\u001b[0m 4ms/step - accuracy: 0.8968 - loss: 0.2862"
          ]
        },
        {
          "output_type": "stream",
          "name": "stderr",
          "text": [
            "WARNING:absl:You are saving your model as an HDF5 file via `model.save()` or `keras.saving.save_model(model)`. This file format is considered legacy. We recommend using instead the native Keras format, e.g. `model.save('my_model.keras')` or `keras.saving.save_model(model, 'my_model.keras')`. \n"
          ]
        },
        {
          "output_type": "stream",
          "name": "stdout",
          "text": [
            "\b\b\b\b\b\b\b\b\b\b\b\b\b\b\b\b\b\b\b\b\b\b\b\b\b\b\b\b\b\b\b\b\b\b\b\b\b\b\b\b\b\b\b\b\b\b\b\b\b\b\b\b\b\b\b\b\b\b\b\b\b\b\b\b\b\b\b\b\b\b\b\b\b\b\b\b\r\u001b[1m1719/1719\u001b[0m \u001b[32m━━━━━━━━━━━━━━━━━━━━\u001b[0m\u001b[37m\u001b[0m \u001b[1m8s\u001b[0m 5ms/step - accuracy: 0.8968 - loss: 0.2862 - val_accuracy: 0.8844 - val_loss: 0.3155\n",
            "Epoch 18/100\n",
            "\u001b[1m1716/1719\u001b[0m \u001b[32m━━━━━━━━━━━━━━━━━━━\u001b[0m\u001b[37m━\u001b[0m \u001b[1m0s\u001b[0m 4ms/step - accuracy: 0.8978 - loss: 0.2809"
          ]
        },
        {
          "output_type": "stream",
          "name": "stderr",
          "text": [
            "WARNING:absl:You are saving your model as an HDF5 file via `model.save()` or `keras.saving.save_model(model)`. This file format is considered legacy. We recommend using instead the native Keras format, e.g. `model.save('my_model.keras')` or `keras.saving.save_model(model, 'my_model.keras')`. \n"
          ]
        },
        {
          "output_type": "stream",
          "name": "stdout",
          "text": [
            "\b\b\b\b\b\b\b\b\b\b\b\b\b\b\b\b\b\b\b\b\b\b\b\b\b\b\b\b\b\b\b\b\b\b\b\b\b\b\b\b\b\b\b\b\b\b\b\b\b\b\b\b\b\b\b\b\b\b\b\b\b\b\b\b\b\b\b\b\b\b\b\b\b\b\b\b\r\u001b[1m1719/1719\u001b[0m \u001b[32m━━━━━━━━━━━━━━━━━━━━\u001b[0m\u001b[37m\u001b[0m \u001b[1m10s\u001b[0m 4ms/step - accuracy: 0.8978 - loss: 0.2809 - val_accuracy: 0.8848 - val_loss: 0.3129\n",
            "Epoch 19/100\n",
            "\u001b[1m1705/1719\u001b[0m \u001b[32m━━━━━━━━━━━━━━━━━━━\u001b[0m\u001b[37m━\u001b[0m \u001b[1m0s\u001b[0m 4ms/step - accuracy: 0.9006 - loss: 0.2756"
          ]
        },
        {
          "output_type": "stream",
          "name": "stderr",
          "text": [
            "WARNING:absl:You are saving your model as an HDF5 file via `model.save()` or `keras.saving.save_model(model)`. This file format is considered legacy. We recommend using instead the native Keras format, e.g. `model.save('my_model.keras')` or `keras.saving.save_model(model, 'my_model.keras')`. \n"
          ]
        },
        {
          "output_type": "stream",
          "name": "stdout",
          "text": [
            "\b\b\b\b\b\b\b\b\b\b\b\b\b\b\b\b\b\b\b\b\b\b\b\b\b\b\b\b\b\b\b\b\b\b\b\b\b\b\b\b\b\b\b\b\b\b\b\b\b\b\b\b\b\b\b\b\b\b\b\b\b\b\b\b\b\b\b\b\b\b\b\b\b\b\b\b\r\u001b[1m1719/1719\u001b[0m \u001b[32m━━━━━━━━━━━━━━━━━━━━\u001b[0m\u001b[37m\u001b[0m \u001b[1m8s\u001b[0m 4ms/step - accuracy: 0.9006 - loss: 0.2756 - val_accuracy: 0.8848 - val_loss: 0.3108\n",
            "Epoch 20/100\n",
            "\u001b[1m1716/1719\u001b[0m \u001b[32m━━━━━━━━━━━━━━━━━━━\u001b[0m\u001b[37m━\u001b[0m \u001b[1m0s\u001b[0m 4ms/step - accuracy: 0.9029 - loss: 0.2705"
          ]
        },
        {
          "output_type": "stream",
          "name": "stderr",
          "text": [
            "WARNING:absl:You are saving your model as an HDF5 file via `model.save()` or `keras.saving.save_model(model)`. This file format is considered legacy. We recommend using instead the native Keras format, e.g. `model.save('my_model.keras')` or `keras.saving.save_model(model, 'my_model.keras')`. \n"
          ]
        },
        {
          "output_type": "stream",
          "name": "stdout",
          "text": [
            "\b\b\b\b\b\b\b\b\b\b\b\b\b\b\b\b\b\b\b\b\b\b\b\b\b\b\b\b\b\b\b\b\b\b\b\b\b\b\b\b\b\b\b\b\b\b\b\b\b\b\b\b\b\b\b\b\b\b\b\b\b\b\b\b\b\b\b\b\b\b\b\b\b\b\b\b\r\u001b[1m1719/1719\u001b[0m \u001b[32m━━━━━━━━━━━━━━━━━━━━\u001b[0m\u001b[37m\u001b[0m \u001b[1m8s\u001b[0m 5ms/step - accuracy: 0.9029 - loss: 0.2705 - val_accuracy: 0.8852 - val_loss: 0.3086\n",
            "Epoch 21/100\n",
            "\u001b[1m1713/1719\u001b[0m \u001b[32m━━━━━━━━━━━━━━━━━━━\u001b[0m\u001b[37m━\u001b[0m \u001b[1m0s\u001b[0m 4ms/step - accuracy: 0.9047 - loss: 0.2654"
          ]
        },
        {
          "output_type": "stream",
          "name": "stderr",
          "text": [
            "WARNING:absl:You are saving your model as an HDF5 file via `model.save()` or `keras.saving.save_model(model)`. This file format is considered legacy. We recommend using instead the native Keras format, e.g. `model.save('my_model.keras')` or `keras.saving.save_model(model, 'my_model.keras')`. \n"
          ]
        },
        {
          "output_type": "stream",
          "name": "stdout",
          "text": [
            "\b\b\b\b\b\b\b\b\b\b\b\b\b\b\b\b\b\b\b\b\b\b\b\b\b\b\b\b\b\b\b\b\b\b\b\b\b\b\b\b\b\b\b\b\b\b\b\b\b\b\b\b\b\b\b\b\b\b\b\b\b\b\b\b\b\b\b\b\b\b\b\b\b\b\b\b\r\u001b[1m1719/1719\u001b[0m \u001b[32m━━━━━━━━━━━━━━━━━━━━\u001b[0m\u001b[37m\u001b[0m \u001b[1m9s\u001b[0m 4ms/step - accuracy: 0.9047 - loss: 0.2654 - val_accuracy: 0.8872 - val_loss: 0.3070\n",
            "Epoch 22/100\n",
            "\u001b[1m1714/1719\u001b[0m \u001b[32m━━━━━━━━━━━━━━━━━━━\u001b[0m\u001b[37m━\u001b[0m \u001b[1m0s\u001b[0m 4ms/step - accuracy: 0.9065 - loss: 0.2605"
          ]
        },
        {
          "output_type": "stream",
          "name": "stderr",
          "text": [
            "WARNING:absl:You are saving your model as an HDF5 file via `model.save()` or `keras.saving.save_model(model)`. This file format is considered legacy. We recommend using instead the native Keras format, e.g. `model.save('my_model.keras')` or `keras.saving.save_model(model, 'my_model.keras')`. \n"
          ]
        },
        {
          "output_type": "stream",
          "name": "stdout",
          "text": [
            "\b\b\b\b\b\b\b\b\b\b\b\b\b\b\b\b\b\b\b\b\b\b\b\b\b\b\b\b\b\b\b\b\b\b\b\b\b\b\b\b\b\b\b\b\b\b\b\b\b\b\b\b\b\b\b\b\b\b\b\b\b\b\b\b\b\b\b\b\b\b\b\b\b\b\b\b\r\u001b[1m1719/1719\u001b[0m \u001b[32m━━━━━━━━━━━━━━━━━━━━\u001b[0m\u001b[37m\u001b[0m \u001b[1m10s\u001b[0m 4ms/step - accuracy: 0.9065 - loss: 0.2605 - val_accuracy: 0.8862 - val_loss: 0.3058\n",
            "Epoch 23/100\n",
            "\u001b[1m1717/1719\u001b[0m \u001b[32m━━━━━━━━━━━━━━━━━━━\u001b[0m\u001b[37m━\u001b[0m \u001b[1m0s\u001b[0m 4ms/step - accuracy: 0.9077 - loss: 0.2560"
          ]
        },
        {
          "output_type": "stream",
          "name": "stderr",
          "text": [
            "WARNING:absl:You are saving your model as an HDF5 file via `model.save()` or `keras.saving.save_model(model)`. This file format is considered legacy. We recommend using instead the native Keras format, e.g. `model.save('my_model.keras')` or `keras.saving.save_model(model, 'my_model.keras')`. \n"
          ]
        },
        {
          "output_type": "stream",
          "name": "stdout",
          "text": [
            "\b\b\b\b\b\b\b\b\b\b\b\b\b\b\b\b\b\b\b\b\b\b\b\b\b\b\b\b\b\b\b\b\b\b\b\b\b\b\b\b\b\b\b\b\b\b\b\b\b\b\b\b\b\b\b\b\b\b\b\b\b\b\b\b\b\b\b\b\b\b\b\b\b\b\b\b\r\u001b[1m1719/1719\u001b[0m \u001b[32m━━━━━━━━━━━━━━━━━━━━\u001b[0m\u001b[37m\u001b[0m \u001b[1m8s\u001b[0m 5ms/step - accuracy: 0.9077 - loss: 0.2560 - val_accuracy: 0.8880 - val_loss: 0.3046\n",
            "Epoch 24/100\n",
            "\u001b[1m1713/1719\u001b[0m \u001b[32m━━━━━━━━━━━━━━━━━━━\u001b[0m\u001b[37m━\u001b[0m \u001b[1m0s\u001b[0m 4ms/step - accuracy: 0.9094 - loss: 0.2516"
          ]
        },
        {
          "output_type": "stream",
          "name": "stderr",
          "text": [
            "WARNING:absl:You are saving your model as an HDF5 file via `model.save()` or `keras.saving.save_model(model)`. This file format is considered legacy. We recommend using instead the native Keras format, e.g. `model.save('my_model.keras')` or `keras.saving.save_model(model, 'my_model.keras')`. \n"
          ]
        },
        {
          "output_type": "stream",
          "name": "stdout",
          "text": [
            "\b\b\b\b\b\b\b\b\b\b\b\b\b\b\b\b\b\b\b\b\b\b\b\b\b\b\b\b\b\b\b\b\b\b\b\b\b\b\b\b\b\b\b\b\b\b\b\b\b\b\b\b\b\b\b\b\b\b\b\b\b\b\b\b\b\b\b\b\b\b\b\b\b\b\b\b\r\u001b[1m1719/1719\u001b[0m \u001b[32m━━━━━━━━━━━━━━━━━━━━\u001b[0m\u001b[37m\u001b[0m \u001b[1m10s\u001b[0m 5ms/step - accuracy: 0.9094 - loss: 0.2516 - val_accuracy: 0.8884 - val_loss: 0.3027\n",
            "Epoch 25/100\n",
            "\u001b[1m1719/1719\u001b[0m \u001b[32m━━━━━━━━━━━━━━━━━━━━\u001b[0m\u001b[37m\u001b[0m \u001b[1m0s\u001b[0m 4ms/step - accuracy: 0.9111 - loss: 0.2472"
          ]
        },
        {
          "output_type": "stream",
          "name": "stderr",
          "text": [
            "WARNING:absl:You are saving your model as an HDF5 file via `model.save()` or `keras.saving.save_model(model)`. This file format is considered legacy. We recommend using instead the native Keras format, e.g. `model.save('my_model.keras')` or `keras.saving.save_model(model, 'my_model.keras')`. \n"
          ]
        },
        {
          "output_type": "stream",
          "name": "stdout",
          "text": [
            "\b\b\b\b\b\b\b\b\b\b\b\b\b\b\b\b\b\b\b\b\b\b\b\b\b\b\b\b\b\b\b\b\b\b\b\b\b\b\b\b\b\b\b\b\b\b\b\b\b\b\b\b\b\b\b\b\b\b\b\b\b\b\b\b\b\b\b\b\b\b\b\b\b\b\b\b\r\u001b[1m1719/1719\u001b[0m \u001b[32m━━━━━━━━━━━━━━━━━━━━\u001b[0m\u001b[37m\u001b[0m \u001b[1m9s\u001b[0m 4ms/step - accuracy: 0.9111 - loss: 0.2472 - val_accuracy: 0.8906 - val_loss: 0.3011\n",
            "Epoch 26/100\n",
            "\u001b[1m1717/1719\u001b[0m \u001b[32m━━━━━━━━━━━━━━━━━━━\u001b[0m\u001b[37m━\u001b[0m \u001b[1m0s\u001b[0m 4ms/step - accuracy: 0.9128 - loss: 0.2430"
          ]
        },
        {
          "output_type": "stream",
          "name": "stderr",
          "text": [
            "WARNING:absl:You are saving your model as an HDF5 file via `model.save()` or `keras.saving.save_model(model)`. This file format is considered legacy. We recommend using instead the native Keras format, e.g. `model.save('my_model.keras')` or `keras.saving.save_model(model, 'my_model.keras')`. \n"
          ]
        },
        {
          "output_type": "stream",
          "name": "stdout",
          "text": [
            "\b\b\b\b\b\b\b\b\b\b\b\b\b\b\b\b\b\b\b\b\b\b\b\b\b\b\b\b\b\b\b\b\b\b\b\b\b\b\b\b\b\b\b\b\b\b\b\b\b\b\b\b\b\b\b\b\b\b\b\b\b\b\b\b\b\b\b\b\b\b\b\b\b\b\b\b\r\u001b[1m1719/1719\u001b[0m \u001b[32m━━━━━━━━━━━━━━━━━━━━\u001b[0m\u001b[37m\u001b[0m \u001b[1m10s\u001b[0m 4ms/step - accuracy: 0.9128 - loss: 0.2430 - val_accuracy: 0.8898 - val_loss: 0.3005\n",
            "Epoch 27/100\n",
            "\u001b[1m1708/1719\u001b[0m \u001b[32m━━━━━━━━━━━━━━━━━━━\u001b[0m\u001b[37m━\u001b[0m \u001b[1m0s\u001b[0m 4ms/step - accuracy: 0.9138 - loss: 0.2391"
          ]
        },
        {
          "output_type": "stream",
          "name": "stderr",
          "text": [
            "WARNING:absl:You are saving your model as an HDF5 file via `model.save()` or `keras.saving.save_model(model)`. This file format is considered legacy. We recommend using instead the native Keras format, e.g. `model.save('my_model.keras')` or `keras.saving.save_model(model, 'my_model.keras')`. \n"
          ]
        },
        {
          "output_type": "stream",
          "name": "stdout",
          "text": [
            "\b\b\b\b\b\b\b\b\b\b\b\b\b\b\b\b\b\b\b\b\b\b\b\b\b\b\b\b\b\b\b\b\b\b\b\b\b\b\b\b\b\b\b\b\b\b\b\b\b\b\b\b\b\b\b\b\b\b\b\b\b\b\b\b\b\b\b\b\b\b\b\b\b\b\b\b\r\u001b[1m1719/1719\u001b[0m \u001b[32m━━━━━━━━━━━━━━━━━━━━\u001b[0m\u001b[37m\u001b[0m \u001b[1m10s\u001b[0m 4ms/step - accuracy: 0.9138 - loss: 0.2390 - val_accuracy: 0.8904 - val_loss: 0.2990\n",
            "Epoch 28/100\n",
            "\u001b[1m1712/1719\u001b[0m \u001b[32m━━━━━━━━━━━━━━━━━━━\u001b[0m\u001b[37m━\u001b[0m \u001b[1m0s\u001b[0m 4ms/step - accuracy: 0.9159 - loss: 0.2350"
          ]
        },
        {
          "output_type": "stream",
          "name": "stderr",
          "text": [
            "WARNING:absl:You are saving your model as an HDF5 file via `model.save()` or `keras.saving.save_model(model)`. This file format is considered legacy. We recommend using instead the native Keras format, e.g. `model.save('my_model.keras')` or `keras.saving.save_model(model, 'my_model.keras')`. \n"
          ]
        },
        {
          "output_type": "stream",
          "name": "stdout",
          "text": [
            "\b\b\b\b\b\b\b\b\b\b\b\b\b\b\b\b\b\b\b\b\b\b\b\b\b\b\b\b\b\b\b\b\b\b\b\b\b\b\b\b\b\b\b\b\b\b\b\b\b\b\b\b\b\b\b\b\b\b\b\b\b\b\b\b\b\b\b\b\b\b\b\b\b\b\b\b\r\u001b[1m1719/1719\u001b[0m \u001b[32m━━━━━━━━━━━━━━━━━━━━\u001b[0m\u001b[37m\u001b[0m \u001b[1m11s\u001b[0m 5ms/step - accuracy: 0.9159 - loss: 0.2349 - val_accuracy: 0.8912 - val_loss: 0.2984\n",
            "Epoch 29/100\n",
            "\u001b[1m1707/1719\u001b[0m \u001b[32m━━━━━━━━━━━━━━━━━━━\u001b[0m\u001b[37m━\u001b[0m \u001b[1m0s\u001b[0m 5ms/step - accuracy: 0.9170 - loss: 0.2309"
          ]
        },
        {
          "output_type": "stream",
          "name": "stderr",
          "text": [
            "WARNING:absl:You are saving your model as an HDF5 file via `model.save()` or `keras.saving.save_model(model)`. This file format is considered legacy. We recommend using instead the native Keras format, e.g. `model.save('my_model.keras')` or `keras.saving.save_model(model, 'my_model.keras')`. \n"
          ]
        },
        {
          "output_type": "stream",
          "name": "stdout",
          "text": [
            "\b\b\b\b\b\b\b\b\b\b\b\b\b\b\b\b\b\b\b\b\b\b\b\b\b\b\b\b\b\b\b\b\b\b\b\b\b\b\b\b\b\b\b\b\b\b\b\b\b\b\b\b\b\b\b\b\b\b\b\b\b\b\b\b\b\b\b\b\b\b\b\b\b\b\b\b\r\u001b[1m1719/1719\u001b[0m \u001b[32m━━━━━━━━━━━━━━━━━━━━\u001b[0m\u001b[37m\u001b[0m \u001b[1m8s\u001b[0m 5ms/step - accuracy: 0.9170 - loss: 0.2309 - val_accuracy: 0.8902 - val_loss: 0.2970\n",
            "Epoch 30/100\n",
            "\u001b[1m1719/1719\u001b[0m \u001b[32m━━━━━━━━━━━━━━━━━━━━\u001b[0m\u001b[37m\u001b[0m \u001b[1m9s\u001b[0m 4ms/step - accuracy: 0.9186 - loss: 0.2271 - val_accuracy: 0.8898 - val_loss: 0.2975\n",
            "Epoch 31/100\n",
            "\u001b[1m1719/1719\u001b[0m \u001b[32m━━━━━━━━━━━━━━━━━━━━\u001b[0m\u001b[37m\u001b[0m \u001b[1m11s\u001b[0m 4ms/step - accuracy: 0.9200 - loss: 0.2232 - val_accuracy: 0.8902 - val_loss: 0.2978\n",
            "Epoch 32/100\n",
            "\u001b[1m1718/1719\u001b[0m \u001b[32m━━━━━━━━━━━━━━━━━━━\u001b[0m\u001b[37m━\u001b[0m \u001b[1m0s\u001b[0m 4ms/step - accuracy: 0.9211 - loss: 0.2197"
          ]
        },
        {
          "output_type": "stream",
          "name": "stderr",
          "text": [
            "WARNING:absl:You are saving your model as an HDF5 file via `model.save()` or `keras.saving.save_model(model)`. This file format is considered legacy. We recommend using instead the native Keras format, e.g. `model.save('my_model.keras')` or `keras.saving.save_model(model, 'my_model.keras')`. \n"
          ]
        },
        {
          "output_type": "stream",
          "name": "stdout",
          "text": [
            "\b\b\b\b\b\b\b\b\b\b\b\b\b\b\b\b\b\b\b\b\b\b\b\b\b\b\b\b\b\b\b\b\b\b\b\b\b\b\b\b\b\b\b\b\b\b\b\b\b\b\b\b\b\b\b\b\b\b\b\b\b\b\b\b\b\b\b\b\b\b\b\b\b\b\b\b\r\u001b[1m1719/1719\u001b[0m \u001b[32m━━━━━━━━━━━━━━━━━━━━\u001b[0m\u001b[37m\u001b[0m \u001b[1m8s\u001b[0m 5ms/step - accuracy: 0.9211 - loss: 0.2197 - val_accuracy: 0.8904 - val_loss: 0.2966\n",
            "Epoch 33/100\n",
            "\u001b[1m1719/1719\u001b[0m \u001b[32m━━━━━━━━━━━━━━━━━━━━\u001b[0m\u001b[37m\u001b[0m \u001b[1m10s\u001b[0m 5ms/step - accuracy: 0.9229 - loss: 0.2159 - val_accuracy: 0.8912 - val_loss: 0.2966\n",
            "Epoch 34/100\n",
            "\u001b[1m1719/1719\u001b[0m \u001b[32m━━━━━━━━━━━━━━━━━━━━\u001b[0m\u001b[37m\u001b[0m \u001b[1m7s\u001b[0m 4ms/step - accuracy: 0.9239 - loss: 0.2123 - val_accuracy: 0.8914 - val_loss: 0.2969\n",
            "Epoch 35/100\n",
            "\u001b[1m1719/1719\u001b[0m \u001b[32m━━━━━━━━━━━━━━━━━━━━\u001b[0m\u001b[37m\u001b[0m \u001b[1m0s\u001b[0m 4ms/step - accuracy: 0.9245 - loss: 0.2086"
          ]
        },
        {
          "output_type": "stream",
          "name": "stderr",
          "text": [
            "WARNING:absl:You are saving your model as an HDF5 file via `model.save()` or `keras.saving.save_model(model)`. This file format is considered legacy. We recommend using instead the native Keras format, e.g. `model.save('my_model.keras')` or `keras.saving.save_model(model, 'my_model.keras')`. \n"
          ]
        },
        {
          "output_type": "stream",
          "name": "stdout",
          "text": [
            "\b\b\b\b\b\b\b\b\b\b\b\b\b\b\b\b\b\b\b\b\b\b\b\b\b\b\b\b\b\b\b\b\b\b\b\b\b\b\b\b\b\b\b\b\b\b\b\b\b\b\b\b\b\b\b\b\b\b\b\b\b\b\b\b\b\b\b\b\b\b\b\b\b\b\b\b\r\u001b[1m1719/1719\u001b[0m \u001b[32m━━━━━━━━━━━━━━━━━━━━\u001b[0m\u001b[37m\u001b[0m \u001b[1m10s\u001b[0m 4ms/step - accuracy: 0.9245 - loss: 0.2086 - val_accuracy: 0.8934 - val_loss: 0.2958\n",
            "Epoch 36/100\n",
            "\u001b[1m1719/1719\u001b[0m \u001b[32m━━━━━━━━━━━━━━━━━━━━\u001b[0m\u001b[37m\u001b[0m \u001b[1m12s\u001b[0m 5ms/step - accuracy: 0.9267 - loss: 0.2054 - val_accuracy: 0.8934 - val_loss: 0.2963\n",
            "Epoch 37/100\n",
            "\u001b[1m1711/1719\u001b[0m \u001b[32m━━━━━━━━━━━━━━━━━━━\u001b[0m\u001b[37m━\u001b[0m \u001b[1m0s\u001b[0m 4ms/step - accuracy: 0.9279 - loss: 0.2019"
          ]
        },
        {
          "output_type": "stream",
          "name": "stderr",
          "text": [
            "WARNING:absl:You are saving your model as an HDF5 file via `model.save()` or `keras.saving.save_model(model)`. This file format is considered legacy. We recommend using instead the native Keras format, e.g. `model.save('my_model.keras')` or `keras.saving.save_model(model, 'my_model.keras')`. \n"
          ]
        },
        {
          "output_type": "stream",
          "name": "stdout",
          "text": [
            "\b\b\b\b\b\b\b\b\b\b\b\b\b\b\b\b\b\b\b\b\b\b\b\b\b\b\b\b\b\b\b\b\b\b\b\b\b\b\b\b\b\b\b\b\b\b\b\b\b\b\b\b\b\b\b\b\b\b\b\b\b\b\b\b\b\b\b\b\b\b\b\b\b\b\b\b\r\u001b[1m1719/1719\u001b[0m \u001b[32m━━━━━━━━━━━━━━━━━━━━\u001b[0m\u001b[37m\u001b[0m \u001b[1m10s\u001b[0m 5ms/step - accuracy: 0.9279 - loss: 0.2019 - val_accuracy: 0.8932 - val_loss: 0.2957\n",
            "Epoch 38/100\n",
            "\u001b[1m1711/1719\u001b[0m \u001b[32m━━━━━━━━━━━━━━━━━━━\u001b[0m\u001b[37m━\u001b[0m \u001b[1m0s\u001b[0m 4ms/step - accuracy: 0.9296 - loss: 0.1982"
          ]
        },
        {
          "output_type": "stream",
          "name": "stderr",
          "text": [
            "WARNING:absl:You are saving your model as an HDF5 file via `model.save()` or `keras.saving.save_model(model)`. This file format is considered legacy. We recommend using instead the native Keras format, e.g. `model.save('my_model.keras')` or `keras.saving.save_model(model, 'my_model.keras')`. \n"
          ]
        },
        {
          "output_type": "stream",
          "name": "stdout",
          "text": [
            "\b\b\b\b\b\b\b\b\b\b\b\b\b\b\b\b\b\b\b\b\b\b\b\b\b\b\b\b\b\b\b\b\b\b\b\b\b\b\b\b\b\b\b\b\b\b\b\b\b\b\b\b\b\b\b\b\b\b\b\b\b\b\b\b\b\b\b\b\b\b\b\b\b\b\b\b\r\u001b[1m1719/1719\u001b[0m \u001b[32m━━━━━━━━━━━━━━━━━━━━\u001b[0m\u001b[37m\u001b[0m \u001b[1m9s\u001b[0m 4ms/step - accuracy: 0.9296 - loss: 0.1981 - val_accuracy: 0.8930 - val_loss: 0.2953\n",
            "Epoch 39/100\n",
            "\u001b[1m1719/1719\u001b[0m \u001b[32m━━━━━━━━━━━━━━━━━━━━\u001b[0m\u001b[37m\u001b[0m \u001b[1m10s\u001b[0m 4ms/step - accuracy: 0.9312 - loss: 0.1949 - val_accuracy: 0.8934 - val_loss: 0.2969\n",
            "Epoch 40/100\n",
            "\u001b[1m1719/1719\u001b[0m \u001b[32m━━━━━━━━━━━━━━━━━━━━\u001b[0m\u001b[37m\u001b[0m \u001b[1m10s\u001b[0m 4ms/step - accuracy: 0.9323 - loss: 0.1917 - val_accuracy: 0.8932 - val_loss: 0.2965\n",
            "Epoch 41/100\n",
            "\u001b[1m1719/1719\u001b[0m \u001b[32m━━━━━━━━━━━━━━━━━━━━\u001b[0m\u001b[37m\u001b[0m \u001b[1m8s\u001b[0m 5ms/step - accuracy: 0.9343 - loss: 0.1886 - val_accuracy: 0.8948 - val_loss: 0.2983\n",
            "Epoch 42/100\n",
            "\u001b[1m1719/1719\u001b[0m \u001b[32m━━━━━━━━━━━━━━━━━━━━\u001b[0m\u001b[37m\u001b[0m \u001b[1m7s\u001b[0m 4ms/step - accuracy: 0.9352 - loss: 0.1852 - val_accuracy: 0.8930 - val_loss: 0.2981\n",
            "Epoch 43/100\n",
            "\u001b[1m1719/1719\u001b[0m \u001b[32m━━━━━━━━━━━━━━━━━━━━\u001b[0m\u001b[37m\u001b[0m \u001b[1m10s\u001b[0m 4ms/step - accuracy: 0.9368 - loss: 0.1821 - val_accuracy: 0.8946 - val_loss: 0.3003\n",
            "Epoch 44/100\n",
            "\u001b[1m1719/1719\u001b[0m \u001b[32m━━━━━━━━━━━━━━━━━━━━\u001b[0m\u001b[37m\u001b[0m \u001b[1m9s\u001b[0m 5ms/step - accuracy: 0.9381 - loss: 0.1790 - val_accuracy: 0.8944 - val_loss: 0.3003\n",
            "Epoch 45/100\n",
            "\u001b[1m1719/1719\u001b[0m \u001b[32m━━━━━━━━━━━━━━━━━━━━\u001b[0m\u001b[37m\u001b[0m \u001b[1m10s\u001b[0m 5ms/step - accuracy: 0.9389 - loss: 0.1758 - val_accuracy: 0.8936 - val_loss: 0.3021\n",
            "Epoch 46/100\n",
            "\u001b[1m1719/1719\u001b[0m \u001b[32m━━━━━━━━━━━━━━━━━━━━\u001b[0m\u001b[37m\u001b[0m \u001b[1m9s\u001b[0m 4ms/step - accuracy: 0.9400 - loss: 0.1729 - val_accuracy: 0.8932 - val_loss: 0.3038\n",
            "Epoch 47/100\n",
            "\u001b[1m1719/1719\u001b[0m \u001b[32m━━━━━━━━━━━━━━━━━━━━\u001b[0m\u001b[37m\u001b[0m \u001b[1m9s\u001b[0m 5ms/step - accuracy: 0.9415 - loss: 0.1703 - val_accuracy: 0.8932 - val_loss: 0.3051\n",
            "Epoch 48/100\n",
            "\u001b[1m1719/1719\u001b[0m \u001b[32m━━━━━━━━━━━━━━━━━━━━\u001b[0m\u001b[37m\u001b[0m \u001b[1m8s\u001b[0m 5ms/step - accuracy: 0.9425 - loss: 0.1673 - val_accuracy: 0.8940 - val_loss: 0.3068\n",
            "Pelatihan dengan callbacks selesai.\n",
            "Model terbaik sudah dipulihkan oleh EarlyStopping.\n",
            "\n",
            "Melatih model dengan Custom Callback...\n"
          ]
        },
        {
          "output_type": "stream",
          "name": "stderr",
          "text": [
            "/usr/local/lib/python3.11/dist-packages/keras/src/layers/reshaping/flatten.py:37: UserWarning: Do not pass an `input_shape`/`input_dim` argument to a layer. When using Sequential models, prefer using an `Input(shape)` object as the first layer in the model instead.\n",
            "  super().__init__(**kwargs)\n"
          ]
        },
        {
          "output_type": "stream",
          "name": "stdout",
          "text": [
            "Epoch 1/5\n",
            "\u001b[1m1704/1719\u001b[0m \u001b[32m━━━━━━━━━━━━━━━━━━━\u001b[0m\u001b[37m━\u001b[0m \u001b[1m0s\u001b[0m 4ms/step - accuracy: 0.6915 - loss: 0.9832\n",
            "val/train loss ratio: 0.74\n",
            "\u001b[1m1719/1719\u001b[0m \u001b[32m━━━━━━━━━━━━━━━━━━━━\u001b[0m\u001b[37m\u001b[0m \u001b[1m7s\u001b[0m 4ms/step - accuracy: 0.6922 - loss: 0.9807 - val_accuracy: 0.8196 - val_loss: 0.5238\n",
            "Epoch 2/5\n",
            "\u001b[1m1714/1719\u001b[0m \u001b[32m━━━━━━━━━━━━━━━━━━━\u001b[0m\u001b[37m━\u001b[0m \u001b[1m0s\u001b[0m 5ms/step - accuracy: 0.8260 - loss: 0.5016\n",
            "val/train loss ratio: 0.94\n",
            "\u001b[1m1719/1719\u001b[0m \u001b[32m━━━━━━━━━━━━━━━━━━━━\u001b[0m\u001b[37m\u001b[0m \u001b[1m9s\u001b[0m 5ms/step - accuracy: 0.8260 - loss: 0.5016 - val_accuracy: 0.8424 - val_loss: 0.4589\n",
            "Epoch 3/5\n",
            "\u001b[1m1716/1719\u001b[0m \u001b[32m━━━━━━━━━━━━━━━━━━━\u001b[0m\u001b[37m━\u001b[0m \u001b[1m0s\u001b[0m 5ms/step - accuracy: 0.8411 - loss: 0.4511\n",
            "val/train loss ratio: 0.96\n",
            "\u001b[1m1719/1719\u001b[0m \u001b[32m━━━━━━━━━━━━━━━━━━━━\u001b[0m\u001b[37m\u001b[0m \u001b[1m10s\u001b[0m 5ms/step - accuracy: 0.8411 - loss: 0.4510 - val_accuracy: 0.8524 - val_loss: 0.4281\n",
            "Epoch 4/5\n",
            "\u001b[1m1708/1719\u001b[0m \u001b[32m━━━━━━━━━━━━━━━━━━━\u001b[0m\u001b[37m━\u001b[0m \u001b[1m0s\u001b[0m 4ms/step - accuracy: 0.8497 - loss: 0.4221\n",
            "val/train loss ratio: 0.97\n",
            "\u001b[1m1719/1719\u001b[0m \u001b[32m━━━━━━━━━━━━━━━━━━━━\u001b[0m\u001b[37m\u001b[0m \u001b[1m8s\u001b[0m 4ms/step - accuracy: 0.8498 - loss: 0.4220 - val_accuracy: 0.8618 - val_loss: 0.4065\n",
            "Epoch 5/5\n",
            "\u001b[1m1704/1719\u001b[0m \u001b[32m━━━━━━━━━━━━━━━━━━━\u001b[0m\u001b[37m━\u001b[0m \u001b[1m0s\u001b[0m 5ms/step - accuracy: 0.8568 - loss: 0.4010\n",
            "val/train loss ratio: 0.98\n",
            "\u001b[1m1719/1719\u001b[0m \u001b[32m━━━━━━━━━━━━━━━━━━━━\u001b[0m\u001b[37m\u001b[0m \u001b[1m8s\u001b[0m 5ms/step - accuracy: 0.8569 - loss: 0.4009 - val_accuracy: 0.8660 - val_loss: 0.3907\n",
            "Pelatihan dengan custom callback selesai.\n",
            "\n",
            "--- Menggunakan TensorBoard untuk Visualisasi ---\n",
            "\n",
            "Melatih model dengan TensorBoard Callback...\n"
          ]
        },
        {
          "output_type": "stream",
          "name": "stderr",
          "text": [
            "/usr/local/lib/python3.11/dist-packages/keras/src/layers/reshaping/flatten.py:37: UserWarning: Do not pass an `input_shape`/`input_dim` argument to a layer. When using Sequential models, prefer using an `Input(shape)` object as the first layer in the model instead.\n",
            "  super().__init__(**kwargs)\n"
          ]
        },
        {
          "output_type": "stream",
          "name": "stdout",
          "text": [
            "Epoch 1/5\n",
            "\u001b[1m1719/1719\u001b[0m \u001b[32m━━━━━━━━━━━━━━━━━━━━\u001b[0m\u001b[37m\u001b[0m \u001b[1m10s\u001b[0m 6ms/step - accuracy: 0.6883 - loss: 0.9836 - val_accuracy: 0.8248 - val_loss: 0.5150\n",
            "Epoch 2/5\n",
            "\u001b[1m1719/1719\u001b[0m \u001b[32m━━━━━━━━━━━━━━━━━━━━\u001b[0m\u001b[37m\u001b[0m \u001b[1m10s\u001b[0m 5ms/step - accuracy: 0.8265 - loss: 0.4958 - val_accuracy: 0.8442 - val_loss: 0.4512\n",
            "Epoch 3/5\n",
            "\u001b[1m1719/1719\u001b[0m \u001b[32m━━━━━━━━━━━━━━━━━━━━\u001b[0m\u001b[37m\u001b[0m \u001b[1m9s\u001b[0m 5ms/step - accuracy: 0.8435 - loss: 0.4436 - val_accuracy: 0.8558 - val_loss: 0.4199\n",
            "Epoch 4/5\n",
            "\u001b[1m1719/1719\u001b[0m \u001b[32m━━━━━━━━━━━━━━━━━━━━\u001b[0m\u001b[37m\u001b[0m \u001b[1m9s\u001b[0m 5ms/step - accuracy: 0.8548 - loss: 0.4145 - val_accuracy: 0.8628 - val_loss: 0.3994\n",
            "Epoch 5/5\n",
            "\u001b[1m1719/1719\u001b[0m \u001b[32m━━━━━━━━━━━━━━━━━━━━\u001b[0m\u001b[37m\u001b[0m \u001b[1m10s\u001b[0m 6ms/step - accuracy: 0.8611 - loss: 0.3941 - val_accuracy: 0.8654 - val_loss: 0.3844\n",
            "Pelatihan dengan TensorBoard callback selesai. Sekarang Anda bisa menjalankan TensorBoard.\n",
            "Jalankan di terminal: tensorboard --logdir=./my_logs\n",
            "\n",
            "Logging ke TensorBoard secara manual (tf.summary):\n",
            "Logging manual selesai.\n",
            "\n",
            "--- Fine-Tuning Neural Network Hyperparameters (Regresi) ---\n"
          ]
        },
        {
          "output_type": "error",
          "ename": "ModuleNotFoundError",
          "evalue": "No module named 'tensorflow.python.keras.wrappers'",
          "traceback": [
            "\u001b[0;31m---------------------------------------------------------------------------\u001b[0m",
            "\u001b[0;31mModuleNotFoundError\u001b[0m                       Traceback (most recent call last)",
            "\u001b[0;32m<ipython-input-5-3713244818>\u001b[0m in \u001b[0;36m<cell line: 0>\u001b[0;34m()\u001b[0m\n\u001b[1;32m    396\u001b[0m \u001b[0;31m# atau menggunakan implementasi dari repositori buku\u001b[0m\u001b[0;34m\u001b[0m\u001b[0;34m\u001b[0m\u001b[0m\n\u001b[1;32m    397\u001b[0m \u001b[0;31m# Untuk tujuan reproduksi, saya akan menggunakan implementasi dari buku:\u001b[0m\u001b[0;34m\u001b[0m\u001b[0;34m\u001b[0m\u001b[0m\n\u001b[0;32m--> 398\u001b[0;31m \u001b[0;32mfrom\u001b[0m \u001b[0mtensorflow\u001b[0m\u001b[0;34m.\u001b[0m\u001b[0mpython\u001b[0m\u001b[0;34m.\u001b[0m\u001b[0mkeras\u001b[0m\u001b[0;34m.\u001b[0m\u001b[0mwrappers\u001b[0m\u001b[0;34m.\u001b[0m\u001b[0mscikit_learn\u001b[0m \u001b[0;32mimport\u001b[0m \u001b[0mKerasRegressor\u001b[0m\u001b[0;34m\u001b[0m\u001b[0;34m\u001b[0m\u001b[0m\n\u001b[0m\u001b[1;32m    399\u001b[0m \u001b[0;34m\u001b[0m\u001b[0m\n\u001b[1;32m    400\u001b[0m \u001b[0mkeras_reg\u001b[0m \u001b[0;34m=\u001b[0m \u001b[0mKerasRegressor\u001b[0m\u001b[0;34m(\u001b[0m\u001b[0mbuild_fn\u001b[0m\u001b[0;34m=\u001b[0m\u001b[0mbuild_model_hp\u001b[0m\u001b[0;34m)\u001b[0m\u001b[0;34m\u001b[0m\u001b[0;34m\u001b[0m\u001b[0m\n",
            "\u001b[0;31mModuleNotFoundError\u001b[0m: No module named 'tensorflow.python.keras.wrappers'",
            "",
            "\u001b[0;31m---------------------------------------------------------------------------\u001b[0;32m\nNOTE: If your import is failing due to a missing package, you can\nmanually install dependencies using either !pip or !apt.\n\nTo view examples of installing some common dependencies, click the\n\"Open Examples\" button below.\n\u001b[0;31m---------------------------------------------------------------------------\u001b[0m\n"
          ],
          "errorDetails": {
            "actions": [
              {
                "action": "open_url",
                "actionText": "Open Examples",
                "url": "/notebooks/snippets/importing_libraries.ipynb"
              }
            ]
          }
        }
      ]
    }
  ]
}