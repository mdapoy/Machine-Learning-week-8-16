{
  "nbformat": 4,
  "nbformat_minor": 0,
  "metadata": {
    "colab": {
      "provenance": [],
      "toc_visible": true,
      "gpuType": "T4"
    },
    "kernelspec": {
      "name": "python3",
      "display_name": "Python 3"
    },
    "language_info": {
      "name": "python"
    },
    "widgets": {
      "application/vnd.jupyter.widget-state+json": {
        "d53cdd6af69e4950bff357d899c4f3d1": {
          "model_module": "@jupyter-widgets/controls",
          "model_name": "HBoxModel",
          "model_module_version": "1.5.0",
          "state": {
            "_dom_classes": [],
            "_model_module": "@jupyter-widgets/controls",
            "_model_module_version": "1.5.0",
            "_model_name": "HBoxModel",
            "_view_count": null,
            "_view_module": "@jupyter-widgets/controls",
            "_view_module_version": "1.5.0",
            "_view_name": "HBoxView",
            "box_style": "",
            "children": [
              "IPY_MODEL_5e258a6208f64b65b64c484192b93bbb",
              "IPY_MODEL_d2e5c9b168b14c4682f1630681f502b3",
              "IPY_MODEL_f1dd8a1c6ddb40cc82b94098a7387428"
            ],
            "layout": "IPY_MODEL_003feb173ee848dc8921ed669803247b"
          }
        },
        "5e258a6208f64b65b64c484192b93bbb": {
          "model_module": "@jupyter-widgets/controls",
          "model_name": "HTMLModel",
          "model_module_version": "1.5.0",
          "state": {
            "_dom_classes": [],
            "_model_module": "@jupyter-widgets/controls",
            "_model_module_version": "1.5.0",
            "_model_name": "HTMLModel",
            "_view_count": null,
            "_view_module": "@jupyter-widgets/controls",
            "_view_module_version": "1.5.0",
            "_view_name": "HTMLView",
            "description": "",
            "description_tooltip": null,
            "layout": "IPY_MODEL_68285e8dc92d4e38b510824c937dbe6b",
            "placeholder": "​",
            "style": "IPY_MODEL_025417391cc4479ca64a5ef317ea8e54",
            "value": "Dl Completed...: 100%"
          }
        },
        "d2e5c9b168b14c4682f1630681f502b3": {
          "model_module": "@jupyter-widgets/controls",
          "model_name": "FloatProgressModel",
          "model_module_version": "1.5.0",
          "state": {
            "_dom_classes": [],
            "_model_module": "@jupyter-widgets/controls",
            "_model_module_version": "1.5.0",
            "_model_name": "FloatProgressModel",
            "_view_count": null,
            "_view_module": "@jupyter-widgets/controls",
            "_view_module_version": "1.5.0",
            "_view_name": "ProgressView",
            "bar_style": "success",
            "description": "",
            "description_tooltip": null,
            "layout": "IPY_MODEL_1bd342364bc54e00ac72e66d5a5c6ecb",
            "max": 1,
            "min": 0,
            "orientation": "horizontal",
            "style": "IPY_MODEL_3261b7790f114944aa6e816a84edb560",
            "value": 1
          }
        },
        "f1dd8a1c6ddb40cc82b94098a7387428": {
          "model_module": "@jupyter-widgets/controls",
          "model_name": "HTMLModel",
          "model_module_version": "1.5.0",
          "state": {
            "_dom_classes": [],
            "_model_module": "@jupyter-widgets/controls",
            "_model_module_version": "1.5.0",
            "_model_name": "HTMLModel",
            "_view_count": null,
            "_view_module": "@jupyter-widgets/controls",
            "_view_module_version": "1.5.0",
            "_view_name": "HTMLView",
            "description": "",
            "description_tooltip": null,
            "layout": "IPY_MODEL_858cf0803d034342bb2443d9067681e9",
            "placeholder": "​",
            "style": "IPY_MODEL_03ba505f8c7d41ac99dad50eb67f1885",
            "value": " 1/1 [00:11&lt;00:00, 11.32s/ url]"
          }
        },
        "003feb173ee848dc8921ed669803247b": {
          "model_module": "@jupyter-widgets/base",
          "model_name": "LayoutModel",
          "model_module_version": "1.2.0",
          "state": {
            "_model_module": "@jupyter-widgets/base",
            "_model_module_version": "1.2.0",
            "_model_name": "LayoutModel",
            "_view_count": null,
            "_view_module": "@jupyter-widgets/base",
            "_view_module_version": "1.2.0",
            "_view_name": "LayoutView",
            "align_content": null,
            "align_items": null,
            "align_self": null,
            "border": null,
            "bottom": null,
            "display": null,
            "flex": null,
            "flex_flow": null,
            "grid_area": null,
            "grid_auto_columns": null,
            "grid_auto_flow": null,
            "grid_auto_rows": null,
            "grid_column": null,
            "grid_gap": null,
            "grid_row": null,
            "grid_template_areas": null,
            "grid_template_columns": null,
            "grid_template_rows": null,
            "height": null,
            "justify_content": null,
            "justify_items": null,
            "left": null,
            "margin": null,
            "max_height": null,
            "max_width": null,
            "min_height": null,
            "min_width": null,
            "object_fit": null,
            "object_position": null,
            "order": null,
            "overflow": null,
            "overflow_x": null,
            "overflow_y": null,
            "padding": null,
            "right": null,
            "top": null,
            "visibility": null,
            "width": null
          }
        },
        "68285e8dc92d4e38b510824c937dbe6b": {
          "model_module": "@jupyter-widgets/base",
          "model_name": "LayoutModel",
          "model_module_version": "1.2.0",
          "state": {
            "_model_module": "@jupyter-widgets/base",
            "_model_module_version": "1.2.0",
            "_model_name": "LayoutModel",
            "_view_count": null,
            "_view_module": "@jupyter-widgets/base",
            "_view_module_version": "1.2.0",
            "_view_name": "LayoutView",
            "align_content": null,
            "align_items": null,
            "align_self": null,
            "border": null,
            "bottom": null,
            "display": null,
            "flex": null,
            "flex_flow": null,
            "grid_area": null,
            "grid_auto_columns": null,
            "grid_auto_flow": null,
            "grid_auto_rows": null,
            "grid_column": null,
            "grid_gap": null,
            "grid_row": null,
            "grid_template_areas": null,
            "grid_template_columns": null,
            "grid_template_rows": null,
            "height": null,
            "justify_content": null,
            "justify_items": null,
            "left": null,
            "margin": null,
            "max_height": null,
            "max_width": null,
            "min_height": null,
            "min_width": null,
            "object_fit": null,
            "object_position": null,
            "order": null,
            "overflow": null,
            "overflow_x": null,
            "overflow_y": null,
            "padding": null,
            "right": null,
            "top": null,
            "visibility": null,
            "width": null
          }
        },
        "025417391cc4479ca64a5ef317ea8e54": {
          "model_module": "@jupyter-widgets/controls",
          "model_name": "DescriptionStyleModel",
          "model_module_version": "1.5.0",
          "state": {
            "_model_module": "@jupyter-widgets/controls",
            "_model_module_version": "1.5.0",
            "_model_name": "DescriptionStyleModel",
            "_view_count": null,
            "_view_module": "@jupyter-widgets/base",
            "_view_module_version": "1.2.0",
            "_view_name": "StyleView",
            "description_width": ""
          }
        },
        "1bd342364bc54e00ac72e66d5a5c6ecb": {
          "model_module": "@jupyter-widgets/base",
          "model_name": "LayoutModel",
          "model_module_version": "1.2.0",
          "state": {
            "_model_module": "@jupyter-widgets/base",
            "_model_module_version": "1.2.0",
            "_model_name": "LayoutModel",
            "_view_count": null,
            "_view_module": "@jupyter-widgets/base",
            "_view_module_version": "1.2.0",
            "_view_name": "LayoutView",
            "align_content": null,
            "align_items": null,
            "align_self": null,
            "border": null,
            "bottom": null,
            "display": null,
            "flex": null,
            "flex_flow": null,
            "grid_area": null,
            "grid_auto_columns": null,
            "grid_auto_flow": null,
            "grid_auto_rows": null,
            "grid_column": null,
            "grid_gap": null,
            "grid_row": null,
            "grid_template_areas": null,
            "grid_template_columns": null,
            "grid_template_rows": null,
            "height": null,
            "justify_content": null,
            "justify_items": null,
            "left": null,
            "margin": null,
            "max_height": null,
            "max_width": null,
            "min_height": null,
            "min_width": null,
            "object_fit": null,
            "object_position": null,
            "order": null,
            "overflow": null,
            "overflow_x": null,
            "overflow_y": null,
            "padding": null,
            "right": null,
            "top": null,
            "visibility": null,
            "width": "20px"
          }
        },
        "3261b7790f114944aa6e816a84edb560": {
          "model_module": "@jupyter-widgets/controls",
          "model_name": "ProgressStyleModel",
          "model_module_version": "1.5.0",
          "state": {
            "_model_module": "@jupyter-widgets/controls",
            "_model_module_version": "1.5.0",
            "_model_name": "ProgressStyleModel",
            "_view_count": null,
            "_view_module": "@jupyter-widgets/base",
            "_view_module_version": "1.2.0",
            "_view_name": "StyleView",
            "bar_color": null,
            "description_width": ""
          }
        },
        "858cf0803d034342bb2443d9067681e9": {
          "model_module": "@jupyter-widgets/base",
          "model_name": "LayoutModel",
          "model_module_version": "1.2.0",
          "state": {
            "_model_module": "@jupyter-widgets/base",
            "_model_module_version": "1.2.0",
            "_model_name": "LayoutModel",
            "_view_count": null,
            "_view_module": "@jupyter-widgets/base",
            "_view_module_version": "1.2.0",
            "_view_name": "LayoutView",
            "align_content": null,
            "align_items": null,
            "align_self": null,
            "border": null,
            "bottom": null,
            "display": null,
            "flex": null,
            "flex_flow": null,
            "grid_area": null,
            "grid_auto_columns": null,
            "grid_auto_flow": null,
            "grid_auto_rows": null,
            "grid_column": null,
            "grid_gap": null,
            "grid_row": null,
            "grid_template_areas": null,
            "grid_template_columns": null,
            "grid_template_rows": null,
            "height": null,
            "justify_content": null,
            "justify_items": null,
            "left": null,
            "margin": null,
            "max_height": null,
            "max_width": null,
            "min_height": null,
            "min_width": null,
            "object_fit": null,
            "object_position": null,
            "order": null,
            "overflow": null,
            "overflow_x": null,
            "overflow_y": null,
            "padding": null,
            "right": null,
            "top": null,
            "visibility": null,
            "width": null
          }
        },
        "03ba505f8c7d41ac99dad50eb67f1885": {
          "model_module": "@jupyter-widgets/controls",
          "model_name": "DescriptionStyleModel",
          "model_module_version": "1.5.0",
          "state": {
            "_model_module": "@jupyter-widgets/controls",
            "_model_module_version": "1.5.0",
            "_model_name": "DescriptionStyleModel",
            "_view_count": null,
            "_view_module": "@jupyter-widgets/base",
            "_view_module_version": "1.2.0",
            "_view_name": "StyleView",
            "description_width": ""
          }
        },
        "fbd6bdcc8d8145d39d2b608abd381ad3": {
          "model_module": "@jupyter-widgets/controls",
          "model_name": "HBoxModel",
          "model_module_version": "1.5.0",
          "state": {
            "_dom_classes": [],
            "_model_module": "@jupyter-widgets/controls",
            "_model_module_version": "1.5.0",
            "_model_name": "HBoxModel",
            "_view_count": null,
            "_view_module": "@jupyter-widgets/controls",
            "_view_module_version": "1.5.0",
            "_view_name": "HBoxView",
            "box_style": "",
            "children": [
              "IPY_MODEL_90cecf939c5e4604a04dfcff06c78f19",
              "IPY_MODEL_a7201b9000e44734ad811b6874a6a5a8",
              "IPY_MODEL_f35a5a81c156414f91775828edb2cd34"
            ],
            "layout": "IPY_MODEL_1035ea9178bb419d8d0cddeb7d4e7b81"
          }
        },
        "90cecf939c5e4604a04dfcff06c78f19": {
          "model_module": "@jupyter-widgets/controls",
          "model_name": "HTMLModel",
          "model_module_version": "1.5.0",
          "state": {
            "_dom_classes": [],
            "_model_module": "@jupyter-widgets/controls",
            "_model_module_version": "1.5.0",
            "_model_name": "HTMLModel",
            "_view_count": null,
            "_view_module": "@jupyter-widgets/controls",
            "_view_module_version": "1.5.0",
            "_view_name": "HTMLView",
            "description": "",
            "description_tooltip": null,
            "layout": "IPY_MODEL_a6f93b1161bb4a7886c8366b80702f66",
            "placeholder": "​",
            "style": "IPY_MODEL_d22f9821aa1b487992ecd3f6372ae0df",
            "value": "Dl Size...: 100%"
          }
        },
        "a7201b9000e44734ad811b6874a6a5a8": {
          "model_module": "@jupyter-widgets/controls",
          "model_name": "FloatProgressModel",
          "model_module_version": "1.5.0",
          "state": {
            "_dom_classes": [],
            "_model_module": "@jupyter-widgets/controls",
            "_model_module_version": "1.5.0",
            "_model_name": "FloatProgressModel",
            "_view_count": null,
            "_view_module": "@jupyter-widgets/controls",
            "_view_module_version": "1.5.0",
            "_view_name": "ProgressView",
            "bar_style": "success",
            "description": "",
            "description_tooltip": null,
            "layout": "IPY_MODEL_d1407ee9886c4aa18d37ec637745df5a",
            "max": 1,
            "min": 0,
            "orientation": "horizontal",
            "style": "IPY_MODEL_4fc590b9eb174fcb88eecce7457984cf",
            "value": 1
          }
        },
        "f35a5a81c156414f91775828edb2cd34": {
          "model_module": "@jupyter-widgets/controls",
          "model_name": "HTMLModel",
          "model_module_version": "1.5.0",
          "state": {
            "_dom_classes": [],
            "_model_module": "@jupyter-widgets/controls",
            "_model_module_version": "1.5.0",
            "_model_name": "HTMLModel",
            "_view_count": null,
            "_view_module": "@jupyter-widgets/controls",
            "_view_module_version": "1.5.0",
            "_view_name": "HTMLView",
            "description": "",
            "description_tooltip": null,
            "layout": "IPY_MODEL_9f0bfdade7334f93a19bb778891978f3",
            "placeholder": "​",
            "style": "IPY_MODEL_557558ecbf8a42a7aeda5c968497a7e4",
            "value": " 218/218 [00:11&lt;00:00, 22.38 MiB/s]"
          }
        },
        "1035ea9178bb419d8d0cddeb7d4e7b81": {
          "model_module": "@jupyter-widgets/base",
          "model_name": "LayoutModel",
          "model_module_version": "1.2.0",
          "state": {
            "_model_module": "@jupyter-widgets/base",
            "_model_module_version": "1.2.0",
            "_model_name": "LayoutModel",
            "_view_count": null,
            "_view_module": "@jupyter-widgets/base",
            "_view_module_version": "1.2.0",
            "_view_name": "LayoutView",
            "align_content": null,
            "align_items": null,
            "align_self": null,
            "border": null,
            "bottom": null,
            "display": null,
            "flex": null,
            "flex_flow": null,
            "grid_area": null,
            "grid_auto_columns": null,
            "grid_auto_flow": null,
            "grid_auto_rows": null,
            "grid_column": null,
            "grid_gap": null,
            "grid_row": null,
            "grid_template_areas": null,
            "grid_template_columns": null,
            "grid_template_rows": null,
            "height": null,
            "justify_content": null,
            "justify_items": null,
            "left": null,
            "margin": null,
            "max_height": null,
            "max_width": null,
            "min_height": null,
            "min_width": null,
            "object_fit": null,
            "object_position": null,
            "order": null,
            "overflow": null,
            "overflow_x": null,
            "overflow_y": null,
            "padding": null,
            "right": null,
            "top": null,
            "visibility": null,
            "width": null
          }
        },
        "a6f93b1161bb4a7886c8366b80702f66": {
          "model_module": "@jupyter-widgets/base",
          "model_name": "LayoutModel",
          "model_module_version": "1.2.0",
          "state": {
            "_model_module": "@jupyter-widgets/base",
            "_model_module_version": "1.2.0",
            "_model_name": "LayoutModel",
            "_view_count": null,
            "_view_module": "@jupyter-widgets/base",
            "_view_module_version": "1.2.0",
            "_view_name": "LayoutView",
            "align_content": null,
            "align_items": null,
            "align_self": null,
            "border": null,
            "bottom": null,
            "display": null,
            "flex": null,
            "flex_flow": null,
            "grid_area": null,
            "grid_auto_columns": null,
            "grid_auto_flow": null,
            "grid_auto_rows": null,
            "grid_column": null,
            "grid_gap": null,
            "grid_row": null,
            "grid_template_areas": null,
            "grid_template_columns": null,
            "grid_template_rows": null,
            "height": null,
            "justify_content": null,
            "justify_items": null,
            "left": null,
            "margin": null,
            "max_height": null,
            "max_width": null,
            "min_height": null,
            "min_width": null,
            "object_fit": null,
            "object_position": null,
            "order": null,
            "overflow": null,
            "overflow_x": null,
            "overflow_y": null,
            "padding": null,
            "right": null,
            "top": null,
            "visibility": null,
            "width": null
          }
        },
        "d22f9821aa1b487992ecd3f6372ae0df": {
          "model_module": "@jupyter-widgets/controls",
          "model_name": "DescriptionStyleModel",
          "model_module_version": "1.5.0",
          "state": {
            "_model_module": "@jupyter-widgets/controls",
            "_model_module_version": "1.5.0",
            "_model_name": "DescriptionStyleModel",
            "_view_count": null,
            "_view_module": "@jupyter-widgets/base",
            "_view_module_version": "1.2.0",
            "_view_name": "StyleView",
            "description_width": ""
          }
        },
        "d1407ee9886c4aa18d37ec637745df5a": {
          "model_module": "@jupyter-widgets/base",
          "model_name": "LayoutModel",
          "model_module_version": "1.2.0",
          "state": {
            "_model_module": "@jupyter-widgets/base",
            "_model_module_version": "1.2.0",
            "_model_name": "LayoutModel",
            "_view_count": null,
            "_view_module": "@jupyter-widgets/base",
            "_view_module_version": "1.2.0",
            "_view_name": "LayoutView",
            "align_content": null,
            "align_items": null,
            "align_self": null,
            "border": null,
            "bottom": null,
            "display": null,
            "flex": null,
            "flex_flow": null,
            "grid_area": null,
            "grid_auto_columns": null,
            "grid_auto_flow": null,
            "grid_auto_rows": null,
            "grid_column": null,
            "grid_gap": null,
            "grid_row": null,
            "grid_template_areas": null,
            "grid_template_columns": null,
            "grid_template_rows": null,
            "height": null,
            "justify_content": null,
            "justify_items": null,
            "left": null,
            "margin": null,
            "max_height": null,
            "max_width": null,
            "min_height": null,
            "min_width": null,
            "object_fit": null,
            "object_position": null,
            "order": null,
            "overflow": null,
            "overflow_x": null,
            "overflow_y": null,
            "padding": null,
            "right": null,
            "top": null,
            "visibility": null,
            "width": "20px"
          }
        },
        "4fc590b9eb174fcb88eecce7457984cf": {
          "model_module": "@jupyter-widgets/controls",
          "model_name": "ProgressStyleModel",
          "model_module_version": "1.5.0",
          "state": {
            "_model_module": "@jupyter-widgets/controls",
            "_model_module_version": "1.5.0",
            "_model_name": "ProgressStyleModel",
            "_view_count": null,
            "_view_module": "@jupyter-widgets/base",
            "_view_module_version": "1.2.0",
            "_view_name": "StyleView",
            "bar_color": null,
            "description_width": ""
          }
        },
        "9f0bfdade7334f93a19bb778891978f3": {
          "model_module": "@jupyter-widgets/base",
          "model_name": "LayoutModel",
          "model_module_version": "1.2.0",
          "state": {
            "_model_module": "@jupyter-widgets/base",
            "_model_module_version": "1.2.0",
            "_model_name": "LayoutModel",
            "_view_count": null,
            "_view_module": "@jupyter-widgets/base",
            "_view_module_version": "1.2.0",
            "_view_name": "LayoutView",
            "align_content": null,
            "align_items": null,
            "align_self": null,
            "border": null,
            "bottom": null,
            "display": null,
            "flex": null,
            "flex_flow": null,
            "grid_area": null,
            "grid_auto_columns": null,
            "grid_auto_flow": null,
            "grid_auto_rows": null,
            "grid_column": null,
            "grid_gap": null,
            "grid_row": null,
            "grid_template_areas": null,
            "grid_template_columns": null,
            "grid_template_rows": null,
            "height": null,
            "justify_content": null,
            "justify_items": null,
            "left": null,
            "margin": null,
            "max_height": null,
            "max_width": null,
            "min_height": null,
            "min_width": null,
            "object_fit": null,
            "object_position": null,
            "order": null,
            "overflow": null,
            "overflow_x": null,
            "overflow_y": null,
            "padding": null,
            "right": null,
            "top": null,
            "visibility": null,
            "width": null
          }
        },
        "557558ecbf8a42a7aeda5c968497a7e4": {
          "model_module": "@jupyter-widgets/controls",
          "model_name": "DescriptionStyleModel",
          "model_module_version": "1.5.0",
          "state": {
            "_model_module": "@jupyter-widgets/controls",
            "_model_module_version": "1.5.0",
            "_model_name": "DescriptionStyleModel",
            "_view_count": null,
            "_view_module": "@jupyter-widgets/base",
            "_view_module_version": "1.2.0",
            "_view_name": "StyleView",
            "description_width": ""
          }
        },
        "38d140f0c78242fcba764221bb8220f9": {
          "model_module": "@jupyter-widgets/controls",
          "model_name": "HBoxModel",
          "model_module_version": "1.5.0",
          "state": {
            "_dom_classes": [],
            "_model_module": "@jupyter-widgets/controls",
            "_model_module_version": "1.5.0",
            "_model_name": "HBoxModel",
            "_view_count": null,
            "_view_module": "@jupyter-widgets/controls",
            "_view_module_version": "1.5.0",
            "_view_name": "HBoxView",
            "box_style": "",
            "children": [
              "IPY_MODEL_0fbb2543e6334bd4b0f1a846fab8baff",
              "IPY_MODEL_764b5673f0d44d76a9bbf5a9d72cb267",
              "IPY_MODEL_36581bdb674940d1860b2c91514c4c64"
            ],
            "layout": "IPY_MODEL_9d7a8e9183f14376bd0ff15b996a5050"
          }
        },
        "0fbb2543e6334bd4b0f1a846fab8baff": {
          "model_module": "@jupyter-widgets/controls",
          "model_name": "HTMLModel",
          "model_module_version": "1.5.0",
          "state": {
            "_dom_classes": [],
            "_model_module": "@jupyter-widgets/controls",
            "_model_module_version": "1.5.0",
            "_model_name": "HTMLModel",
            "_view_count": null,
            "_view_module": "@jupyter-widgets/controls",
            "_view_module_version": "1.5.0",
            "_view_name": "HTMLView",
            "description": "",
            "description_tooltip": null,
            "layout": "IPY_MODEL_9f4ef460d09947e58c47b5768c017ef7",
            "placeholder": "​",
            "style": "IPY_MODEL_d33605094f7f4815a23b05a43a96444c",
            "value": "Generating splits...: 100%"
          }
        },
        "764b5673f0d44d76a9bbf5a9d72cb267": {
          "model_module": "@jupyter-widgets/controls",
          "model_name": "FloatProgressModel",
          "model_module_version": "1.5.0",
          "state": {
            "_dom_classes": [],
            "_model_module": "@jupyter-widgets/controls",
            "_model_module_version": "1.5.0",
            "_model_name": "FloatProgressModel",
            "_view_count": null,
            "_view_module": "@jupyter-widgets/controls",
            "_view_module_version": "1.5.0",
            "_view_name": "ProgressView",
            "bar_style": "",
            "description": "",
            "description_tooltip": null,
            "layout": "IPY_MODEL_a7346f56f2264109bfcc657ba73f8f59",
            "max": 1,
            "min": 0,
            "orientation": "horizontal",
            "style": "IPY_MODEL_71fb95b9d8334e28a9378c927680ff1f",
            "value": 1
          }
        },
        "36581bdb674940d1860b2c91514c4c64": {
          "model_module": "@jupyter-widgets/controls",
          "model_name": "HTMLModel",
          "model_module_version": "1.5.0",
          "state": {
            "_dom_classes": [],
            "_model_module": "@jupyter-widgets/controls",
            "_model_module_version": "1.5.0",
            "_model_name": "HTMLModel",
            "_view_count": null,
            "_view_module": "@jupyter-widgets/controls",
            "_view_module_version": "1.5.0",
            "_view_name": "HTMLView",
            "description": "",
            "description_tooltip": null,
            "layout": "IPY_MODEL_caa49e8574a54d04a0d7cc3dc374fe56",
            "placeholder": "​",
            "style": "IPY_MODEL_bf1b320b622a4e7cae774238edf59e14",
            "value": " 1/1 [00:02&lt;00:00,  2.36s/ splits]"
          }
        },
        "9d7a8e9183f14376bd0ff15b996a5050": {
          "model_module": "@jupyter-widgets/base",
          "model_name": "LayoutModel",
          "model_module_version": "1.2.0",
          "state": {
            "_model_module": "@jupyter-widgets/base",
            "_model_module_version": "1.2.0",
            "_model_name": "LayoutModel",
            "_view_count": null,
            "_view_module": "@jupyter-widgets/base",
            "_view_module_version": "1.2.0",
            "_view_name": "LayoutView",
            "align_content": null,
            "align_items": null,
            "align_self": null,
            "border": null,
            "bottom": null,
            "display": null,
            "flex": null,
            "flex_flow": null,
            "grid_area": null,
            "grid_auto_columns": null,
            "grid_auto_flow": null,
            "grid_auto_rows": null,
            "grid_column": null,
            "grid_gap": null,
            "grid_row": null,
            "grid_template_areas": null,
            "grid_template_columns": null,
            "grid_template_rows": null,
            "height": null,
            "justify_content": null,
            "justify_items": null,
            "left": null,
            "margin": null,
            "max_height": null,
            "max_width": null,
            "min_height": null,
            "min_width": null,
            "object_fit": null,
            "object_position": null,
            "order": null,
            "overflow": null,
            "overflow_x": null,
            "overflow_y": null,
            "padding": null,
            "right": null,
            "top": null,
            "visibility": "hidden",
            "width": null
          }
        },
        "9f4ef460d09947e58c47b5768c017ef7": {
          "model_module": "@jupyter-widgets/base",
          "model_name": "LayoutModel",
          "model_module_version": "1.2.0",
          "state": {
            "_model_module": "@jupyter-widgets/base",
            "_model_module_version": "1.2.0",
            "_model_name": "LayoutModel",
            "_view_count": null,
            "_view_module": "@jupyter-widgets/base",
            "_view_module_version": "1.2.0",
            "_view_name": "LayoutView",
            "align_content": null,
            "align_items": null,
            "align_self": null,
            "border": null,
            "bottom": null,
            "display": null,
            "flex": null,
            "flex_flow": null,
            "grid_area": null,
            "grid_auto_columns": null,
            "grid_auto_flow": null,
            "grid_auto_rows": null,
            "grid_column": null,
            "grid_gap": null,
            "grid_row": null,
            "grid_template_areas": null,
            "grid_template_columns": null,
            "grid_template_rows": null,
            "height": null,
            "justify_content": null,
            "justify_items": null,
            "left": null,
            "margin": null,
            "max_height": null,
            "max_width": null,
            "min_height": null,
            "min_width": null,
            "object_fit": null,
            "object_position": null,
            "order": null,
            "overflow": null,
            "overflow_x": null,
            "overflow_y": null,
            "padding": null,
            "right": null,
            "top": null,
            "visibility": null,
            "width": null
          }
        },
        "d33605094f7f4815a23b05a43a96444c": {
          "model_module": "@jupyter-widgets/controls",
          "model_name": "DescriptionStyleModel",
          "model_module_version": "1.5.0",
          "state": {
            "_model_module": "@jupyter-widgets/controls",
            "_model_module_version": "1.5.0",
            "_model_name": "DescriptionStyleModel",
            "_view_count": null,
            "_view_module": "@jupyter-widgets/base",
            "_view_module_version": "1.2.0",
            "_view_name": "StyleView",
            "description_width": ""
          }
        },
        "a7346f56f2264109bfcc657ba73f8f59": {
          "model_module": "@jupyter-widgets/base",
          "model_name": "LayoutModel",
          "model_module_version": "1.2.0",
          "state": {
            "_model_module": "@jupyter-widgets/base",
            "_model_module_version": "1.2.0",
            "_model_name": "LayoutModel",
            "_view_count": null,
            "_view_module": "@jupyter-widgets/base",
            "_view_module_version": "1.2.0",
            "_view_name": "LayoutView",
            "align_content": null,
            "align_items": null,
            "align_self": null,
            "border": null,
            "bottom": null,
            "display": null,
            "flex": null,
            "flex_flow": null,
            "grid_area": null,
            "grid_auto_columns": null,
            "grid_auto_flow": null,
            "grid_auto_rows": null,
            "grid_column": null,
            "grid_gap": null,
            "grid_row": null,
            "grid_template_areas": null,
            "grid_template_columns": null,
            "grid_template_rows": null,
            "height": null,
            "justify_content": null,
            "justify_items": null,
            "left": null,
            "margin": null,
            "max_height": null,
            "max_width": null,
            "min_height": null,
            "min_width": null,
            "object_fit": null,
            "object_position": null,
            "order": null,
            "overflow": null,
            "overflow_x": null,
            "overflow_y": null,
            "padding": null,
            "right": null,
            "top": null,
            "visibility": null,
            "width": null
          }
        },
        "71fb95b9d8334e28a9378c927680ff1f": {
          "model_module": "@jupyter-widgets/controls",
          "model_name": "ProgressStyleModel",
          "model_module_version": "1.5.0",
          "state": {
            "_model_module": "@jupyter-widgets/controls",
            "_model_module_version": "1.5.0",
            "_model_name": "ProgressStyleModel",
            "_view_count": null,
            "_view_module": "@jupyter-widgets/base",
            "_view_module_version": "1.2.0",
            "_view_name": "StyleView",
            "bar_color": null,
            "description_width": ""
          }
        },
        "caa49e8574a54d04a0d7cc3dc374fe56": {
          "model_module": "@jupyter-widgets/base",
          "model_name": "LayoutModel",
          "model_module_version": "1.2.0",
          "state": {
            "_model_module": "@jupyter-widgets/base",
            "_model_module_version": "1.2.0",
            "_model_name": "LayoutModel",
            "_view_count": null,
            "_view_module": "@jupyter-widgets/base",
            "_view_module_version": "1.2.0",
            "_view_name": "LayoutView",
            "align_content": null,
            "align_items": null,
            "align_self": null,
            "border": null,
            "bottom": null,
            "display": null,
            "flex": null,
            "flex_flow": null,
            "grid_area": null,
            "grid_auto_columns": null,
            "grid_auto_flow": null,
            "grid_auto_rows": null,
            "grid_column": null,
            "grid_gap": null,
            "grid_row": null,
            "grid_template_areas": null,
            "grid_template_columns": null,
            "grid_template_rows": null,
            "height": null,
            "justify_content": null,
            "justify_items": null,
            "left": null,
            "margin": null,
            "max_height": null,
            "max_width": null,
            "min_height": null,
            "min_width": null,
            "object_fit": null,
            "object_position": null,
            "order": null,
            "overflow": null,
            "overflow_x": null,
            "overflow_y": null,
            "padding": null,
            "right": null,
            "top": null,
            "visibility": null,
            "width": null
          }
        },
        "bf1b320b622a4e7cae774238edf59e14": {
          "model_module": "@jupyter-widgets/controls",
          "model_name": "DescriptionStyleModel",
          "model_module_version": "1.5.0",
          "state": {
            "_model_module": "@jupyter-widgets/controls",
            "_model_module_version": "1.5.0",
            "_model_name": "DescriptionStyleModel",
            "_view_count": null,
            "_view_module": "@jupyter-widgets/base",
            "_view_module_version": "1.2.0",
            "_view_name": "StyleView",
            "description_width": ""
          }
        },
        "2b9135d723a24531a3e9ad7c64cfbca2": {
          "model_module": "@jupyter-widgets/controls",
          "model_name": "HBoxModel",
          "model_module_version": "1.5.0",
          "state": {
            "_dom_classes": [],
            "_model_module": "@jupyter-widgets/controls",
            "_model_module_version": "1.5.0",
            "_model_name": "HBoxModel",
            "_view_count": null,
            "_view_module": "@jupyter-widgets/controls",
            "_view_module_version": "1.5.0",
            "_view_name": "HBoxView",
            "box_style": "",
            "children": [
              "IPY_MODEL_33a2faec116f4130b3bd5a83f01dc49a",
              "IPY_MODEL_5cd23affb46f41c1b79c2ff85e78dbde",
              "IPY_MODEL_2ca7906084d74d80aa492f918afb1d91"
            ],
            "layout": "IPY_MODEL_c6f99acc6977443d99452e15926cc649"
          }
        },
        "33a2faec116f4130b3bd5a83f01dc49a": {
          "model_module": "@jupyter-widgets/controls",
          "model_name": "HTMLModel",
          "model_module_version": "1.5.0",
          "state": {
            "_dom_classes": [],
            "_model_module": "@jupyter-widgets/controls",
            "_model_module_version": "1.5.0",
            "_model_name": "HTMLModel",
            "_view_count": null,
            "_view_module": "@jupyter-widgets/controls",
            "_view_module_version": "1.5.0",
            "_view_name": "HTMLView",
            "description": "",
            "description_tooltip": null,
            "layout": "IPY_MODEL_63eada6641464ea4954153abe0c3d577",
            "placeholder": "​",
            "style": "IPY_MODEL_0414fb836dc044149746d315f71d4bf4",
            "value": "Generating train examples...: "
          }
        },
        "5cd23affb46f41c1b79c2ff85e78dbde": {
          "model_module": "@jupyter-widgets/controls",
          "model_name": "FloatProgressModel",
          "model_module_version": "1.5.0",
          "state": {
            "_dom_classes": [],
            "_model_module": "@jupyter-widgets/controls",
            "_model_module_version": "1.5.0",
            "_model_name": "FloatProgressModel",
            "_view_count": null,
            "_view_module": "@jupyter-widgets/controls",
            "_view_module_version": "1.5.0",
            "_view_name": "ProgressView",
            "bar_style": "info",
            "description": "",
            "description_tooltip": null,
            "layout": "IPY_MODEL_aeef37dd021645abbb3eb651a9606634",
            "max": 1,
            "min": 0,
            "orientation": "horizontal",
            "style": "IPY_MODEL_78112f98407141dea256b02af29f1b33",
            "value": 1
          }
        },
        "2ca7906084d74d80aa492f918afb1d91": {
          "model_module": "@jupyter-widgets/controls",
          "model_name": "HTMLModel",
          "model_module_version": "1.5.0",
          "state": {
            "_dom_classes": [],
            "_model_module": "@jupyter-widgets/controls",
            "_model_module_version": "1.5.0",
            "_model_name": "HTMLModel",
            "_view_count": null,
            "_view_module": "@jupyter-widgets/controls",
            "_view_module_version": "1.5.0",
            "_view_name": "HTMLView",
            "description": "",
            "description_tooltip": null,
            "layout": "IPY_MODEL_259392abe4ec43d0abb40d21e6207655",
            "placeholder": "​",
            "style": "IPY_MODEL_6fb7939a1262418080e90e50df3916d6",
            "value": " 1768/? [00:01&lt;00:00, 1767.94 examples/s]"
          }
        },
        "c6f99acc6977443d99452e15926cc649": {
          "model_module": "@jupyter-widgets/base",
          "model_name": "LayoutModel",
          "model_module_version": "1.2.0",
          "state": {
            "_model_module": "@jupyter-widgets/base",
            "_model_module_version": "1.2.0",
            "_model_name": "LayoutModel",
            "_view_count": null,
            "_view_module": "@jupyter-widgets/base",
            "_view_module_version": "1.2.0",
            "_view_name": "LayoutView",
            "align_content": null,
            "align_items": null,
            "align_self": null,
            "border": null,
            "bottom": null,
            "display": null,
            "flex": null,
            "flex_flow": null,
            "grid_area": null,
            "grid_auto_columns": null,
            "grid_auto_flow": null,
            "grid_auto_rows": null,
            "grid_column": null,
            "grid_gap": null,
            "grid_row": null,
            "grid_template_areas": null,
            "grid_template_columns": null,
            "grid_template_rows": null,
            "height": null,
            "justify_content": null,
            "justify_items": null,
            "left": null,
            "margin": null,
            "max_height": null,
            "max_width": null,
            "min_height": null,
            "min_width": null,
            "object_fit": null,
            "object_position": null,
            "order": null,
            "overflow": null,
            "overflow_x": null,
            "overflow_y": null,
            "padding": null,
            "right": null,
            "top": null,
            "visibility": "hidden",
            "width": null
          }
        },
        "63eada6641464ea4954153abe0c3d577": {
          "model_module": "@jupyter-widgets/base",
          "model_name": "LayoutModel",
          "model_module_version": "1.2.0",
          "state": {
            "_model_module": "@jupyter-widgets/base",
            "_model_module_version": "1.2.0",
            "_model_name": "LayoutModel",
            "_view_count": null,
            "_view_module": "@jupyter-widgets/base",
            "_view_module_version": "1.2.0",
            "_view_name": "LayoutView",
            "align_content": null,
            "align_items": null,
            "align_self": null,
            "border": null,
            "bottom": null,
            "display": null,
            "flex": null,
            "flex_flow": null,
            "grid_area": null,
            "grid_auto_columns": null,
            "grid_auto_flow": null,
            "grid_auto_rows": null,
            "grid_column": null,
            "grid_gap": null,
            "grid_row": null,
            "grid_template_areas": null,
            "grid_template_columns": null,
            "grid_template_rows": null,
            "height": null,
            "justify_content": null,
            "justify_items": null,
            "left": null,
            "margin": null,
            "max_height": null,
            "max_width": null,
            "min_height": null,
            "min_width": null,
            "object_fit": null,
            "object_position": null,
            "order": null,
            "overflow": null,
            "overflow_x": null,
            "overflow_y": null,
            "padding": null,
            "right": null,
            "top": null,
            "visibility": null,
            "width": null
          }
        },
        "0414fb836dc044149746d315f71d4bf4": {
          "model_module": "@jupyter-widgets/controls",
          "model_name": "DescriptionStyleModel",
          "model_module_version": "1.5.0",
          "state": {
            "_model_module": "@jupyter-widgets/controls",
            "_model_module_version": "1.5.0",
            "_model_name": "DescriptionStyleModel",
            "_view_count": null,
            "_view_module": "@jupyter-widgets/base",
            "_view_module_version": "1.2.0",
            "_view_name": "StyleView",
            "description_width": ""
          }
        },
        "aeef37dd021645abbb3eb651a9606634": {
          "model_module": "@jupyter-widgets/base",
          "model_name": "LayoutModel",
          "model_module_version": "1.2.0",
          "state": {
            "_model_module": "@jupyter-widgets/base",
            "_model_module_version": "1.2.0",
            "_model_name": "LayoutModel",
            "_view_count": null,
            "_view_module": "@jupyter-widgets/base",
            "_view_module_version": "1.2.0",
            "_view_name": "LayoutView",
            "align_content": null,
            "align_items": null,
            "align_self": null,
            "border": null,
            "bottom": null,
            "display": null,
            "flex": null,
            "flex_flow": null,
            "grid_area": null,
            "grid_auto_columns": null,
            "grid_auto_flow": null,
            "grid_auto_rows": null,
            "grid_column": null,
            "grid_gap": null,
            "grid_row": null,
            "grid_template_areas": null,
            "grid_template_columns": null,
            "grid_template_rows": null,
            "height": null,
            "justify_content": null,
            "justify_items": null,
            "left": null,
            "margin": null,
            "max_height": null,
            "max_width": null,
            "min_height": null,
            "min_width": null,
            "object_fit": null,
            "object_position": null,
            "order": null,
            "overflow": null,
            "overflow_x": null,
            "overflow_y": null,
            "padding": null,
            "right": null,
            "top": null,
            "visibility": null,
            "width": "20px"
          }
        },
        "78112f98407141dea256b02af29f1b33": {
          "model_module": "@jupyter-widgets/controls",
          "model_name": "ProgressStyleModel",
          "model_module_version": "1.5.0",
          "state": {
            "_model_module": "@jupyter-widgets/controls",
            "_model_module_version": "1.5.0",
            "_model_name": "ProgressStyleModel",
            "_view_count": null,
            "_view_module": "@jupyter-widgets/base",
            "_view_module_version": "1.2.0",
            "_view_name": "StyleView",
            "bar_color": null,
            "description_width": ""
          }
        },
        "259392abe4ec43d0abb40d21e6207655": {
          "model_module": "@jupyter-widgets/base",
          "model_name": "LayoutModel",
          "model_module_version": "1.2.0",
          "state": {
            "_model_module": "@jupyter-widgets/base",
            "_model_module_version": "1.2.0",
            "_model_name": "LayoutModel",
            "_view_count": null,
            "_view_module": "@jupyter-widgets/base",
            "_view_module_version": "1.2.0",
            "_view_name": "LayoutView",
            "align_content": null,
            "align_items": null,
            "align_self": null,
            "border": null,
            "bottom": null,
            "display": null,
            "flex": null,
            "flex_flow": null,
            "grid_area": null,
            "grid_auto_columns": null,
            "grid_auto_flow": null,
            "grid_auto_rows": null,
            "grid_column": null,
            "grid_gap": null,
            "grid_row": null,
            "grid_template_areas": null,
            "grid_template_columns": null,
            "grid_template_rows": null,
            "height": null,
            "justify_content": null,
            "justify_items": null,
            "left": null,
            "margin": null,
            "max_height": null,
            "max_width": null,
            "min_height": null,
            "min_width": null,
            "object_fit": null,
            "object_position": null,
            "order": null,
            "overflow": null,
            "overflow_x": null,
            "overflow_y": null,
            "padding": null,
            "right": null,
            "top": null,
            "visibility": null,
            "width": null
          }
        },
        "6fb7939a1262418080e90e50df3916d6": {
          "model_module": "@jupyter-widgets/controls",
          "model_name": "DescriptionStyleModel",
          "model_module_version": "1.5.0",
          "state": {
            "_model_module": "@jupyter-widgets/controls",
            "_model_module_version": "1.5.0",
            "_model_name": "DescriptionStyleModel",
            "_view_count": null,
            "_view_module": "@jupyter-widgets/base",
            "_view_module_version": "1.2.0",
            "_view_name": "StyleView",
            "description_width": ""
          }
        },
        "aaf80df6fe7e426883589f3ae7ddc658": {
          "model_module": "@jupyter-widgets/controls",
          "model_name": "HBoxModel",
          "model_module_version": "1.5.0",
          "state": {
            "_dom_classes": [],
            "_model_module": "@jupyter-widgets/controls",
            "_model_module_version": "1.5.0",
            "_model_name": "HBoxModel",
            "_view_count": null,
            "_view_module": "@jupyter-widgets/controls",
            "_view_module_version": "1.5.0",
            "_view_name": "HBoxView",
            "box_style": "",
            "children": [
              "IPY_MODEL_e83833b63b514485bf2a03f939d6fe35",
              "IPY_MODEL_bcddcbdf9473458482c3683262e32442",
              "IPY_MODEL_503c4fb39150434882c04732a9802f17"
            ],
            "layout": "IPY_MODEL_3a12acdf886940cda0761212cf1621f1"
          }
        },
        "e83833b63b514485bf2a03f939d6fe35": {
          "model_module": "@jupyter-widgets/controls",
          "model_name": "HTMLModel",
          "model_module_version": "1.5.0",
          "state": {
            "_dom_classes": [],
            "_model_module": "@jupyter-widgets/controls",
            "_model_module_version": "1.5.0",
            "_model_name": "HTMLModel",
            "_view_count": null,
            "_view_module": "@jupyter-widgets/controls",
            "_view_module_version": "1.5.0",
            "_view_name": "HTMLView",
            "description": "",
            "description_tooltip": null,
            "layout": "IPY_MODEL_9478f84da41248d89fe73bce8ea52fe6",
            "placeholder": "​",
            "style": "IPY_MODEL_4321d458fbd04033a2311906343d7238",
            "value": "Shuffling /root/tensorflow_datasets/tf_flowers/incomplete.YO6M26_3.0.1/tf_flowers-train.tfrecord*...:   0%"
          }
        },
        "bcddcbdf9473458482c3683262e32442": {
          "model_module": "@jupyter-widgets/controls",
          "model_name": "FloatProgressModel",
          "model_module_version": "1.5.0",
          "state": {
            "_dom_classes": [],
            "_model_module": "@jupyter-widgets/controls",
            "_model_module_version": "1.5.0",
            "_model_name": "FloatProgressModel",
            "_view_count": null,
            "_view_module": "@jupyter-widgets/controls",
            "_view_module_version": "1.5.0",
            "_view_name": "ProgressView",
            "bar_style": "",
            "description": "",
            "description_tooltip": null,
            "layout": "IPY_MODEL_ca70b0a17958489a9322262b3a1d130c",
            "max": 3670,
            "min": 0,
            "orientation": "horizontal",
            "style": "IPY_MODEL_6647e634dfac4e15842c568a0b53f0c2",
            "value": 3670
          }
        },
        "503c4fb39150434882c04732a9802f17": {
          "model_module": "@jupyter-widgets/controls",
          "model_name": "HTMLModel",
          "model_module_version": "1.5.0",
          "state": {
            "_dom_classes": [],
            "_model_module": "@jupyter-widgets/controls",
            "_model_module_version": "1.5.0",
            "_model_name": "HTMLModel",
            "_view_count": null,
            "_view_module": "@jupyter-widgets/controls",
            "_view_module_version": "1.5.0",
            "_view_name": "HTMLView",
            "description": "",
            "description_tooltip": null,
            "layout": "IPY_MODEL_26fe9a79652f4dae8e82c15f530a6c19",
            "placeholder": "​",
            "style": "IPY_MODEL_a5c9cd926de642b1856a1df7d77a20b7",
            "value": " 0/3670 [00:00&lt;?, ? examples/s]"
          }
        },
        "3a12acdf886940cda0761212cf1621f1": {
          "model_module": "@jupyter-widgets/base",
          "model_name": "LayoutModel",
          "model_module_version": "1.2.0",
          "state": {
            "_model_module": "@jupyter-widgets/base",
            "_model_module_version": "1.2.0",
            "_model_name": "LayoutModel",
            "_view_count": null,
            "_view_module": "@jupyter-widgets/base",
            "_view_module_version": "1.2.0",
            "_view_name": "LayoutView",
            "align_content": null,
            "align_items": null,
            "align_self": null,
            "border": null,
            "bottom": null,
            "display": null,
            "flex": null,
            "flex_flow": null,
            "grid_area": null,
            "grid_auto_columns": null,
            "grid_auto_flow": null,
            "grid_auto_rows": null,
            "grid_column": null,
            "grid_gap": null,
            "grid_row": null,
            "grid_template_areas": null,
            "grid_template_columns": null,
            "grid_template_rows": null,
            "height": null,
            "justify_content": null,
            "justify_items": null,
            "left": null,
            "margin": null,
            "max_height": null,
            "max_width": null,
            "min_height": null,
            "min_width": null,
            "object_fit": null,
            "object_position": null,
            "order": null,
            "overflow": null,
            "overflow_x": null,
            "overflow_y": null,
            "padding": null,
            "right": null,
            "top": null,
            "visibility": "hidden",
            "width": null
          }
        },
        "9478f84da41248d89fe73bce8ea52fe6": {
          "model_module": "@jupyter-widgets/base",
          "model_name": "LayoutModel",
          "model_module_version": "1.2.0",
          "state": {
            "_model_module": "@jupyter-widgets/base",
            "_model_module_version": "1.2.0",
            "_model_name": "LayoutModel",
            "_view_count": null,
            "_view_module": "@jupyter-widgets/base",
            "_view_module_version": "1.2.0",
            "_view_name": "LayoutView",
            "align_content": null,
            "align_items": null,
            "align_self": null,
            "border": null,
            "bottom": null,
            "display": null,
            "flex": null,
            "flex_flow": null,
            "grid_area": null,
            "grid_auto_columns": null,
            "grid_auto_flow": null,
            "grid_auto_rows": null,
            "grid_column": null,
            "grid_gap": null,
            "grid_row": null,
            "grid_template_areas": null,
            "grid_template_columns": null,
            "grid_template_rows": null,
            "height": null,
            "justify_content": null,
            "justify_items": null,
            "left": null,
            "margin": null,
            "max_height": null,
            "max_width": null,
            "min_height": null,
            "min_width": null,
            "object_fit": null,
            "object_position": null,
            "order": null,
            "overflow": null,
            "overflow_x": null,
            "overflow_y": null,
            "padding": null,
            "right": null,
            "top": null,
            "visibility": null,
            "width": null
          }
        },
        "4321d458fbd04033a2311906343d7238": {
          "model_module": "@jupyter-widgets/controls",
          "model_name": "DescriptionStyleModel",
          "model_module_version": "1.5.0",
          "state": {
            "_model_module": "@jupyter-widgets/controls",
            "_model_module_version": "1.5.0",
            "_model_name": "DescriptionStyleModel",
            "_view_count": null,
            "_view_module": "@jupyter-widgets/base",
            "_view_module_version": "1.2.0",
            "_view_name": "StyleView",
            "description_width": ""
          }
        },
        "ca70b0a17958489a9322262b3a1d130c": {
          "model_module": "@jupyter-widgets/base",
          "model_name": "LayoutModel",
          "model_module_version": "1.2.0",
          "state": {
            "_model_module": "@jupyter-widgets/base",
            "_model_module_version": "1.2.0",
            "_model_name": "LayoutModel",
            "_view_count": null,
            "_view_module": "@jupyter-widgets/base",
            "_view_module_version": "1.2.0",
            "_view_name": "LayoutView",
            "align_content": null,
            "align_items": null,
            "align_self": null,
            "border": null,
            "bottom": null,
            "display": null,
            "flex": null,
            "flex_flow": null,
            "grid_area": null,
            "grid_auto_columns": null,
            "grid_auto_flow": null,
            "grid_auto_rows": null,
            "grid_column": null,
            "grid_gap": null,
            "grid_row": null,
            "grid_template_areas": null,
            "grid_template_columns": null,
            "grid_template_rows": null,
            "height": null,
            "justify_content": null,
            "justify_items": null,
            "left": null,
            "margin": null,
            "max_height": null,
            "max_width": null,
            "min_height": null,
            "min_width": null,
            "object_fit": null,
            "object_position": null,
            "order": null,
            "overflow": null,
            "overflow_x": null,
            "overflow_y": null,
            "padding": null,
            "right": null,
            "top": null,
            "visibility": null,
            "width": null
          }
        },
        "6647e634dfac4e15842c568a0b53f0c2": {
          "model_module": "@jupyter-widgets/controls",
          "model_name": "ProgressStyleModel",
          "model_module_version": "1.5.0",
          "state": {
            "_model_module": "@jupyter-widgets/controls",
            "_model_module_version": "1.5.0",
            "_model_name": "ProgressStyleModel",
            "_view_count": null,
            "_view_module": "@jupyter-widgets/base",
            "_view_module_version": "1.2.0",
            "_view_name": "StyleView",
            "bar_color": null,
            "description_width": ""
          }
        },
        "26fe9a79652f4dae8e82c15f530a6c19": {
          "model_module": "@jupyter-widgets/base",
          "model_name": "LayoutModel",
          "model_module_version": "1.2.0",
          "state": {
            "_model_module": "@jupyter-widgets/base",
            "_model_module_version": "1.2.0",
            "_model_name": "LayoutModel",
            "_view_count": null,
            "_view_module": "@jupyter-widgets/base",
            "_view_module_version": "1.2.0",
            "_view_name": "LayoutView",
            "align_content": null,
            "align_items": null,
            "align_self": null,
            "border": null,
            "bottom": null,
            "display": null,
            "flex": null,
            "flex_flow": null,
            "grid_area": null,
            "grid_auto_columns": null,
            "grid_auto_flow": null,
            "grid_auto_rows": null,
            "grid_column": null,
            "grid_gap": null,
            "grid_row": null,
            "grid_template_areas": null,
            "grid_template_columns": null,
            "grid_template_rows": null,
            "height": null,
            "justify_content": null,
            "justify_items": null,
            "left": null,
            "margin": null,
            "max_height": null,
            "max_width": null,
            "min_height": null,
            "min_width": null,
            "object_fit": null,
            "object_position": null,
            "order": null,
            "overflow": null,
            "overflow_x": null,
            "overflow_y": null,
            "padding": null,
            "right": null,
            "top": null,
            "visibility": null,
            "width": null
          }
        },
        "a5c9cd926de642b1856a1df7d77a20b7": {
          "model_module": "@jupyter-widgets/controls",
          "model_name": "DescriptionStyleModel",
          "model_module_version": "1.5.0",
          "state": {
            "_model_module": "@jupyter-widgets/controls",
            "_model_module_version": "1.5.0",
            "_model_name": "DescriptionStyleModel",
            "_view_count": null,
            "_view_module": "@jupyter-widgets/base",
            "_view_module_version": "1.2.0",
            "_view_name": "StyleView",
            "description_width": ""
          }
        }
      }
    },
    "accelerator": "GPU"
  },
  "cells": [
    {
      "cell_type": "markdown",
      "source": [
        "# Laporan Analisis Bab\n",
        "\n",
        "**Judul Buku:** Hands-on Machine Learning with Scikit-Learn, Keras, and TensorFlow\n",
        "**Penulis:** Aurélien Géron\n",
        "**Edisi:** Kedua, Diperbarui untuk TensorFlow 2\n",
        "\n",
        "---\n",
        "\n",
        "## Bab 14: Deep Computer Vision Using Convolutional Neural Networks\n",
        "\n",
        "**I. Pendahuluan**\n",
        "Bab 14 dari buku \"Hands-on Machine Learning with Scikit-Learn, Keras, and TensorFlow\" mengupas tuntas tentang Convolutional Neural Networks (CNNs) dan aplikasinya dalam visi komputer mendalam. Penulis memulai dengan menjelaskan mengapa tugas-tugas visual yang bagi manusia terasa sepele (seperti mendeteksi anak anjing dalam gambar) sebenarnya sangat kompleks bagi komputer, dan bagaimana persepsi visual sebagian besar terjadi di luar kesadaran kita, melibatkan modul sensorik khusus di otak. CNNs, yang terinspirasi dari studi korteks visual otak, telah digunakan dalam pengenalan gambar sejak tahun 1980-an dan kini telah mencapai kinerja *superhuman* pada tugas-tugas visual yang kompleks. Bab ini bertujuan untuk menjelaskan asal-usul CNN, blok pembangunnya, implementasinya menggunakan TensorFlow dan Keras, serta arsitektur CNN terbaik dan tugas-tugas visual lainnya seperti deteksi objek dan segmentasi semantik.\n",
        "\n",
        "**II. Arsitektur Korteks Visual dan Inspirasi CNN**\n",
        "Penulis merujuk pada eksperimen David H. Hubel dan Torsten Wiesel pada kucing (1958-1959) yang memberikan wawasan krusial tentang struktur korteks visual. Temuan utama meliputi:\n",
        "* **Bidang Reseptif Lokal:** Banyak neuron di korteks visual memiliki bidang reseptif lokal yang kecil, artinya mereka hanya bereaksi terhadap stimulus visual di wilayah terbatas dari bidang pandang.\n",
        "* **Respons Pola Spesifik:** Beberapa neuron hanya bereaksi terhadap garis horizontal, sementara yang lain bereaksi terhadap garis dengan orientasi berbeda.\n",
        "* **Kombinasi Pola Tingkat Rendah:** Neuron tingkat yang lebih tinggi bereaksi terhadap pola yang lebih kompleks yang merupakan kombinasi dari pola tingkat rendah.\n",
        "\n",
        "Pengamatan ini mengarah pada gagasan bahwa neuron tingkat tinggi dibangun di atas output neuron tingkat rendah yang berdekatan. Studi ini menginspirasi *neocognitron* (1980) yang kemudian berkembang menjadi CNN. LeNet-5 (1998) oleh Yann LeCun et al. merupakan tonggak penting yang memperkenalkan lapisan konvolusional dan lapisan *pooling*. CNN mengatasi masalah jumlah parameter yang besar pada *deep neural network* yang sepenuhnya terhubung untuk gambar besar melalui lapisan yang terhubung sebagian dan *weight sharing*.\n",
        "\n",
        "**III. Lapisan Konvolusional (Convolutional Layers)**\n",
        "Lapisan konvolusional adalah blok pembangun terpenting dari CNN. Neuron pada lapisan konvolusional pertama hanya terhubung ke piksel dalam bidang reseptifnya. Arsitektur ini memungkinkan jaringan untuk fokus pada fitur tingkat rendah yang kecil pada lapisan tersembunyi pertama, kemudian merakitnya menjadi fitur tingkat tinggi yang lebih besar pada lapisan tersembunyi berikutnya, dan seterusnya.\n",
        "\n",
        "**Konsep-konsep Penting:**\n",
        "* **Zero Padding:** Penambahan nol di sekitar input untuk menjaga tinggi dan lebar lapisan tetap sama dengan lapisan sebelumnya.\n",
        "* **Stride:** Pergeseran dari satu bidang reseptif ke bidang reseptif berikutnya. Ini dapat mengurangi kompleksitas komputasi model secara dramatis.\n",
        "* **Filter (Convolution Kernels):** Bobot neuron dapat direpresentasikan sebagai gambar kecil seukuran bidang reseptif. Sebuah lapisan dengan neuron yang menggunakan filter yang sama akan menghasilkan *feature map* yang menyoroti area dalam gambar yang paling mengaktifkan filter tersebut. Lapisan konvolusional akan belajar secara otomatis filter yang paling berguna selama pelatihan.\n",
        "* **Penumpukan Multiple Feature Maps:** Lapisan konvolusional memiliki banyak filter dan menghasilkan satu *feature map* per filter, sehingga lebih akurat direpresentasikan dalam 3D. Semua neuron dalam *feature map* tertentu berbagi parameter yang sama (*weight* dan *bias term*), secara drastis mengurangi jumlah parameter model.\n",
        "\n",
        "**Implementasi TensorFlow:**\n",
        "* Gambar input direpresentasikan sebagai tensor 3D `[height, width, channels]`.\n",
        "* *Mini-batch* direpresentasikan sebagai tensor 4D `[mini-batch size, height, width, channels]`.\n",
        "* Bobot lapisan konvolusional direpresentasikan sebagai tensor 4D `[fh, fw, fn', fn]`.\n",
        "* `tf.nn.conv2d()` digunakan untuk menerapkan filter.\n",
        "* Parameter `strides` dapat berupa 1D array dengan empat elemen, di mana dua elemen sentral adalah *vertical* dan *horizontal strides*.\n",
        "* Parameter `padding` harus berupa `\"SAME\"` atau `\"VALID\"`.\n",
        "* `keras.layers.Conv2D` adalah lapisan Keras yang lebih tinggi untuk konvolusi.\n",
        "\n",
        "**Persyaratan Memori:**\n",
        "* Lapisan konvolusional membutuhkan RAM yang besar, terutama selama pelatihan karena *reverse pass* dari *backpropagation* membutuhkan semua nilai perantara yang dihitung selama *forward pass*.\n",
        "* Selama inferensi, RAM yang ditempati satu lapisan dapat dilepaskan segera setelah lapisan berikutnya dihitung.\n",
        "* Solusi untuk masalah *out-of-memory* meliputi pengurangan ukuran *mini-batch*, pengurangan dimensi dengan *stride*, penghapusan lapisan, penggunaan *float* 16-bit, atau distribusi CNN ke beberapa perangkat.\n",
        "\n",
        "**IV. Lapisan Pooling (Pooling Layers)**\n",
        "Lapisan *pooling* bertujuan untuk mensub-sampel (mengecilkan) gambar input untuk mengurangi beban komputasi, penggunaan memori, dan jumlah parameter (membatasi risiko *overfitting*).\n",
        "\n",
        "**Konsep-konsep Penting:**\n",
        "* Setiap neuron pada lapisan *pooling* terhubung ke output sejumlah neuron terbatas di lapisan sebelumnya dalam bidang reseptif persegi panjang kecil.\n",
        "* Tidak ada bobot pada neuron *pooling*; mereka hanya mengumpulkan input menggunakan fungsi agregasi seperti `max` atau `mean`.\n",
        "* **Max Pooling Layer:** Jenis *pooling* yang paling umum. Hanya nilai input maksimum dalam setiap bidang reseptif yang diteruskan ke lapisan berikutnya.\n",
        "* **Translation Invariance:** Lapisan *max pooling* memperkenalkan tingkat invariansi terhadap translasi kecil, yang berarti prediksi tidak terlalu bergantung pada pergeseran objek.\n",
        "* **Kekurangan Max Pooling:** Sangat destruktif (menghilangkan banyak informasi) dan invariansi mungkin tidak selalu diinginkan (misalnya, dalam segmentasi semantik dibutuhkan *equivariance*).\n",
        "\n",
        "**Implementasi TensorFlow:**\n",
        "* `keras.layers.MaxPool2D` untuk *max pooling*.\n",
        "* `keras.layers.AvgPool2D` untuk *average pooling*.\n",
        "* `tf.nn.max_pool()` untuk *depthwise max pooling* (lapisan Keras tidak memiliki ini secara langsung).\n",
        "* `keras.layers.GlobalAvgPool2D` untuk lapisan *global average pooling* (menghitung rata-rata seluruh *feature map*).\n",
        "\n",
        "**V. Arsitektur CNN**\n",
        "Arsitektur CNN yang khas menumpuk beberapa lapisan konvolusional (biasanya diikuti oleh lapisan ReLU), kemudian lapisan *pooling*, diikuti oleh beberapa lapisan konvolusional lainnya (+ReLU), dan seterusnya. Gambar semakin kecil saat melewati jaringan, tetapi juga semakin dalam (dengan lebih banyak *feature map*). Pada bagian atas tumpukan, ditambahkan jaringan saraf *feedforward* biasa yang terdiri dari beberapa lapisan yang terhubung sepenuhnya (+ReLUs), dan lapisan terakhir menghasilkan prediksi.\n",
        "\n",
        "**Kesalahan Umum:** Menggunakan kernel konvolusional yang terlalu besar. Lebih baik menumpuk dua lapisan dengan kernel 3x3 daripada satu lapisan 5x5 karena akan menggunakan lebih sedikit parameter, membutuhkan lebih sedikit komputasi, dan umumnya berkinerja lebih baik.\n",
        "\n",
        "**Arsitektur Populer:**\n",
        "* **LeNet-5 (1998):** Arsitektur CNN yang paling dikenal, digunakan untuk pengenalan digit tulisan tangan (MNIST). Terdiri dari lapisan konvolusional, *average pooling*, dan lapisan yang terhubung sepenuhnya. Output lapisan terakhir menggunakan jarak Euclidean.\n",
        "* **AlexNet (2012):** Memenangkan tantangan ImageNet ILSVRC 2012 dengan margin besar. Mirip dengan LeNet-5, tetapi jauh lebih besar dan lebih dalam, serta yang pertama menumpuk lapisan konvolusional secara langsung. Menggunakan *dropout* dan *data augmentation* untuk mengurangi *overfitting*, serta *local response normalization* (LRN) untuk mendorong *feature map* yang berbeda untuk berspesialisasi.\n",
        "    * **Data Augmentation:** Secara artifisial meningkatkan ukuran *training set* dengan menghasilkan banyak varian realistis dari setiap *training instance*, mengurangi *overfitting*.\n",
        "* **GoogLeNet (2014):** Memenangkan tantangan ILSVRC 2014, mendorong *top-five error rate* di bawah 7%. Kinerja ini sebagian besar berasal dari penggunaan *inception modules* yang memungkinkan GoogLeNet menggunakan parameter jauh lebih efisien daripada arsitektur sebelumnya (sekitar 10 kali lebih sedikit parameter daripada AlexNet). *Inception module* memiliki lapisan konvolusional 1x1, 3x3, dan 5x5, serta *max pooling*, yang outputnya digabungkan. Lapisan 1x1 bertindak sebagai lapisan *bottleneck* untuk mengurangi dimensi dan biaya komputasi.\n",
        "* **ResNet (Residual Network) (2015):** Memenangkan tantangan ILSVRC 2015, menghasilkan *top-five error rate* di bawah 3.6%. Varian pemenang menggunakan CNN yang sangat dalam yang terdiri dari 152 lapisan. Kunci untuk melatih jaringan sedalam itu adalah penggunaan *skip connections* (juga disebut *shortcut connections*), di mana sinyal yang masuk ke suatu lapisan juga ditambahkan ke output lapisan yang terletak sedikit lebih tinggi dalam tumpukan. Ini disebut *residual learning*.\n",
        "* **Xception (Extreme Inception) (2016):** Diusulkan oleh François Chollet. Menggantikan *inception modules* dengan jenis lapisan khusus yang disebut *depthwise separable convolution layer*. Lapisan ini menggunakan lebih sedikit parameter, memori, dan komputasi daripada lapisan konvolusional biasa, dan umumnya berkinerja lebih baik.\n",
        "* **SENet (Squeeze-and-Excitation Network) (2017):** Arsitektur pemenang tantangan ILSVRC 2017. Arsitektur ini memperluas arsitektur yang sudah ada seperti jaringan *inception* dan ResNet, serta meningkatkan kinerjanya. Ini dilakukan dengan menambahkan blok SE kecil ke setiap unit dalam arsitektur asli (yaitu, setiap *inception module* atau setiap unit residual). Blok SE menganalisis output unit yang terpasang, fokus secara eksklusif pada dimensi kedalaman, dan belajar fitur mana yang biasanya paling aktif bersamaan, kemudian mengkalibrasi ulang *feature map*.\n",
        "\n",
        "**Implementasi ResNet-34 dengan Keras:**\n",
        "Penulis memberikan contoh implementasi ResNet-34 dari awal menggunakan Keras, menunjukkan fleksibilitas Keras API.\n",
        "\n",
        "**Menggunakan Model Pretrained dari Keras:**\n",
        "Keras menyediakan banyak arsitektur standar yang sudah dibangun dalam paket `keras.applications`, seperti ResNet-50, Inception-v3, Xception, VGGNet, dan MobileNet. Model-model ini dapat dimuat dengan bobot yang sudah dilatih di ImageNet. Dibutuhkan *preprocessing* gambar agar sesuai dengan ukuran dan format yang diharapkan model pretrained.\n",
        "\n",
        "**VI. Klasifikasi dan Lokalisasi**\n",
        "Melokalisasi objek dalam gambar dapat diekspresikan sebagai tugas regresi, dengan memprediksi *bounding box* di sekitar objek (koordinat pusat, tinggi, dan lebar). Ini melibatkan penambahan lapisan output *dense* kedua dengan empat unit. Tantangan utamanya adalah mendapatkan label *bounding box*, yang seringkali membutuhkan anotasi manual atau *crowdsourcing*. Metrik umum untuk mengevaluasi ini adalah *Intersection over Union* (IoU).\n",
        "\n",
        "**VII. Deteksi Objek (Object Detection)**\n",
        "Tugas klasifikasi dan lokalisasi banyak objek dalam gambar.\n",
        "* **Pendekatan Tradisional (Sliding Window):** CNN digeser melintasi gambar, memprediksi objek di setiap wilayah. Membutuhkan *non-max suppression* untuk menghilangkan *bounding box* yang redundan.\n",
        "* **Jaringan Konvolusional Penuh (Fully Convolutional Networks - FCNs):** Ide FCN pertama kali diperkenalkan pada tahun 2015 oleh Jonathan Long et al. untuk segmentasi semantik. Konsepnya adalah mengganti lapisan *dense* di bagian atas CNN dengan lapisan konvolusional. FCN dapat memproses gambar dengan ukuran berapapun dan jauh lebih efisien karena hanya melihat gambar sekali.\n",
        "* **You Only Look Once (YOLO):** Arsitektur deteksi objek yang sangat cepat dan akurat. Mengeluarkan lima *bounding box* untuk setiap sel *grid* beserta *objectness score* dan probabilitas kelas. Memprediksi *offset* relatif terhadap koordinat sel *grid*. Menggunakan *anchor boxes* (dimensi *bounding box* representatif) dan dilatih dengan gambar dari skala yang berbeda.\n",
        "    * **Mean Average Precision (mAP):** Metrik umum dalam deteksi objek. Menghitung rata-rata *Average Precision* (AP) untuk setiap kelas.\n",
        "\n",
        "**VIII. Segmentasi Semantik (Semantic Segmentation)**\n",
        "Dalam segmentasi semantik, setiap piksel diklasifikasikan berdasarkan kelas objek tempat piksel itu berada (misalnya, jalan, mobil, pejalan kaki). Kesulitan utama adalah hilangnya resolusi spasial di CNN karena lapisan dengan *stride* > 1. Solusi umum melibatkan FCN dengan lapisan *upsampling* (*transposed convolutional layer*) dan *skip connections* dari lapisan yang lebih rendah untuk memulihkan informasi spasial.\n",
        "\n",
        "**IX. Kesimpulan**\n",
        "Bab 14 secara komprehensif menjelaskan dasar-dasar CNN, blok pembangunnya, dan arsitektur penting yang telah membentuk bidang visi komputer mendalam. Implementasi dengan Keras disajikan secara praktis, menunjukkan kemudahan penggunaan API. Selain itu, bab ini juga membahas tugas-tugas lanjutan seperti deteksi objek dan segmentasi semantik, menyoroti kompleksitas dan inovasi di dalamnya. Bidang ini terus berkembang pesat, dengan munculnya arsitektur baru setiap tahunnya."
      ],
      "metadata": {
        "id": "pGsHk_gVCXHI"
      }
    },
    {
      "cell_type": "markdown",
      "source": [
        "# REPRODUCE CODE"
      ],
      "metadata": {
        "id": "iqudMM1kCcII"
      }
    },
    {
      "cell_type": "markdown",
      "source": [
        "## TensorFlow Implementation"
      ],
      "metadata": {
        "id": "fNccZ0RKDIjA"
      }
    },
    {
      "cell_type": "code",
      "source": [
        "from sklearn.datasets import load_sample_image\n",
        "import numpy as np\n",
        "import tensorflow as tf\n",
        "import matplotlib.pyplot as plt\n",
        "\n",
        "# Load sample images\n",
        "china = load_sample_image(\"china.jpg\") / 255\n",
        "flower = load_sample_image(\"flower.jpg\") / 255\n",
        "images = np.array([china, flower])\n",
        "batch_size, height, width, channels = images.shape\n",
        "\n",
        "# Create 2 filters\n",
        "filters = np.zeros(shape=(7, 7, channels, 2), dtype=np.float32)\n",
        "filters[:, 3, :, 0] = 1 # vertical line\n",
        "filters[3, :, :, 1] = 1 # horizontal line\n",
        "\n",
        "outputs = tf.nn.conv2d(images, filters, strides=1, padding=\"SAME\")\n",
        "\n",
        "plt.imshow(outputs[0, :, :, 1], cmap=\"gray\") # plot 1st image's 2nd feature map\n",
        "plt.show()"
      ],
      "metadata": {
        "colab": {
          "base_uri": "https://localhost:8080/",
          "height": 396
        },
        "id": "nrzBWzUPCbrB",
        "outputId": "bfbfb3d5-36be-4d38-f759-d9eaab2b761a"
      },
      "execution_count": 1,
      "outputs": [
        {
          "output_type": "display_data",
          "data": {
            "text/plain": [
              "<Figure size 640x480 with 1 Axes>"
            ],
            "image/png": "[encoded data removed]"
          },
          "metadata": {}
        }
      ]
    },
    {
      "cell_type": "code",
      "source": [
        "import keras\n",
        "conv = keras.layers.Conv2D(filters=32, kernel_size=3, strides=1,\n",
        "padding=\"same\", activation=\"relu\")"
      ],
      "metadata": {
        "id": "jaorNVwaDWy4"
      },
      "execution_count": 2,
      "outputs": []
    },
    {
      "cell_type": "markdown",
      "source": [
        "## TensorFlow Implementation (Pooling Layers)"
      ],
      "metadata": {
        "id": "raGAc2xtDiSE"
      }
    },
    {
      "cell_type": "code",
      "source": [
        "max_pool = keras.layers.MaxPool2D(pool_size=2)"
      ],
      "metadata": {
        "id": "XjjFxryIDk1c"
      },
      "execution_count": 3,
      "outputs": []
    },
    {
      "cell_type": "code",
      "source": [
        "# output = tf.nn.max_pool(images,\n",
        "#                         ksize=(1, 1, 1, 3), # Original problematic ksize\n",
        "#                         strides=(1, 1, 1, 3), # Original problematic strides\n",
        "#                         padding=\"VALID\")\n",
        "\n",
        "# Changed ksize and strides for spatial pooling (e.g., 2x2 pool with stride 2)\n",
        "output = tf.nn.max_pool(images,\n",
        "                        ksize=(1, 2, 2, 1),\n",
        "                        strides=(1, 2, 2, 1),\n",
        "                        padding=\"VALID\")"
      ],
      "metadata": {
        "id": "8rt_tw8-DnC2"
      },
      "execution_count": 5,
      "outputs": []
    },
    {
      "cell_type": "code",
      "source": [
        "depth_pool = keras.layers.Lambda(\n",
        "lambda X: tf.nn.max_pool(X, ksize=(1, 1, 1, 3), strides=(1, 1, 1, 3),\n",
        "padding=\"valid\"))"
      ],
      "metadata": {
        "id": "yD2P6vmUDtN-"
      },
      "execution_count": 6,
      "outputs": []
    },
    {
      "cell_type": "code",
      "source": [
        "global_avg_pool = keras.layers.GlobalAvgPool2D()"
      ],
      "metadata": {
        "id": "aUvr1rLEDt7k"
      },
      "execution_count": 7,
      "outputs": []
    },
    {
      "cell_type": "code",
      "source": [
        "global_avg_pool = keras.layers.Lambda(lambda X: tf.reduce_mean(X, axis=[1, 2]))"
      ],
      "metadata": {
        "id": "R9pDl-P4DvZA"
      },
      "execution_count": 8,
      "outputs": []
    },
    {
      "cell_type": "markdown",
      "source": [
        "## CNN Architectures"
      ],
      "metadata": {
        "id": "iVE095mTDx5x"
      }
    },
    {
      "cell_type": "code",
      "source": [
        "model = keras.models.Sequential([\n",
        "keras.layers.Conv2D(64, 7, activation=\"relu\", padding=\"same\",\n",
        "input_shape=[28, 28, 1]),\n",
        "keras.layers.MaxPooling2D(2),\n",
        "keras.layers.Conv2D(128, 3, activation=\"relu\", padding=\"same\"),\n",
        "keras.layers.Conv2D(128, 3, activation=\"relu\", padding=\"same\"),\n",
        "keras.layers.MaxPooling2D(2),\n",
        "keras.layers.Conv2D(256, 3, activation=\"relu\", padding=\"same\"),\n",
        "keras.layers.Conv2D(256, 3, activation=\"relu\", padding=\"same\"),\n",
        "keras.layers.MaxPooling2D(2),\n",
        "keras.layers.Flatten(),\n",
        "keras.layers.Dense(128, activation=\"relu\"),\n",
        "keras.layers.Dropout(0.5),\n",
        "keras.layers.Dense(64, activation=\"relu\"),\n",
        "keras.layers.Dropout(0.5),\n",
        "keras.layers.Dense(10, activation=\"softmax\")\n",
        "])"
      ],
      "metadata": {
        "colab": {
          "base_uri": "https://localhost:8080/"
        },
        "id": "w1m7wSq6Dzx0",
        "outputId": "4121c46b-e063-4d1e-c167-51d0cea16220"
      },
      "execution_count": 9,
      "outputs": [
        {
          "output_type": "stream",
          "name": "stderr",
          "text": [
            "/usr/local/lib/python3.11/dist-packages/keras/src/layers/convolutional/base_conv.py:107: UserWarning: Do not pass an `input_shape`/`input_dim` argument to a layer. When using Sequential models, prefer using an `Input(shape)` object as the first layer in the model instead.\n",
            "  super().__init__(activity_regularizer=activity_regularizer, **kwargs)\n"
          ]
        }
      ]
    },
    {
      "cell_type": "markdown",
      "source": [
        "## Implementing a ResNet-34 CNN Using Keras"
      ],
      "metadata": {
        "id": "WRcUKpgTD3NL"
      }
    },
    {
      "cell_type": "code",
      "source": [
        "class ResidualUnit(keras.layers.Layer):\n",
        "    def __init__(self, filters, strides=1, activation=\"relu\", **kwargs):\n",
        "        super().__init__(**kwargs)\n",
        "        self.activation = keras.activations.get(activation)\n",
        "        self.main_layers = [\n",
        "            keras.layers.Conv2D(filters, 3, strides=strides,\n",
        "                                padding=\"same\", use_bias=False),\n",
        "            keras.layers.BatchNormalization(),\n",
        "            self.activation,\n",
        "            keras.layers.Conv2D(filters, 3, strides=1,\n",
        "                                padding=\"same\", use_bias=False),\n",
        "            keras.layers.BatchNormalization()]\n",
        "        self.skip_layers = []\n",
        "        if strides > 1:\n",
        "            self.skip_layers = [\n",
        "                keras.layers.Conv2D(filters, 1, strides=strides,\n",
        "                                    padding=\"same\", use_bias=False),\n",
        "                keras.layers.BatchNormalization()]\n",
        "\n",
        "    def call(self, inputs):\n",
        "        Z = inputs\n",
        "        for layer in self.main_layers:\n",
        "            Z = layer(Z)\n",
        "        skip_Z = inputs\n",
        "        for layer in self.skip_layers:\n",
        "            skip_Z = layer(skip_Z)\n",
        "        return self.activation(Z + skip_Z)"
      ],
      "metadata": {
        "id": "rBkReP2LD5Aa"
      },
      "execution_count": 10,
      "outputs": []
    },
    {
      "cell_type": "code",
      "source": [
        "model = keras.models.Sequential()\n",
        "model.add(keras.layers.Conv2D(64, 7, strides=2, input_shape=[224, 224, 3],\n",
        "padding=\"same\", use_bias=False))\n",
        "model.add(keras.layers.BatchNormalization())\n",
        "model.add(keras.layers.Activation(\"relu\"))\n",
        "model.add(keras.layers.MaxPool2D(pool_size=3, strides=2, padding=\"same\"))\n",
        "prev_filters = 64\n",
        "for filters in [64] * 3 + [128] * 4 + [256] * 6 + [512] * 3:\n",
        "    strides = 1 if filters == prev_filters else 2\n",
        "    model.add(ResidualUnit(filters, strides=strides))\n",
        "    prev_filters = filters\n",
        "model.add(keras.layers.GlobalAvgPool2D())\n",
        "model.add(keras.layers.Flatten())\n",
        "model.add(keras.layers.Dense(10, activation=\"softmax\"))"
      ],
      "metadata": {
        "id": "GHOl6kJOEohf"
      },
      "execution_count": 11,
      "outputs": []
    },
    {
      "cell_type": "markdown",
      "source": [
        "## Using Pretrained Models from Keras"
      ],
      "metadata": {
        "id": "iLTzyNULEq-p"
      }
    },
    {
      "cell_type": "code",
      "source": [
        "model = keras.applications.resnet50.ResNet50(weights=\"imagenet\")"
      ],
      "metadata": {
        "colab": {
          "base_uri": "https://localhost:8080/"
        },
        "id": "hCElMG4_EtBK",
        "outputId": "3f187ec9-737d-4b88-a6bb-50f37f46910f"
      },
      "execution_count": 12,
      "outputs": [
        {
          "output_type": "stream",
          "name": "stdout",
          "text": [
            "Downloading data from https://storage.googleapis.com/tensorflow/keras-applications/resnet/resnet50_weights_tf_dim_ordering_tf_kernels.h5\n",
            "\u001b[1m102967424/102967424\u001b[0m \u001b[32m━━━━━━━━━━━━━━━━━━━━\u001b[0m\u001b[37m\u001b[0m \u001b[1m6s\u001b[0m 0us/step\n"
          ]
        }
      ]
    },
    {
      "cell_type": "code",
      "source": [
        "images_resized = tf.image.resize(images, [224, 224])"
      ],
      "metadata": {
        "id": "qW46xfPREv-i"
      },
      "execution_count": 13,
      "outputs": []
    },
    {
      "cell_type": "code",
      "source": [
        "inputs = keras.applications.resnet50.preprocess_input(images_resized * 255)"
      ],
      "metadata": {
        "id": "h-IABMZOEwPS"
      },
      "execution_count": 14,
      "outputs": []
    },
    {
      "cell_type": "code",
      "source": [
        "Y_proba = model.predict(inputs)"
      ],
      "metadata": {
        "colab": {
          "base_uri": "https://localhost:8080/"
        },
        "id": "Bl8SF2D3Ewaj",
        "outputId": "3b7ad266-ae46-4ae5-c88c-8b9920ce79af"
      },
      "execution_count": 15,
      "outputs": [
        {
          "output_type": "stream",
          "name": "stdout",
          "text": [
            "\u001b[1m1/1\u001b[0m \u001b[32m━━━━━━━━━━━━━━━━━━━━\u001b[0m\u001b[37m\u001b[0m \u001b[1m5s\u001b[0m 5s/step\n"
          ]
        }
      ]
    },
    {
      "cell_type": "code",
      "source": [
        "top_K = keras.applications.resnet50.decode_predictions(Y_proba, top=3)\n",
        "for image_index in range(len(images)):\n",
        "    print(\"Image #{}\".format(image_index))\n",
        "    for class_id, name, y_proba in top_K[image_index]:\n",
        "        print(\" {} - {:12s} {:.2f}%\".format(class_id, name, y_proba * 100))\n",
        "    print()"
      ],
      "metadata": {
        "colab": {
          "base_uri": "https://localhost:8080/"
        },
        "id": "Jd0CbaAiE1T1",
        "outputId": "ed5cf40e-744d-4372-a7d4-6dd017416ed0"
      },
      "execution_count": 16,
      "outputs": [
        {
          "output_type": "stream",
          "name": "stdout",
          "text": [
            "Downloading data from https://storage.googleapis.com/download.tensorflow.org/data/imagenet_class_index.json\n",
            "\u001b[1m35363/35363\u001b[0m \u001b[32m━━━━━━━━━━━━━━━━━━━━\u001b[0m\u001b[37m\u001b[0m \u001b[1m0s\u001b[0m 1us/step\n",
            "Image #0\n",
            " n02825657 - bell_cote    82.35%\n",
            " n03877845 - palace       6.75%\n",
            " n03781244 - monastery    4.19%\n",
            "\n",
            "Image #1\n",
            " n03530642 - honeycomb    49.81%\n",
            " n13040303 - stinkhorn    33.96%\n",
            " n02206856 - bee          4.35%\n",
            "\n"
          ]
        }
      ]
    },
    {
      "cell_type": "markdown",
      "source": [
        "## Pretrained Models for Transfer Learning"
      ],
      "metadata": {
        "id": "MOg8kAMgE32p"
      }
    },
    {
      "cell_type": "code",
      "source": [
        "import tensorflow_datasets as tfds\n",
        "dataset, info = tfds.load(\"tf_flowers\", as_supervised=True, with_info=True)\n",
        "dataset_size = info.splits[\"train\"].num_examples # 3670\n",
        "class_names = info.features[\"label\"].names # [\"dandelion\", \"daisy\", ...]\n",
        "n_classes = info.features[\"label\"].num_classes # 5"
      ],
      "metadata": {
        "colab": {
          "base_uri": "https://localhost:8080/",
          "height": 156,
          "referenced_widgets": [
            "d53cdd6af69e4950bff357d899c4f3d1",
            "5e258a6208f64b65b64c484192b93bbb",
            "d2e5c9b168b14c4682f1630681f502b3",
            "f1dd8a1c6ddb40cc82b94098a7387428",
            "003feb173ee848dc8921ed669803247b",
            "68285e8dc92d4e38b510824c937dbe6b",
            "025417391cc4479ca64a5ef317ea8e54",
            "1bd342364bc54e00ac72e66d5a5c6ecb",
            "3261b7790f114944aa6e816a84edb560",
            "858cf0803d034342bb2443d9067681e9",
            "03ba505f8c7d41ac99dad50eb67f1885",
            "fbd6bdcc8d8145d39d2b608abd381ad3",
            "90cecf939c5e4604a04dfcff06c78f19",
            "a7201b9000e44734ad811b6874a6a5a8",
            "f35a5a81c156414f91775828edb2cd34",
            "1035ea9178bb419d8d0cddeb7d4e7b81",
            "a6f93b1161bb4a7886c8366b80702f66",
            "d22f9821aa1b487992ecd3f6372ae0df",
            "d1407ee9886c4aa18d37ec637745df5a",
            "4fc590b9eb174fcb88eecce7457984cf",
            "9f0bfdade7334f93a19bb778891978f3",
            "557558ecbf8a42a7aeda5c968497a7e4",
            "38d140f0c78242fcba764221bb8220f9",
            "0fbb2543e6334bd4b0f1a846fab8baff",
            "764b5673f0d44d76a9bbf5a9d72cb267",
            "36581bdb674940d1860b2c91514c4c64",
            "9d7a8e9183f14376bd0ff15b996a5050",
            "9f4ef460d09947e58c47b5768c017ef7",
            "d33605094f7f4815a23b05a43a96444c",
            "a7346f56f2264109bfcc657ba73f8f59",
            "71fb95b9d8334e28a9378c927680ff1f",
            "caa49e8574a54d04a0d7cc3dc374fe56",
            "bf1b320b622a4e7cae774238edf59e14",
            "2b9135d723a24531a3e9ad7c64cfbca2",
            "33a2faec116f4130b3bd5a83f01dc49a",
            "5cd23affb46f41c1b79c2ff85e78dbde",
            "2ca7906084d74d80aa492f918afb1d91",
            "c6f99acc6977443d99452e15926cc649",
            "63eada6641464ea4954153abe0c3d577",
            "0414fb836dc044149746d315f71d4bf4",
            "aeef37dd021645abbb3eb651a9606634",
            "78112f98407141dea256b02af29f1b33",
            "259392abe4ec43d0abb40d21e6207655",
            "6fb7939a1262418080e90e50df3916d6",
            "aaf80df6fe7e426883589f3ae7ddc658",
            "e83833b63b514485bf2a03f939d6fe35",
            "bcddcbdf9473458482c3683262e32442",
            "503c4fb39150434882c04732a9802f17",
            "3a12acdf886940cda0761212cf1621f1",
            "9478f84da41248d89fe73bce8ea52fe6",
            "4321d458fbd04033a2311906343d7238",
            "ca70b0a17958489a9322262b3a1d130c",
            "6647e634dfac4e15842c568a0b53f0c2",
            "26fe9a79652f4dae8e82c15f530a6c19",
            "a5c9cd926de642b1856a1df7d77a20b7"
          ]
        },
        "id": "wqa2Qo0SE5bx",
        "outputId": "9dd66b8d-26bb-48a6-e658-1f7749916841"
      },
      "execution_count": 17,
      "outputs": [
        {
          "output_type": "stream",
          "name": "stderr",
          "text": [
            "WARNING:absl:Variant folder /root/tensorflow_datasets/tf_flowers/3.0.1 has no dataset_info.json\n"
          ]
        },
        {
          "output_type": "stream",
          "name": "stdout",
          "text": [
            "Downloading and preparing dataset Unknown size (download: Unknown size, generated: Unknown size, total: Unknown size) to /root/tensorflow_datasets/tf_flowers/3.0.1...\n"
          ]
        },
        {
          "output_type": "display_data",
          "data": {
            "text/plain": [
              "Dl Completed...: 0 url [00:00, ? url/s]"
            ],
            "application/vnd.jupyter.widget-view+json": {
              "version_major": 2,
              "version_minor": 0,
              "model_id": "d53cdd6af69e4950bff357d899c4f3d1"
            }
          },
          "metadata": {}
        },
        {
          "output_type": "display_data",
          "data": {
            "text/plain": [
              "Dl Size...: 0 MiB [00:00, ? MiB/s]"
            ],
            "application/vnd.jupyter.widget-view+json": {
              "version_major": 2,
              "version_minor": 0,
              "model_id": "fbd6bdcc8d8145d39d2b608abd381ad3"
            }
          },
          "metadata": {}
        },
        {
          "output_type": "display_data",
          "data": {
            "text/plain": [
              "Generating splits...:   0%|          | 0/1 [00:00<?, ? splits/s]"
            ],
            "application/vnd.jupyter.widget-view+json": {
              "version_major": 2,
              "version_minor": 0,
              "model_id": "38d140f0c78242fcba764221bb8220f9"
            }
          },
          "metadata": {}
        },
        {
          "output_type": "display_data",
          "data": {
            "text/plain": [
              "Generating train examples...: 0 examples [00:00, ? examples/s]"
            ],
            "application/vnd.jupyter.widget-view+json": {
              "version_major": 2,
              "version_minor": 0,
              "model_id": "2b9135d723a24531a3e9ad7c64cfbca2"
            }
          },
          "metadata": {}
        },
        {
          "output_type": "display_data",
          "data": {
            "text/plain": [
              "Shuffling /root/tensorflow_datasets/tf_flowers/incomplete.YO6M26_3.0.1/tf_flowers-train.tfrecord*...:   0%|   …"
            ],
            "application/vnd.jupyter.widget-view+json": {
              "version_major": 2,
              "version_minor": 0,
              "model_id": "aaf80df6fe7e426883589f3ae7ddc658"
            }
          },
          "metadata": {}
        },
        {
          "output_type": "stream",
          "name": "stdout",
          "text": [
            "Dataset tf_flowers downloaded and prepared to /root/tensorflow_datasets/tf_flowers/3.0.1. Subsequent calls will reuse this data.\n"
          ]
        }
      ]
    },
    {
      "cell_type": "code",
      "source": [
        "test_set = tfds.load(\"tf_flowers\", split='train[:10%]', as_supervised=True)\n",
        "valid_set = tfds.load(\"tf_flowers\", split='train[10%:25%]', as_supervised=True)\n",
        "train_set = tfds.load(\"tf_flowers\", split='train[25%:]', as_supervised=True)"
      ],
      "metadata": {
        "id": "00Ov_PSiE7pB"
      },
      "execution_count": 18,
      "outputs": []
    },
    {
      "cell_type": "code",
      "source": [
        "def preprocess(image, label):\n",
        "    resized_image = tf.image.resize(image, [224, 224])\n",
        "    final_image = keras.applications.xception.preprocess_input(resized_image)\n",
        "    return final_image, label"
      ],
      "metadata": {
        "id": "ua1YrdoSE95i"
      },
      "execution_count": 19,
      "outputs": []
    },
    {
      "cell_type": "code",
      "source": [
        "batch_size = 32\n",
        "train_set = train_set.shuffle(1000)\n",
        "train_set = train_set.map(preprocess).batch(batch_size).prefetch(1)\n",
        "valid_set = valid_set.map(preprocess).batch(batch_size).prefetch(1)\n",
        "test_set = test_set.map(preprocess).batch(batch_size).prefetch(1)"
      ],
      "metadata": {
        "id": "pRwZL8_tFBEQ"
      },
      "execution_count": 20,
      "outputs": []
    },
    {
      "cell_type": "code",
      "source": [
        "base_model = keras.applications.xception.Xception(weights=\"imagenet\",\n",
        "include_top=False)\n",
        "avg = keras.layers.GlobalAveragePooling2D()(base_model.output)\n",
        "output = keras.layers.Dense(n_classes, activation=\"softmax\")(avg)\n",
        "model = keras.Model(inputs=base_model.input, outputs=output)"
      ],
      "metadata": {
        "colab": {
          "base_uri": "https://localhost:8080/"
        },
        "id": "Hq1kMDDGFFBi",
        "outputId": "78234d09-1cb7-4f21-f87d-2a36424c5016"
      },
      "execution_count": 21,
      "outputs": [
        {
          "output_type": "stream",
          "name": "stdout",
          "text": [
            "Downloading data from https://storage.googleapis.com/tensorflow/keras-applications/xception/xception_weights_tf_dim_ordering_tf_kernels_notop.h5\n",
            "\u001b[1m83683744/83683744\u001b[0m \u001b[32m━━━━━━━━━━━━━━━━━━━━\u001b[0m\u001b[37m\u001b[0m \u001b[1m5s\u001b[0m 0us/step\n"
          ]
        }
      ]
    },
    {
      "cell_type": "code",
      "source": [
        "for layer in base_model.layers:\n",
        "    layer.trainable = False"
      ],
      "metadata": {
        "id": "DH077WAmFIgT"
      },
      "execution_count": 22,
      "outputs": []
    },
    {
      "cell_type": "code",
      "source": [
        "optimizer = keras.optimizers.SGD(learning_rate=0.2, momentum=0.9, decay=0.01)\n",
        "model.compile(loss=\"sparse_categorical_crossentropy\", optimizer=optimizer,\n",
        "metrics=[\"accuracy\"])\n",
        "history = model.fit(train_set, epochs=5, validation_data=valid_set)"
      ],
      "metadata": {
        "colab": {
          "base_uri": "https://localhost:8080/"
        },
        "id": "iImhYB2NFKUR",
        "outputId": "691dec34-8cc5-43d5-f6b7-fcb97180aeab"
      },
      "execution_count": 23,
      "outputs": [
        {
          "output_type": "stream",
          "name": "stdout",
          "text": [
            "Epoch 1/5\n"
          ]
        },
        {
          "output_type": "stream",
          "name": "stderr",
          "text": [
            "/usr/local/lib/python3.11/dist-packages/keras/src/optimizers/base_optimizer.py:86: UserWarning: Argument `decay` is no longer supported and will be ignored.\n",
            "  warnings.warn(\n"
          ]
        },
        {
          "output_type": "stream",
          "name": "stdout",
          "text": [
            "\u001b[1m86/86\u001b[0m \u001b[32m━━━━━━━━━━━━━━━━━━━━\u001b[0m\u001b[37m\u001b[0m \u001b[1m34s\u001b[0m 223ms/step - accuracy: 0.6872 - loss: 2.1427 - val_accuracy: 0.8475 - val_loss: 1.6936\n",
            "Epoch 2/5\n",
            "\u001b[1m86/86\u001b[0m \u001b[32m━━━━━━━━━━━━━━━━━━━━\u001b[0m\u001b[37m\u001b[0m \u001b[1m26s\u001b[0m 161ms/step - accuracy: 0.8666 - loss: 1.1772 - val_accuracy: 0.8022 - val_loss: 1.8836\n",
            "Epoch 3/5\n",
            "\u001b[1m86/86\u001b[0m \u001b[32m━━━━━━━━━━━━━━━━━━━━\u001b[0m\u001b[37m\u001b[0m \u001b[1m15s\u001b[0m 172ms/step - accuracy: 0.8824 - loss: 0.9612 - val_accuracy: 0.8603 - val_loss: 1.2584\n",
            "Epoch 4/5\n",
            "\u001b[1m86/86\u001b[0m \u001b[32m━━━━━━━━━━━━━━━━━━━━\u001b[0m\u001b[37m\u001b[0m \u001b[1m21s\u001b[0m 174ms/step - accuracy: 0.9381 - loss: 0.4044 - val_accuracy: 0.8457 - val_loss: 1.3615\n",
            "Epoch 5/5\n",
            "\u001b[1m86/86\u001b[0m \u001b[32m━━━━━━━━━━━━━━━━━━━━\u001b[0m\u001b[37m\u001b[0m \u001b[1m20s\u001b[0m 166ms/step - accuracy: 0.9577 - loss: 0.2514 - val_accuracy: 0.8675 - val_loss: 1.2377\n"
          ]
        }
      ]
    },
    {
      "cell_type": "code",
      "source": [
        "for layer in base_model.layers:\n",
        "    layer.trainable = True\n",
        "\n",
        "# Use 'learning_rate' instead of 'lr'\n",
        "optimizer = keras.optimizers.SGD(learning_rate=0.01, momentum=0.9, decay=0.001)\n",
        "\n",
        "# Complete the compile and fit calls\n",
        "model.compile(loss=\"sparse_categorical_crossentropy\", optimizer=optimizer,\n",
        "              metrics=[\"accuracy\"])\n",
        "history = model.fit(train_set, epochs=5, validation_data=valid_set) # Example: continuing training for 5 more epochs"
      ],
      "metadata": {
        "id": "kb3JGEETFMbU",
        "colab": {
          "base_uri": "https://localhost:8080/"
        },
        "outputId": "dd42049f-6edc-4b68-9bd9-7055d7de5a7a"
      },
      "execution_count": 25,
      "outputs": [
        {
          "output_type": "stream",
          "name": "stdout",
          "text": [
            "Epoch 1/5\n"
          ]
        },
        {
          "output_type": "stream",
          "name": "stderr",
          "text": [
            "/usr/local/lib/python3.11/dist-packages/keras/src/optimizers/base_optimizer.py:86: UserWarning: Argument `decay` is no longer supported and will be ignored.\n",
            "  warnings.warn(\n"
          ]
        },
        {
          "output_type": "stream",
          "name": "stdout",
          "text": [
            "\u001b[1m86/86\u001b[0m \u001b[32m━━━━━━━━━━━━━━━━━━━━\u001b[0m\u001b[37m\u001b[0m \u001b[1m87s\u001b[0m 589ms/step - accuracy: 0.7651 - loss: 0.8151 - val_accuracy: 0.8439 - val_loss: 0.6071\n",
            "Epoch 2/5\n",
            "\u001b[1m86/86\u001b[0m \u001b[32m━━━━━━━━━━━━━━━━━━━━\u001b[0m\u001b[37m\u001b[0m \u001b[1m60s\u001b[0m 563ms/step - accuracy: 0.9576 - loss: 0.1307 - val_accuracy: 0.8929 - val_loss: 0.3535\n",
            "Epoch 3/5\n",
            "\u001b[1m86/86\u001b[0m \u001b[32m━━━━━━━━━━━━━━━━━━━━\u001b[0m\u001b[37m\u001b[0m \u001b[1m78s\u001b[0m 517ms/step - accuracy: 0.9836 - loss: 0.0467 - val_accuracy: 0.8857 - val_loss: 0.4658\n",
            "Epoch 4/5\n",
            "\u001b[1m86/86\u001b[0m \u001b[32m━━━━━━━━━━━━━━━━━━━━\u001b[0m\u001b[37m\u001b[0m \u001b[1m87s\u001b[0m 576ms/step - accuracy: 0.9878 - loss: 0.0455 - val_accuracy: 0.9201 - val_loss: 0.3255\n",
            "Epoch 5/5\n",
            "\u001b[1m86/86\u001b[0m \u001b[32m━━━━━━━━━━━━━━━━━━━━\u001b[0m\u001b[37m\u001b[0m \u001b[1m80s\u001b[0m 559ms/step - accuracy: 0.9955 - loss: 0.0149 - val_accuracy: 0.9038 - val_loss: 0.4205\n"
          ]
        }
      ]
    },
    {
      "cell_type": "markdown",
      "source": [
        "## Classification and Localization"
      ],
      "metadata": {
        "id": "rqma3LwEFPK1"
      }
    },
    {
      "cell_type": "code",
      "source": [
        "base_model = keras.applications.xception.Xception(weights=\"imagenet\",\n",
        "include_top=False)\n",
        "avg = keras.layers.GlobalAveragePooling2D()(base_model.output)\n",
        "class_output = keras.layers.Dense(n_classes, activation=\"softmax\")(avg)\n",
        "loc_output = keras.layers.Dense(4)(avg)\n",
        "model = keras.Model(inputs=base_model.input,\n",
        "outputs=[class_output, loc_output])\n",
        "model.compile(loss=[\"sparse_categorical_crossentropy\", \"mse\"],\n",
        "loss_weights=[0.8, 0.2], # depends on what you care most about\n",
        "optimizer=optimizer, metrics=[\"accuracy\"])"
      ],
      "metadata": {
        "id": "dZPYXpHlFQy2"
      },
      "execution_count": 26,
      "outputs": []
    }
  ]
}