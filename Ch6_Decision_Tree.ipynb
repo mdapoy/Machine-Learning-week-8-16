{
  "nbformat": 4,
  "nbformat_minor": 0,
  "metadata": {
    "colab": {
      "provenance": [],
      "authorship_tag": "ABX9TyOSzTzqs0rZMHmdOWO1LJsW",
      "include_colab_link": true
    },
    "kernelspec": {
      "name": "python3",
      "display_name": "Python 3"
    },
    "language_info": {
      "name": "python"
    }
  },
  "cells": [
    {
      "cell_type": "markdown",
      "metadata": {
        "id": "view-in-github",
        "colab_type": "text"
      },
      "source": [
        "<a href=\"https://colab.research.google.com/github/mdapoy/Machine-Learning-week-8-16/blob/main/Ch6_Decision_Tree.ipynb\" target=\"_parent\"><img src=\"https://colab.research.google.com/assets/colab-badge.svg\" alt=\"Open In Colab\"/></a>"
      ]
    },
    {
      "cell_type": "markdown",
      "source": [
        "\n",
        "# Laporan Analisis Bab 6: Decision Trees\n",
        "\n",
        "## Pendahuluan\n",
        "[cite_start]Bab 6 dari buku \"Hands-on Machine Learning with Scikit-Learn, Keras, and TensorFlow\" membahas mengenai Decision Trees, sebuah algoritma Machine Learning yang serbaguna untuk klasifikasi, regresi, dan tugas multi-output[cite: 1]. [cite_start]Bab ini juga menyoroti peran Decision Trees sebagai komponen fundamental dari Random Forests, salah satu algoritma Machine Learning yang paling kuat saat ini[cite: 1].\n",
        "\n",
        "## Ringkasan Isi Bab\n",
        "\n",
        "Bab 6 menguraikan beberapa konsep kunci terkait Decision Trees:\n",
        "\n",
        "1.  **Pelatihan dan Visualisasi Decision Tree**:\n",
        "    * [cite_start]Decision Tree dapat dilatih menggunakan kelas `DecisionTreeClassifier` dari Scikit-Learn[cite: 1].\n",
        "    * [cite_start]Visualisasi pohon yang telah dilatih dapat dilakukan dengan menggunakan metode `export_graphviz()` untuk menghasilkan file definisi grafik `.dot`, yang kemudian dapat diubah menjadi format gambar seperti PNG atau PDF menggunakan alat Graphviz[cite: 1].\n",
        "\n",
        "2.  **Pembuatan Prediksi**:\n",
        "    * [cite_start]Proses prediksi pada Decision Tree dimulai dari *root node* dan mengikuti pertanyaan-pertanyaan pada setiap node hingga mencapai *leaf node*[cite: 1].\n",
        "    * [cite_start]Decision Trees memerlukan sedikit persiapan data, bahkan tidak memerlukan penskalaan fitur atau pemusatan data[cite: 1].\n",
        "\n",
        "3.  **Estimasi Probabilitas Kelas**:\n",
        "    * [cite_start]Decision Tree dapat mengestimasi probabilitas suatu instance termasuk dalam kelas tertentu dengan menghitung rasio instance pelatihan dari kelas tersebut di *leaf node* yang relevan[cite: 1].\n",
        "\n",
        "4.  **Algoritma Pelatihan CART**:\n",
        "    * [cite_start]Scikit-Learn menggunakan algoritma Classification and Regression Tree (CART) untuk melatih Decision Trees[cite: 1].\n",
        "    * [cite_start]Algoritma CART bekerja secara rekursif dengan membagi dataset pelatihan menjadi dua subset berdasarkan fitur dan *threshold* tertentu yang menghasilkan subset paling murni[cite: 1].\n",
        "    * [cite_start]Algoritma ini bersifat \"greedy\" karena mencari pemisahan optimal di setiap level tanpa melihat ke depan secara global, sehingga solusinya \"cukup baik\" namun tidak selalu optimal[cite: 1].\n",
        "    * [cite_start]Menemukan pohon optimal adalah masalah NP-Complete, sehingga pendekatan \"cukup baik\" harus diterima[cite: 1].\n",
        "\n",
        "5.  **Kompleksitas Komputasi**:\n",
        "    * [cite_start]Membuat prediksi dengan Decision Tree memiliki kompleksitas $O(\\log_2(m))$, di mana $m$ adalah jumlah instance, menjadikannya sangat cepat[cite: 1].\n",
        "    * [cite_start]Kompleksitas pelatihan adalah $O(n \\times m \\log_2(m))$, di mana $n$ adalah jumlah fitur[cite: 1].\n",
        "\n",
        "6.  **Gini Impurity atau Entropy**:\n",
        "    * [cite_start]Defaultnya, Scikit-Learn menggunakan *Gini impurity* untuk mengukur kemurnian node[cite: 1].\n",
        "    * [cite_start]*Entropy* juga dapat digunakan sebagai ukuran kemurnian, terinspirasi dari teori informasi[cite: 1].\n",
        "    * [cite_start]Keduanya seringkali menghasilkan pohon yang serupa, namun *Gini impurity* sedikit lebih cepat dihitung dan cenderung mengisolasi kelas yang paling sering dalam cabang tersendiri[cite: 1].\n",
        "\n",
        "7.  **Hyperparameter Regularisasi**:\n",
        "    * [cite_start]Decision Trees adalah model nonparametrik, cenderung *overfitting* jika tidak dibatasi[cite: 1].\n",
        "    * [cite_start]Hyperparameter seperti `max_depth` (kedalaman maksimum), `min_samples_split` (jumlah sampel minimum untuk memecah node), `min_samples_leaf` (jumlah sampel minimum di leaf node), `min_weight_fraction_leaf`, dan `max_leaf_nodes` digunakan untuk meregulasi pohon[cite: 1].\n",
        "    * [cite_start]Meningkatkan `min_*` atau mengurangi `max_*` hyperparameter akan meregulasi model[cite: 1].\n",
        "    * [cite_start]Teknik *pruning* (pemangkasan) juga dapat digunakan setelah pelatihan awal tanpa batasan[cite: 1].\n",
        "\n",
        "8.  **Regresi dengan Decision Tree**:\n",
        "    * [cite_start]Decision Trees juga dapat digunakan untuk tugas regresi, memprediksi nilai alih-alih kelas[cite: 1].\n",
        "    * [cite_start]Algoritma CART untuk regresi bertujuan meminimalkan Mean Squared Error (MSE) alih-alih *impurity*[cite: 1].\n",
        "    * [cite_start]Sama seperti klasifikasi, Decision Trees untuk regresi rentan terhadap *overfitting* jika tidak diregulasi[cite: 1].\n",
        "\n",
        "9.  **Keterbatasan (Instability)**:\n",
        "    * [cite_start]Decision Trees sangat sensitif terhadap rotasi dataset pelatihan, karena cenderung membuat *decision boundary* yang ortogonal[cite: 1].\n",
        "    * [cite_start]Decision Trees juga sangat sensitif terhadap variasi kecil dalam data pelatihan; perubahan kecil dapat menghasilkan pohon yang sangat berbeda[cite: 1].\n",
        "\n",
        "## Analisis dan Relevansi untuk Mahasiswa\n",
        "\n",
        "Bab 6 memberikan fondasi yang kuat dalam memahami Decision Trees, yang merupakan algoritma Machine Learning yang penting dan sering digunakan. Bagi mahasiswa, pemahaman ini sangat relevan karena:\n",
        "\n",
        "* **Algoritma Fundamental**: Decision Trees adalah salah satu algoritma paling dasar dalam Machine Learning. [cite_start]Memahaminya membantu membangun intuisi untuk algoritma berbasis pohon yang lebih kompleks seperti Random Forests dan Gradient Boosting[cite: 1].\n",
        "* **Intuisi yang Jelas**: Model Decision Tree sangat intuitif dan mudah diinterpretasikan (\"white box model\"). [cite_start]Ini sangat membantu mahasiswa dalam memahami bagaimana model membuat keputusan, berbeda dengan \"black box models\" seperti Neural Networks[cite: 1].\n",
        "* **Pentingnya Regularisasi**: Bab ini dengan jelas menunjukkan masalah *overfitting* pada Decision Trees dan memperkenalkan berbagai hyperparameter regularisasi. [cite_start]Ini mengajarkan pentingnya menyeimbangkan *bias* dan *variance* dalam membangun model[cite: 1].\n",
        "* [cite_start]**Fleksibilitas Tugas**: Kemampuan Decision Trees untuk menangani tugas klasifikasi dan regresi menunjukkan fleksibilitas algoritma ini di berbagai skenario[cite: 1].\n",
        "* **Keterbatasan Praktis**: Penjelasan tentang sensitivitas Decision Trees terhadap rotasi dan variasi data (instability) adalah wawasan krusial. [cite_start]Ini mempersiapkan mahasiswa untuk tantangan dunia nyata dan mengarahkan mereka pada solusi selanjutnya (misalnya, Ensemble Learning)[cite: 1].\n",
        "\n",
        "## Kesimpulan\n",
        "\n",
        "Bab 6 berhasil memperkenalkan Decision Trees secara komprehensif, mulai dari konsep dasar hingga implementasi dan keterbatasannya. Mahasiswa yang mempelajari bab ini akan mendapatkan pemahaman mendalam tentang bagaimana Decision Trees bekerja, cara menggunakannya, dan kapan harus mempertimbangkan algoritma lain. Pemahaman ini sangat penting sebagai bekal untuk materi Machine Learning yang lebih lanjut, terutama yang berkaitan dengan Ensemble Learning.\n"
      ],
      "metadata": {
        "id": "e92fR5qjSzEn"
      }
    },
    {
      "cell_type": "code",
      "source": [
        "# Import library yang diperlukan\n",
        "import numpy as np\n",
        "import matplotlib.pyplot as plt\n",
        "from sklearn.datasets import load_iris\n",
        "from sklearn.tree import DecisionTreeClassifier, DecisionTreeRegressor, export_graphviz\n",
        "\n",
        "# --- BAGIAN 1: PELATIHAN DAN VISUALISASI DECISION TREE KLASIFIKASI ---\n",
        "\n",
        "print(\"--- Pelatihan dan Visualisasi Decision Tree Klasifikasi ---\")\n",
        "\n",
        "# Memuat dataset Iris\n",
        "iris = load_iris()\n",
        "X = iris.data[:, 2:]  # petal length dan petal width\n",
        "y = iris.target     # target species\n",
        "\n",
        "# Inisialisasi dan melatih DecisionTreeClassifier dengan max_depth=2\n",
        "tree_clf = DecisionTreeClassifier(max_depth=2)\n",
        "tree_clf.fit(X, y)\n",
        "\n",
        "print(\"Model DecisionTreeClassifier telah dilatih.\")\n",
        "\n",
        "# Visualisasi Decision Tree (ekspor ke file .dot)\n",
        "# Anda perlu memiliki Graphviz terinstal dan menambahkan 'dot' ke PATH Anda\n",
        "# Kemudian jalankan perintah ini di terminal: dot -Tpng iris_tree.dot -o iris_tree.png\n",
        "print(\"\\nMengekspor Decision Tree ke iris_tree.dot untuk visualisasi (membutuhkan Graphviz).\")\n",
        "try:\n",
        "    # Path output disesuaikan agar tidak memerlukan 'image_path()' yang tidak terdefinisi\n",
        "    # Pastikan direktori 'images' ada atau sesuaikan path\n",
        "    # Jika Anda menjalankan ini di Jupyter, file akan dibuat di direktori yang sama\n",
        "    export_graphviz(\n",
        "        tree_clf,\n",
        "        out_file=\"iris_tree.dot\",\n",
        "        feature_names=iris.feature_names[2:],\n",
        "        class_names=iris.target_names,\n",
        "        rounded=True,\n",
        "        filled=True\n",
        "    )\n",
        "    print(\"File 'iris_tree.dot' berhasil dibuat.\")\n",
        "    print(\"Jalankan 'dot -Tpng iris_tree.dot -o iris_tree.png' di terminal untuk melihat gambar.\")\n",
        "except Exception as e:\n",
        "    print(f\"Gagal mengekspor tree. Pastikan Graphviz terinstal: {e}\")"
      ],
      "metadata": {
        "colab": {
          "base_uri": "https://localhost:8080/"
        },
        "id": "IJoJhNbxk6KO",
        "outputId": "cf2d889b-5bd9-4f17-fec3-9aa9c6bb6f91"
      },
      "execution_count": 4,
      "outputs": [
        {
          "output_type": "stream",
          "name": "stdout",
          "text": [
            "--- Pelatihan dan Visualisasi Decision Tree Klasifikasi ---\n",
            "Model DecisionTreeClassifier telah dilatih.\n",
            "\n",
            "Mengekspor Decision Tree ke iris_tree.dot untuk visualisasi (membutuhkan Graphviz).\n",
            "File 'iris_tree.dot' berhasil dibuat.\n",
            "Jalankan 'dot -Tpng iris_tree.dot -o iris_tree.png' di terminal untuk melihat gambar.\n"
          ]
        }
      ]
    },
    {
      "cell_type": "markdown",
      "metadata": {
        "id": "34bf624c"
      },
      "source": [
        "The previous cell generated a `.dot` file which describes the Decision Tree structure. To visualize this tree, you can convert the `.dot` file into an image format like PNG using the Graphviz command-line tool.\n",
        "\n",
        "The following cell will execute the necessary command to generate the image."
      ]
    },
    {
      "cell_type": "code",
      "metadata": {
        "colab": {
          "base_uri": "https://localhost:8080/"
        },
        "id": "badca9fd",
        "outputId": "f509da2e-a119-45d3-95a6-47a6c4a7a9e2"
      },
      "source": [
        "# Convert the .dot file to a PNG image using graphviz\n",
        "# This assumes you have graphviz installed and in your PATH\n",
        "!dot -Tpng iris_tree.dot -o iris_tree.png\n",
        "\n",
        "print(\"Decision Tree image 'iris_tree.png' has been generated.\")\n",
        "\n",
        "# Display the image (optional, might require specific environment setup)\n",
        "# from IPython.display import Image\n",
        "# Image(filename='iris_tree.png')"
      ],
      "execution_count": 5,
      "outputs": [
        {
          "output_type": "stream",
          "name": "stdout",
          "text": [
            "Decision Tree image 'iris_tree.png' has been generated.\n"
          ]
        }
      ]
    },
    {
      "cell_type": "code",
      "source": [
        "# --- BAGIAN 2: ESTIMASI PROBABILITAS KELAS DAN PREDIKSI ---\n",
        "\n",
        "print(\"\\n--- Estimasi Probabilitas Kelas dan Prediksi ---\")\n",
        "\n",
        "# Contoh prediksi menggunakan model yang sudah dilatih\n",
        "# Asumsikan bunga memiliki panjang petal 5 cm dan lebar 1.5 cm\n",
        "sample_flower = [[5, 1.5]]\n",
        "\n",
        "# Prediksi probabilitas kelas\n",
        "# Output akan menunjukkan probabilitas untuk setiap kelas (setosa, versicolor, virginica)\n",
        "proba_prediction = tree_clf.predict_proba(sample_flower)\n",
        "print(f\"Probabilitas Kelas untuk {sample_flower}: {proba_prediction}\") # array([[0. , 0.90740741, 0.09259259]])\n",
        "\n",
        "# Prediksi kelas langsung\n",
        "# Akan memilih kelas dengan probabilitas tertinggi\n",
        "class_prediction = tree_clf.predict(sample_flower)\n",
        "print(f\"Prediksi Kelas untuk {sample_flower}: {class_prediction}\") # array([1])\n",
        "print(f\"Nama Kelas Prediksi: {iris.target_names[class_prediction[0]]}\")"
      ],
      "metadata": {
        "colab": {
          "base_uri": "https://localhost:8080/"
        },
        "id": "HzPvpeBAlcsk",
        "outputId": "9f0fdc95-8b7c-4488-c9fb-9cdf93d4fe8b"
      },
      "execution_count": 8,
      "outputs": [
        {
          "output_type": "stream",
          "name": "stdout",
          "text": [
            "\n",
            "--- Estimasi Probabilitas Kelas dan Prediksi ---\n",
            "Probabilitas Kelas untuk [[5, 1.5]]: [[0.         0.90740741 0.09259259]]\n",
            "Prediksi Kelas untuk [[5, 1.5]]: [1]\n",
            "Nama Kelas Prediksi: versicolor\n"
          ]
        }
      ]
    },
    {
      "cell_type": "code",
      "source": [
        "# --- BAGIAN 3: REGRESI DENGAN DECISION TREE ---\n",
        "\n",
        "print(\"\\n--- Regresi dengan Decision Tree ---\")\n",
        "\n",
        "# Menghasilkan data non-linier dan berisik untuk contoh regresi\n",
        "m = 100\n",
        "X_reg = 6 * np.random.rand(m, 1) - 3\n",
        "y_reg = 0.5 * X_reg**2 + X_reg + 2 + np.random.randn(m, 1)\n",
        "\n",
        "# Inisialisasi dan melatih DecisionTreeRegressor dengan max_depth=2\n",
        "tree_reg = DecisionTreeRegressor(max_depth=2)\n",
        "tree_reg.fit(X_reg, y_reg)\n",
        "\n",
        "print(\"Model DecisionTreeRegressor telah dilatih.\")\n",
        "\n",
        "# Prediksi contoh dengan model regresi\n",
        "sample_X_reg = np.array([[0.6]]) # Contoh nilai X untuk prediksi\n",
        "y_reg_pred = tree_reg.predict(sample_X_reg)\n",
        "print(f\"Prediksi Regresi untuk {sample_X_reg}: {y_reg_pred}\")\n",
        "\n",
        "# Visualisasi data regresi dan prediksinya (opsional, untuk melihat kecocokan)\n",
        "X_test_reg = np.linspace(-3, 3, 500).reshape(-1, 1)\n",
        "y_test_reg_pred = tree_reg.predict(X_test_reg)\n",
        "\n",
        "plt.figure(figsize=(10, 6))\n",
        "plt.scatter(X_reg, y_reg, label=\"Data Asli\")\n",
        "plt.plot(X_test_reg, y_test_reg_pred, color='red', label=f\"Prediksi Decision Tree (max_depth={tree_reg.max_depth})\")\n",
        "plt.title(\"Decision Tree Regresi\")\n",
        "plt.xlabel(\"X\")\n",
        "plt.ylabel(\"y\")\n",
        "plt.legend()\n",
        "plt.grid(True)\n",
        "plt.show()"
      ],
      "metadata": {
        "colab": {
          "base_uri": "https://localhost:8080/",
          "height": 637
        },
        "id": "WWUJZWz5ljMQ",
        "outputId": "dc7bd8f3-ac03-4e43-9082-3f3f413c5fcd"
      },
      "execution_count": 10,
      "outputs": [
        {
          "output_type": "stream",
          "name": "stdout",
          "text": [
            "\n",
            "--- Regresi dengan Decision Tree ---\n",
            "Model DecisionTreeRegressor telah dilatih.\n",
            "Prediksi Regresi untuk [[0.6]]: [3.74227153]\n"
          ]
        },
        {
          "output_type": "display_data",
          "data": {
            "text/plain": [
              "<Figure size 1000x600 with 1 Axes>"
            ],
            "image/png": "[encoded data removed]"
          },
          "metadata": {}
        }
      ]
    },
    {
      "cell_type": "code",
      "source": [
        "# --- BAGIAN 4: KETERBATASAN (INSTABILITY) Decision Tree ---\n",
        "\n",
        "print(\"\\n--- Ilustrasi Keterbatasan (Instability) Decision Tree ---\")\n",
        "\n",
        "# Contoh perubahan kecil pada dataset yang menghasilkan pohon berbeda (konseptual)\n",
        "# Dalam praktik nyata, ini akan melibatkan penghapusan/penambahan data dan pelatihan ulang.\n",
        "# Kode ini hanya menjelaskan konsep, tidak mereproduksinya secara langsung.\n",
        "print(\"Decision Trees sangat sensitif terhadap variasi kecil dalam data pelatihan dan rotasi dataset.\")\n",
        "print(\"Perubahan kecil pada data input atau inisialisasi acak dapat menghasilkan struktur pohon yang sangat berbeda.\")\n",
        "print(\"Untuk ilustrasi ini, lihat Gambar 6-7 dan 6-8 pada buku.\")"
      ],
      "metadata": {
        "colab": {
          "base_uri": "https://localhost:8080/"
        },
        "id": "HPwTUCqvlqFb",
        "outputId": "d6d974f4-2358-48c4-ea57-e81cbfd03f63"
      },
      "execution_count": 11,
      "outputs": [
        {
          "output_type": "stream",
          "name": "stdout",
          "text": [
            "\n",
            "--- Ilustrasi Keterbatasan (Instability) Decision Tree ---\n",
            "Decision Trees sangat sensitif terhadap variasi kecil dalam data pelatihan dan rotasi dataset.\n",
            "Perubahan kecil pada data input atau inisialisasi acak dapat menghasilkan struktur pohon yang sangat berbeda.\n",
            "Untuk ilustrasi ini, lihat Gambar 6-7 dan 6-8 pada buku.\n"
          ]
        }
      ]
    }
  ]
}