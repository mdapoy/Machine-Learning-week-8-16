{
  "nbformat": 4,
  "nbformat_minor": 0,
  "metadata": {
    "colab": {
      "provenance": [],
      "toc_visible": true,
      "authorship_tag": "ABX9TyPN0/gxYggkyDaCvwZEPHVB",
      "include_colab_link": true
    },
    "kernelspec": {
      "name": "python3",
      "display_name": "Python 3"
    },
    "language_info": {
      "name": "python"
    }
  },
  "cells": [
    {
      "cell_type": "markdown",
      "metadata": {
        "id": "view-in-github",
        "colab_type": "text"
      },
      "source": [
        "<a href=\"https://colab.research.google.com/github/mdapoy/Machine-Learning-week-8-16/blob/main/Ch1_THE_MACHINE_LEARNING_LANDSCAPE.ipynb\" target=\"_parent\"><img src=\"https://colab.research.google.com/assets/colab-badge.svg\" alt=\"Open In Colab\"/></a>"
      ]
    },
    {
      "cell_type": "markdown",
      "source": [
        "# THE MACHINE LEARNING LANDSCAPE\n",
        "\n",
        "---\n",
        "\n"
      ],
      "metadata": {
        "id": "IqUOofJhbDTN"
      }
    },
    {
      "cell_type": "markdown",
      "source": [
        "## 1. Pendahuluan"
      ],
      "metadata": {
        "id": "G3vXnyDPbJPt"
      }
    },
    {
      "cell_type": "markdown",
      "source": [
        "Bab pertama, \"The Machine Learning Landscape\", berfungsi sebagai fondasi konseptual untuk seluruh isi buku. Bab ini tidak berfokus pada implementasi teknis atau kode, melainkan bertujuan untuk membangun pemahaman mendasar tentang apa itu Machine Learning (ML), mengapa ia penting, serta bagaimana berbagai sistem ML dapat diklasifikasikan. Analisis ini akan menguraikan konsep-konsep kunci yang diperkenalkan dalam bab ini, yang terbukti krusial sebelum melangkah ke pembahasan yang lebih praktis di bab-bab selanjutnya.\n",
        "\n",
        "---\n",
        "\n"
      ],
      "metadata": {
        "id": "WOQxVujHbYxL"
      }
    },
    {
      "cell_type": "markdown",
      "source": [
        "## 2. Isi Analisis"
      ],
      "metadata": {
        "id": "5ncSHrJ2bgUr"
      }
    },
    {
      "cell_type": "markdown",
      "source": [
        "Bab ini secara sistematis memperkenalkan pembaca ke dunia Machine Learning melalui beberapa sub-bagian utama."
      ],
      "metadata": {
        "id": "zq912ZRdbj2S"
      }
    },
    {
      "cell_type": "markdown",
      "source": [
        "### 2.1. Definisi dan Alasan Penggunaan Machine Learning"
      ],
      "metadata": {
        "id": "NoTYHpIEboWZ"
      }
    },
    {
      "cell_type": "markdown",
      "source": [
        "Penulis memulai dengan mendefinisikan ML sebagai \"ilmu (dan seni) memprogram komputer sehingga mereka dapat belajar dari data\". Definisi ini diperkuat dengan kutipan klasik dari Arthur Samuel (1959) dan definisi yang lebih berorientasi rekayasa dari Tom Mitchell (1997), yang menekankan pada peningkatan kinerja (P) pada suatu tugas (T) melalui pengalaman (E)."
      ],
      "metadata": {
        "id": "chI1eKYvb0Wb"
      }
    },
    {
      "cell_type": "markdown",
      "source": [
        "Analisis utama bab ini adalah perbandingan antara pendekatan pemrograman tradisional dengan pendekatan ML.\n",
        "  - Pendekatan Tradisional: Memerlukan serangkaian aturan kompleks yang ditulis secara manual, yang sulit untuk dipelihara dan diadaptasi terhadap masalah baru (misalnya, spammer yang mengubah taktiknya).\n",
        "  - Pendekatan ML: Sistem belajar secara otomatis dari data contoh (misalnya, email spam dan non-spam) untuk mendeteksi pola. Hal ini menghasilkan program yang lebih singkat, lebih mudah dipelihara, dan sering kali lebih akurat."
      ],
      "metadata": {
        "id": "NxiGHRkFcCd-"
      }
    },
    {
      "cell_type": "markdown",
      "source": [
        "Bab ini juga menyoroti alasan utama penggunaan ML, yaitu untuk:\n",
        "  - Menyelesaikan masalah yang terlalu kompleks untuk solusi algoritmis tradisional.\n",
        "  - Menggantikan daftar panjang aturan yang perlu disesuaikan secara manual.\n",
        "  - Membangun sistem yang dapat beradaptasi dengan lingkungan yang terus berubah.\n",
        "  - Membantu manusia mendapatkan wawasan dari data dalam jumlah besar (data mining)."
      ],
      "metadata": {
        "id": "gi8DhtiNcNZH"
      }
    },
    {
      "cell_type": "markdown",
      "source": [
        "### 2.2. Klasifikasi Sistem Machine Learning"
      ],
      "metadata": {
        "id": "qmLiMVSUcej_"
      }
    },
    {
      "cell_type": "markdown",
      "source": [
        "Penulis mengklasifikasikan sistem ML berdasarkan tiga kriteria utama, yang memberikan \"peta\" untuk menavigasi berbagai jenis algoritma dan pendekatan."
      ],
      "metadata": {
        "id": "bZTMX1jacpPC"
      }
    },
    {
      "cell_type": "markdown",
      "source": [
        "- Berdasarkan Supervisi Manusia (Human Supervision):\n",
        "  - Supervised Learning: Algoritma dilatih menggunakan data yang sudah diberi label (solusi yang diinginkan sudah ada). Tugas yang paling umum adalah klasifikasi (contoh: filter spam) dan regresi (contoh: memprediksi harga rumah).\n",
        "  - Unsupervised Learning: Algoritma dilatih menggunakan data yang tidak berlabel. Tugas utamanya meliputi clustering (pengelompokan), anomaly detection (deteksi anomali), visualization, dan dimensionality reduction (pengurangan dimensi).\n",
        "  - Semisupervised Learning: Merupakan kombinasi dari keduanya, di mana sebagian besar data tidak berlabel dan hanya sebagian kecil yang berlabel.\n",
        "  - Reinforcement Learning: Sistem (disebut agent) belajar dengan cara berinteraksi dengan lingkungan (environment). Agent melakukan tindakan (actions) dan menerima imbalan (rewards) atau hukuman (penalties) sebagai balasannya, dengan tujuan untuk memaksimalkan total imbalan dari waktu ke waktu.\n",
        "- Berdasarkan Kemampuan Belajar secara Inkremental:\n",
        "  - Batch Learning (Offline Learning): Sistem harus dilatih menggunakan semua data yang tersedia sekaligus. Sistem ini tidak dapat belajar secara bertahap dan memerlukan banyak sumber daya komputasi. Untuk beradaptasi dengan data baru, sistem harus dilatih ulang dari awal.\n",
        "  - Online Learning: Sistem dilatih secara bertahap dengan memberinya data secara sekuensial (baik satu per satu atau dalam kelompok kecil yang disebut mini-batches). Ini sangat berguna untuk sistem yang perlu beradaptasi dengan perubahan data secara cepat atau untuk menangani dataset yang sangat besar yang tidak muat dalam memori (out-of-core learning).\n",
        "- Berdasarkan Metode Generalisasi:\n",
        "  - Instance-Based Learning: Sistem mempelajari data contoh \"dengan hafalan\". Ketika dihadapkan pada data baru, sistem ini menggunakan ukuran kemiripan untuk membandingkannya dengan data contoh yang sudah dipelajari untuk membuat prediksi.\n",
        "  - Model-Based Learning: Sistem membangun sebuah model dari data contoh, kemudian menggunakan model tersebut untuk membuat prediksi. Tujuannya adalah untuk dapat menggeneralisasi dengan baik pada data yang belum pernah dilihat sebelumnya. Contoh yang digunakan adalah membangun model linear kepuasan hidup berdasarkan PDB per kapita.\n",
        "\n"
      ],
      "metadata": {
        "id": "n5Iis32ncsQt"
      }
    },
    {
      "cell_type": "markdown",
      "source": [
        "### 2.3. Tantangan Utama dalam Machine Learning"
      ],
      "metadata": {
        "id": "PQSfhiPCdVcs"
      }
    },
    {
      "cell_type": "markdown",
      "source": [
        "Bab ini juga secara realistis menjabarkan tantangan-tantangan utama yang sering dihadapi dalam proyek ML."
      ],
      "metadata": {
        "id": "D27PLCNQdYd4"
      }
    },
    {
      "cell_type": "markdown",
      "source": [
        "- Data yang Tidak Cukup: Sebagian besar algoritma ML membutuhkan data dalam jumlah besar untuk dapat bekerja dengan baik. Penulis mengutip studi yang menunjukkan \"efektivitas data yang tidak masuk akal\" (The Unreasonable Effectiveness of Data), di mana algoritma yang berbeda menunjukkan performa yang serupa ketika diberi data yang cukup.\n",
        "- Data yang Tidak Representatif: Data pelatihan harus representatif terhadap kasus-kasus baru yang ingin digeneralisasi. Jika tidak, model yang dihasilkan akan bias. Penulis memberikan contoh klasik dari sampling bias pada pemilu AS tahun 1936.\n",
        "- Data Berkualitas Buruk: Kesalahan, outlier, dan noise pada data pelatihan akan menyulitkan sistem untuk mendeteksi pola yang mendasarinya.\n",
        "- Fitur yang Tidak Relevan: Keberhasilan proyek ML sangat bergantung pada proses feature engineering, yang mencakup pemilihan fitur (feature selection) dan ekstraksi fitur (feature extraction) yang baik.\n",
        "- Overfitting dan Underfitting: Dua tantangan terbesar dalam ML.\n",
        "  - Overfitting terjadi ketika model bekerja sangat baik pada data pelatihan tetapi tidak dapat menggeneralisasi dengan baik pada data baru. Ini terjadi karena model terlalu kompleks relatif terhadap jumlah dan tingkat noise pada data.\n",
        "  - Underfitting adalah kebalikannya; terjadi ketika model terlalu sederhana untuk mempelajari struktur data yang mendasarinya.\n"
      ],
      "metadata": {
        "id": "2nKMFCIAdaJs"
      }
    },
    {
      "cell_type": "markdown",
      "source": [
        "### 2.4. Pengujian dan Validasi"
      ],
      "metadata": {
        "id": "-J15RXqcdv_s"
      }
    },
    {
      "cell_type": "markdown",
      "source": [
        "Bagian terakhir bab ini membahas pentingnya evaluasi model. Penulis menjelaskan bahwa satu-satunya cara untuk mengetahui seberapa baik sebuah model akan menggeneralisasi adalah dengan mengujinya pada data baru.\n",
        "  - Training Set dan Test Set: Data dibagi menjadi dua: training set untuk melatih model, dan test set untuk mengestimasi generalization error (kesalahan pada data baru).\n",
        "  - Validation Set: Untuk menghindari data snooping bias (bias yang timbul karena \"mengintip\" test set), diperkenalkan konsep validation set. Set ini adalah bagian dari training set yang disisihkan untuk memilih model terbaik dan menyetel hyperparameter.\n",
        "\n",
        "---\n",
        "\n"
      ],
      "metadata": {
        "id": "WprslETDd07n"
      }
    },
    {
      "cell_type": "markdown",
      "source": [
        "## 3. Istilah-Istilah Kunci"
      ],
      "metadata": {
        "id": "0UbV1p8ad7BB"
      }
    },
    {
      "cell_type": "markdown",
      "source": [
        "- Supervised Learning: Belajar dengan data berlabel.\n",
        "- Unsupervised Learning: Belajar dengan data tanpa label.\n",
        "- Reinforcement Learning: Belajar melalui imbalan dan hukuman.\n",
        "- Batch Learning: Belajar secara luring (offline).\n",
        "- Online Learning: Belajar secara daring (online) dan bertahap.\n",
        "- Instance-Based Learning: Belajar dengan menghafal dan membandingkan kemiripan.\n",
        "- Model-Based Learning: Belajar dengan membangun model prediktif.\n",
        "- Overfitting: Model terlalu kompleks, gagal generalisasi.\n",
        "- Underfitting: Model terlalu sederhana, gagal mempelajari pola.\n",
        "- Generalization Error: Tingkat kesalahan model pada data baru.\n",
        "- Training Set, Test Set, Validation Set: Pembagian data untuk melatih, menguji, dan memvalidasi model.\n",
        "\n",
        "---\n",
        "\n"
      ],
      "metadata": {
        "id": "rwDy-jQDd-xF"
      }
    },
    {
      "cell_type": "markdown",
      "source": [
        "## 4. Kesimpulan"
      ],
      "metadata": {
        "id": "uFyux1IPeLbw"
      }
    },
    {
      "cell_type": "markdown",
      "source": [
        "Bab 1 dari buku ini berhasil menyajikan gambaran umum yang komprehensif dan terstruktur mengenai lanskap Machine Learning. Bab ini tidak hanya memberikan definisi formal, tetapi juga intuisi di balik setiap konsep utama melalui contoh-contoh yang relevan seperti filter spam dan prediksi kepuasan hidup. Penekanan pada klasifikasi sistem ML (berdasarkan supervisi, cara belajar, dan metode generalisasi) sangat penting untuk memetakan jenis-jenis algoritma yang akan dibahas di bab selanjutnya. Selain itu, dengan menyoroti tantangan-tantangan seperti kualitas data, overfitting, dan underfitting, serta pentingnya pengujian dan validasi yang benar, penulis berhasil mempersiapkan pembaca dengan pola pikir yang tepat untuk mendekati proyek ML di dunia nyata. Bab ini secara efektif berfungsi sebagai \"Bab Nol\" yang wajib dipahami sebelum terjun ke dalam implementasi praktis.\n",
        "\n",
        "---\n",
        "\n"
      ],
      "metadata": {
        "id": "qAdDOnT2eNAr"
      }
    }
  ]
}