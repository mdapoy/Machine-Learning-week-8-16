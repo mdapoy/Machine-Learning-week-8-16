{
  "nbformat": 4,
  "nbformat_minor": 0,
  "metadata": {
    "colab": {
      "provenance": [],
      "toc_visible": true,
      "gpuType": "T4",
      "authorship_tag": "ABX9TyNYsSfUdrW3mXKCnU6IupkB",
      "include_colab_link": true
    },
    "kernelspec": {
      "name": "python3",
      "display_name": "Python 3"
    },
    "language_info": {
      "name": "python"
    },
    "accelerator": "GPU"
  },
  "cells": [
    {
      "cell_type": "markdown",
      "metadata": {
        "id": "view-in-github",
        "colab_type": "text"
      },
      "source": [
        "<a href=\"https://colab.research.google.com/github/mdapoy/Machine-Learning-week-8-16/blob/main/Ch17_REPRESENTATION_LEARNING_AND_GENERATIVE_LEARNING_USING_AUTOENCODERS_AND_GANS.ipynb\" target=\"_parent\"><img src=\"https://colab.research.google.com/assets/colab-badge.svg\" alt=\"Open In Colab\"/></a>"
      ]
    },
    {
      "cell_type": "markdown",
      "source": [
        "# LAPORAN ANALISIS BUKU\n",
        "**Hands-on Machine Learning with Scikit-Learn, Keras, and TensorFlow (Aurélien Géron)**\n",
        "\n",
        "**BAB 17: REPRESENTATION LEARNING AND GENERATIVE LEARNING USING AUTOENCODERS AND GANS**\n",
        "\n",
        "## 1. Pendahuluan\n",
        "[cite_start]Bab 17 dari buku ini memperkenalkan dua konsep penting dalam Machine Learning tak terawasi (unsupervised learning): *Autoencoders* dan *Generative Adversarial Networks* (GANs). [cite_start]Kedua model ini berfokus pada pembelajaran representasi data yang efisien (*representation learning*) dan kemampuan untuk menghasilkan data baru yang mirip dengan data pelatihan (*generative learning*). [cite_start]Meskipun memiliki tujuan yang serupa, pendekatan fundamental keduanya sangat berbeda.\n",
        "\n",
        "* [cite_start]**Autoencoder**: Belajar untuk menyalin inputnya sendiri ke outputnya dengan memaksa jaringan untuk mempelajari representasi data yang efisien melalui berbagai batasan, seperti membatasi ukuran representasi laten atau menambahkan *noise* ke input.\n",
        "* [cite_start]**GANs**: Terdiri dari dua jaringan saraf yang bersaing satu sama lain—sebuah generator yang mencoba menghasilkan data realistis dan sebuah diskriminator yang mencoba membedakan data asli dari yang palsu. [cite_start]Pendekatan pelatihan adversarial ini dianggap sebagai salah satu ide paling penting dalam Machine Learning baru-baru ini.\n",
        "\n",
        "## 2. Representasi Data yang Efisien (Efficient Data Representations)\n",
        "[cite_start]Bab ini membuka dengan analogi tentang bagaimana manusia cenderung mencari pola untuk menghafal urutan angka secara efisien, yang menjadi dasar pemahaman *Autoencoder*.\n",
        "\n",
        "### 2.1. Autoencoder\n",
        "* [cite_start]**Definisi**: Autoencoder adalah jaringan saraf tiruan yang mampu mempelajari representasi padat dari data input, yang disebut *latent representations* atau *codings*, tanpa pengawasan.\n",
        "* [cite_start]**Struktur**: Sebuah Autoencoder selalu terdiri dari dua bagian: sebuah *encoder* (atau *recognition network*) yang mengubah input menjadi representasi laten, diikuti oleh sebuah *decoder* (atau *generative network*) yang mengubah representasi internal menjadi output yang diharapkan mirip dengan input asli. [cite_start]Jumlah neuron di lapisan output harus sama dengan jumlah input. [cite_start]Output sering disebut rekonstruksi karena Autoencoder mencoba merekonstruksi input.\n",
        "* [cite_start]**Reconstruction Loss**: Fungsi biaya mengandung *reconstruction loss* yang menghukum model ketika rekonstruksi (output) berbeda dari input.\n",
        "* [cite_start]**Undercomplete Autoencoder**: Autoencoder yang memiliki dimensi lapisan *coding* lebih rendah daripada data input. [cite_start]Ini memaksa Autoencoder untuk mempelajari fitur-fitur penting dalam data dan mengabaikan yang tidak penting, karena tidak dapat secara trivial menyalin input langsung ke output.\n",
        "* [cite_start]**Pembelajaran Mandiri (*Self-supervised Learning*)**: Autoencoder dapat dianggap sebagai bentuk pembelajaran mandiri, di mana label dihasilkan secara otomatis (sama dengan input).\n",
        "\n",
        "## 3. PCA dengan Undercomplete Linear Autoencoder\n",
        "[cite_start]Jika Autoencoder hanya menggunakan aktivasi linear dan fungsi biaya *Mean Squared Error* (MSE), maka ia akan melakukan *Principal Component Analysis* (PCA).\n",
        "\n",
        "* **Implementasi**: Contoh kode menunjukkan pembangunan Autoencoder Sequential sederhana dengan satu lapisan `Dense` di encoder (dari 3 input ke 2 output) dan satu lapisan `Dense` di decoder (dari 2 input ke 3 output). [cite_start]Model ini dikompilasi dengan MSE sebagai loss dan SGD sebagai optimizer.\n",
        "* [cite_start]**Pelatihan**: Data pelatihan digunakan sebagai input dan juga sebagai target, mencerminkan sifat pembelajaran mandiri (*self-supervised learning*) dari Autoencoder.\n",
        "* [cite_start]**Hasil**: Autoencoder menemukan bidang 2D terbaik untuk memproyeksikan data 3D, mempertahankan varians sebanyak mungkin, mirip dengan hasil PCA.\n",
        "\n",
        "## 4. Stacked Autoencoders (Deep Autoencoders)\n",
        "[cite_start]Autoencoder dapat memiliki beberapa lapisan tersembunyi, yang disebut *stacked autoencoders* atau *deep autoencoders*. [cite_start]Menambahkan lapisan membantu Autoencoder mempelajari *codings* yang lebih kompleks.\n",
        "\n",
        "* [cite_start]**Risiko**: Jika Autoencoder terlalu \"kuat\" atau kompleks tanpa batasan yang memadai, ia mungkin hanya belajar untuk menyalin input secara trivial tanpa mempelajari representasi data yang bermakna.\n",
        "* [cite_start]**Arsitektur Umum**: Biasanya simetris terhadap lapisan *coding* pusat. [cite_start]Contoh untuk Fashion MNIST disebutkan memiliki 784 input, kemudian lapisan tersembunyi 100 neuron, lapisan *coding* 30 neuron, lalu lapisan tersembunyi 100 neuron, dan output 784 neuron.\n",
        "* [cite_start]**Implementasi Keras**: Model dibagi menjadi `stacked_encoder` dan `stacked_decoder`. [cite_start]Encoder meratakan gambar 28x28 menjadi vektor 784, kemudian melalui dua lapisan `Dense` (100 dan 30 unit) dengan fungsi aktivasi SELU. [cite_start]Decoder mengambil *codings* 30 unit, melalui dua lapisan `Dense` (100 dan 28*28 unit) dan mengubah bentuk output menjadi 28x28. [cite_start]`binary_crossentropy` digunakan sebagai fungsi biaya, memperlakukan rekonstruksi sebagai masalah klasifikasi biner multilabel per piksel, yang cenderung mempercepat konvergensi. [cite_start]Data pelatihan (`X_train`) digunakan sebagai input dan target.\n",
        "\n",
        "## 5. Visualisasi Rekonstruksi\n",
        "\n",
        "Visualisasi rekonstruksi adalah cara penting untuk memeriksa apakah Autoencoder dilatih dengan benar. [cite_start]Perbedaan yang terlalu signifikan antara input asli dan output yang direkonstruksi menunjukkan Autoencoder mungkin belum terlatih dengan baik.\n",
        "\n",
        "### 5.1. Visualisasi Dataset Fashion MNIST\n",
        "[cite_start]Autoencoder dapat digunakan untuk mereduksi dimensi dataset. [cite_start]Sebagai contoh, encoder dari *stacked autoencoder* dapat mengurangi dimensi data menjadi 30, kemudian algoritma t-SNE digunakan untuk memproyeksikan data ke 2D untuk visualisasi.\n",
        "\n",
        "## 6. Unsupervised Pretraining dengan Stacked Autoencoders\n",
        "[cite_start]Autoencoder sangat berguna untuk *unsupervised pretraining*, terutama ketika data berlabel terbatas.\n",
        "\n",
        "* [cite_start]**Skenario**: Jika Anda memiliki tugas *supervised* yang kompleks tetapi data berlabelnya sedikit, sementara data tak berlabelnya banyak, Anda dapat melatih *stacked autoencoder* pada seluruh data (berlabel dan tak berlabel).\n",
        "* [cite_start]**Proses**: Setelah Autoencoder dilatih, bagian *encoder*-nya dapat digunakan kembali sebagai lapisan awal untuk jaringan saraf yang akan dilatih untuk tugas *supervised* menggunakan data berlabel. [cite_start]Lapisan-lapisan yang digunakan kembali ini seringkali dibekukan (*frozen*) pada awalnya, terutama jika data berlabel sedikit.\n",
        "* [cite_start]**Sejarah**: Teknik ini, terutama dengan *Restricted Boltzmann Machines* (RBMs) atau Autoencoder, penting dalam kebangkitan Deep Learning pada tahun 2006.\n",
        "\n",
        "## 7. Teknik Pelatihan Stacked Autoencoders\n",
        "Bab ini juga membahas beberapa teknik tambahan untuk melatih *stacked autoencoders*:\n",
        "\n",
        "### 7.1. Tying Weights (Mengikat Bobot)\n",
        "* [cite_start]**Konsep**: Jika Autoencoder simetris, bobot lapisan *decoder* dapat diikat (dijadikan sama dengan transpos) bobot lapisan *encoder* yang sesuai. [cite_start]Jika $W_L$ adalah bobot lapisan ke-$L$, maka bobot lapisan *decoder* ke-$(N-L+1)$ adalah $W_L^T$.\n",
        "* [cite_start]**Manfaat**: Mengurangi separuh jumlah bobot dalam model, mempercepat pelatihan, dan membatasi risiko *overfitting*.\n",
        "* [cite_start]**Implementasi Keras**: Memerlukan *custom layer* seperti `DenseTranspose` yang menggunakan bobot dari lapisan `Dense` lain yang sudah ada, lalu di-transpos.\n",
        "\n",
        "### 7.2. Training One Autoencoder at a Time (Greedy Layer-wise Training)\n",
        "* [cite_start]**Konsep**: Melatih satu Autoencoder dangkal pada satu waktu, lalu menyusunnya menjadi satu *stacked autoencoder*.\n",
        "* **Proses**: Melatih Autoencoder pertama untuk merekonstruksi input. Kemudian, output *encoder* pertama digunakan sebagai input untuk melatih Autoencoder kedua, dan seterusnya. [cite_start]Setelah semua Autoencoder dilatih, lapisan tersembunyi dari setiap *encoder* dan lapisan output *decoder* disusun menjadi Autoencoder bertumpuk akhir.\n",
        "* [cite_start]**Sejarah**: Teknik ini memungkinkan pelatihan jaringan dalam secara efisien sebelum teknik pelatihan *end-to-end* ditemukan.\n",
        "\n",
        "## 8. Jenis-jenis Autoencoder Lainnya\n",
        "Autoencoder tidak terbatas pada jaringan *dense*; ada juga varian untuk jenis data atau batasan yang berbeda:\n",
        "\n",
        "### 8.1. Convolutional Autoencoders\n",
        "* [cite_start]**Skenario**: Digunakan untuk gambar. [cite_start]Encoder adalah CNN biasa (lapisan konvolusional dan *pooling*), sementara decoder melakukan operasi kebalikan (menggunakan lapisan *transpose convolutional* atau *upsampling*) untuk meningkatkan resolusi gambar dan mengurangi kedalaman fitur.\n",
        "\n",
        "### 8.2. Recurrent Autoencoders\n",
        "* [cite_start]**Skenario**: Digunakan untuk data sekuensial seperti deret waktu atau teks. [cite_start]Encoder biasanya adalah RNN *sequence-to-vector* yang mengompres sekuens input menjadi satu vektor. [cite_start]Decoder adalah RNN *vector-to-sequence* yang melakukan kebalikan.\n",
        "\n",
        "### 8.3. Denoising Autoencoders\n",
        "* [cite_start]**Skenario**: Memaksa Autoencoder mempelajari fitur-fitur yang berguna dengan menambahkan *noise* pada input dan melatihnya untuk merekonstruksi input asli yang bebas *noise*.\n",
        "* [cite_start]**Jenis Noise**: Bisa berupa *Gaussian noise* atau mematikan input secara acak (mirip *dropout*).\n",
        "* [cite_start]**Manfaat**: Selain untuk visualisasi data dan *unsupervised pretraining*, juga efektif untuk menghilangkan *noise* dari gambar.\n",
        "\n",
        "### 8.4. Sparse Autoencoders\n",
        "* [cite_start]**Skenario**: Mendorong Autoencoder untuk mengurangi jumlah neuron aktif di lapisan *coding* (sparsitas) dengan menambahkan term yang sesuai pada fungsi biaya.\n",
        "* [cite_start]**Tujuan**: Memaksa setiap neuron di lapisan *coding* untuk merepresentasikan fitur yang berguna.\n",
        "* **Pendekatan**:\n",
        "    * Menggunakan fungsi aktivasi sigmoid di lapisan *coding* (untuk membatasi nilai coding antara 0 dan 1) dan lapisan *coding* yang besar (misalnya, 300 unit).\n",
        "    * [cite_start]Menambahkan regularisasi L1 pada aktivasi lapisan *coding* (menggunakan `ActivityRegularization` atau `activity_regularizer`).\n",
        "    * Pendekatan yang lebih baik: Menghukum model ketika sparsitas terukur (aktivasi rata-rata neuron) berbeda dari sparsitas target yang diinginkan, seringkali menggunakan *Kullback–Leibler (KL) divergence* sebagai fungsi kerugian.\n",
        "\n",
        "## 9. Variational Autoencoders (VAEs)\n",
        "[cite_start]Variational Autoencoders (VAEs) adalah kategori penting dari Autoencoder yang diperkenalkan pada tahun 2013, yang kemudian menjadi sangat populer.\n",
        "\n",
        "* **Sifat Khusus**:\n",
        "    * [cite_start]**Probabilistic Autoencoders**: Outputnya sebagian ditentukan oleh peluang, bahkan setelah pelatihan.\n",
        "    * [cite_start]**Generative Autoencoders**: Mampu menghasilkan instansi baru yang sangat mirip dengan data pelatihan.\n",
        "* **Mekanisme**: Encoder menghasilkan *mean coding* ($\\mu$) dan *standard deviation* ($\\sigma$) untuk input yang diberikan. [cite_start]*Coding* aktual kemudian diambil sampelnya secara acak dari distribusi Gaussian dengan $\\mu$ dan $\\sigma$ tersebut, yang kemudian didekode oleh *decoder*.\n",
        "* **Fungsi Biaya**: Terdiri dari dua bagian:\n",
        "    1.  [cite_start]**Reconstruction Loss**: Loss standar yang mendorong Autoencoder untuk mereproduksi inputnya.\n",
        "    2.  **Latent Loss**: Mendorong *coding* agar menyerupai sampel dari distribusi Gaussian sederhana. [cite_start]Ini adalah *KL divergence* antara distribusi target (Gaussian) dan distribusi aktual *coding*.\n",
        "* [cite_start]**Pembangkitan Gambar**: Setelah dilatih, VAE dapat menghasilkan gambar yang mirip dengan item fashion dengan mengambil sampel *coding* acak dari distribusi Gaussian dan mendekodekannya.\n",
        "* **Interpolasi Semantik**: Memungkinkan interpolasi antara dua gambar pada tingkat *coding* (ruang laten), menghasilkan gambar perantara yang mulus dan realistis.\n",
        "\n",
        "## 10. Generative Adversarial Networks (GANs)\n",
        "[cite_start]Generative Adversarial Networks (GANs) diperkenalkan pada tahun 2014 dan menjadi sangat terkenal karena kemampuannya menghasilkan gambar yang sangat realistis.\n",
        "\n",
        "* [cite_start]**Struktur**: GANs terdiri dari dua jaringan saraf yang bersaing satu sama lain:\n",
        "    * **Generator**: Menerima input distribusi acak (misalnya, Gaussian) dan menghasilkan data, biasanya gambar. [cite_start]Generator bertujuan untuk menghasilkan gambar yang tampak cukup nyata untuk menipu diskriminator.\n",
        "    * **Discriminator**: Menerima gambar (baik palsu dari generator atau asli dari dataset pelatihan) sebagai input, dan harus menebak apakah gambar tersebut palsu atau asli. [cite_start]Diskriminator mencoba membedakan gambar palsu dari gambar asli.\n",
        "* **Proses Pelatihan (Dua Fase per Iterasi)**:\n",
        "    1.  [cite_start]**Fase Pelatihan Diskriminator**: Diskriminator dilatih pada batch yang berisi gambar asli (label 1) dan gambar palsu yang dihasilkan generator (label 0). [cite_start]Bobot generator dibekukan selama fase ini.\n",
        "    2.  **Fase Pelatihan Generator**: Generator dilatih pada batch gambar palsu yang baru dihasilkan. [cite_start]Diskriminator digunakan untuk menilai gambar-gambar ini, tetapi semua label diatur ke 1 (asli). [cite_start]Bobot diskriminator dibekukan. [cite_start]Generator bertujuan untuk membuat diskriminator *secara salah* percaya bahwa gambar palsu itu asli.\n",
        "* **Kesulitan Pelatihan GANs**:\n",
        "    * [cite_start]**Mode Collapse**: Generator menghasilkan output yang kurang beragam seiring waktu, hanya berfokus pada beberapa jenis output yang berhasil menipu diskriminator.\n",
        "    * [cite_start]**Ketidakstabilan Parameter**: Bobot generator dan diskriminator dapat berosilasi dan menjadi tidak stabil karena persaingan yang konstan, menyebabkan pelatihan tiba-tiba menyimpang.\n",
        "    * [cite_start]**Sensitivitas Hiperparameter**: GANs sangat sensitif terhadap pilihan hiperparameter.\n",
        "* **Teknik Mengatasi Kesulitan**:\n",
        "    * [cite_start]**Experience Replay**: Menyimpan gambar yang dihasilkan generator dari iterasi sebelumnya dalam *replay buffer* untuk melatih diskriminator, mengurangi *overfitting* pada output generator terbaru.\n",
        "    * [cite_start]**Mini-batch Discrimination**: Mengukur kesamaan gambar dalam batch dan memberikan statistik ini ke diskriminator untuk mendorong generator menghasilkan keragaman yang lebih besar.\n",
        "\n",
        "## 11. Deep Convolutional GANs (DCGANs)\n",
        "[cite_start]DCGANs adalah arsitektur GAN yang diusulkan pada tahun 2015, yang berhasil mengatasi banyak kesulitan pelatihan GAN untuk gambar yang lebih besar.\n",
        "\n",
        "* **Pedoman Utama**:\n",
        "    * [cite_start]Mengganti lapisan *pooling* dengan *strided convolutions* (pada diskriminator) dan *transposed convolutions* (pada generator).\n",
        "    * [cite_start]Menggunakan *Batch Normalization* pada generator (kecuali lapisan output) dan diskriminator (kecuali lapisan input).\n",
        "    * [cite_start]Menghilangkan lapisan *fully connected hidden* untuk arsitektur yang lebih dalam.\n",
        "    * [cite_start]Menggunakan aktivasi ReLU di generator (kecuali lapisan output, yang menggunakan tanh).\n",
        "    * [cite_start]Menggunakan aktivasi Leaky ReLU di semua lapisan diskriminator.\n",
        "* [cite_start]**Manfaat**: Mampu menghasilkan gambar yang cukup realistis dan mempelajari representasi laten yang bermakna (misalnya, aritmetika vektor untuk konsep visual).\n",
        "* [cite_start]**Conditional GAN (CGAN)**: Menambahkan kelas sebagai input ekstra ke generator dan diskriminator memungkinkan kontrol atas kelas gambar yang dihasilkan.\n",
        "\n",
        "## 12. Progressive Growing of GANs\n",
        "[cite_start]Teknik yang diusulkan pada tahun 2018 ini berfokus pada peningkatan kualitas, stabilitas, dan variasi gambar yang dihasilkan.\n",
        "\n",
        "* [cite_start]**Konsep**: Memulai pelatihan dengan menghasilkan gambar kecil, lalu secara bertahap menambahkan lapisan konvolusional ke generator dan diskriminator untuk menghasilkan gambar yang semakin besar (misalnya, dari 4x4 hingga 1024x1024).\n",
        "* [cite_start]**Fade-in/Fade-out**: Lapisan baru secara bertahap \"dimasukkan\" dengan bobot $\\alpha$, sementara lapisan output asli \"dikeluarkan\" dengan bobot $1-\\alpha$.\n",
        "* **Teknik Tambahan untuk Stabilitas**:\n",
        "    * [cite_start]**Minibatch Standard Deviation Layer**: Ditambahkan di dekat akhir diskriminator untuk mendorong generator menghasilkan output yang lebih beragam, mengurangi risiko *mode collapse*.\n",
        "    * **Equalized Learning Rate**: Menginisialisasi bobot dengan distribusi Gaussian sederhana tetapi menskalakan bobot saat runtime. [cite_start]Ini memastikan jangkauan dinamis yang sama untuk semua parameter, mempercepat dan menstabilkan pelatihan.\n",
        "    * **Pixelwise Normalization Layer**: Ditambahkan setelah setiap lapisan konvolusional di generator untuk menghindari ledakan aktivasi.\n",
        "\n",
        "## 13. StyleGANs\n",
        "[cite_start]StyleGANs, yang diperkenalkan pada tahun 2018 oleh tim Nvidia yang sama, mencapai *state-of-the-art* dalam generasi gambar resolusi tinggi dengan menggabungkan teknik *style transfer*.\n",
        "\n",
        "* **Struktur Generator**: Terdiri dari dua jaringan:\n",
        "    * [cite_start]**Mapping Network**: MLP delapan lapisan yang memetakan representasi laten (coding `z`) ke vektor gaya `w`. [cite_start]Vektor `w` ini kemudian diubah melalui beberapa transformasi afin untuk menghasilkan vektor gaya tambahan yang mengontrol gaya gambar pada berbagai tingkat (misalnya, warna rambut hingga fitur tingkat tinggi seperti usia).\n",
        "    * **Synthesis Network**: Bertanggung jawab menghasilkan gambar. [cite_start]Menerima input konstan yang dipelajari dan memprosesnya melalui lapisan konvolusional dan *upsampling*.\n",
        "* **Fitur Utama**:\n",
        "    * [cite_start]**Penambahan Noise**: *Noise* ditambahkan ke input dan semua output lapisan konvolusional (sebelum fungsi aktivasi) untuk menambahkan *stochasticity* (kebetulan) yang diperlukan pada gambar yang dihasilkan, seperti posisi bintik atau rambut.\n",
        "    * **Adaptive Instance Normalization (AdaIN)**: Digunakan setelah setiap lapisan *noise*, yang menstandardisasi setiap *feature map* secara independen, lalu menggunakan vektor gaya untuk menentukan skala dan offset setiap *feature map*.\n",
        "    * [cite_start]**Mixing Regularization (Style Mixing)**: Menggunakan dua *coding* berbeda untuk menghasilkan gambar (satu untuk level awal, yang lain untuk level berikutnya), yang mencegah jaringan mengasumsikan korelasi gaya antar level, mendorong lokalisasi gaya.\n",
        "\n",
        "## 14. Kesimpulan Bab 17\n",
        "Bab 17 memberikan gambaran mendalam tentang *Autoencoders* dan GANs, dua pilar utama dalam pembelajaran tak terawasi dan generatif. [cite_start]Autoencoder fokus pada pembelajaran representasi yang efisien melalui rekonstruksi input dengan batasan, yang dapat digunakan untuk reduksi dimensi, *pretraining*, atau menghasilkan data yang cenderung *fuzzy*. [cite_start]Sebaliknya, GANs, dengan arsitektur adversarial antara generator dan diskriminator, menghasilkan gambar yang sangat realistis, meskipun proses pelatihannya lebih kompleks dan rentan terhadap masalah seperti *mode collapse*. [cite_start]Perkembangan teknik seperti DCGANs, Progressive Growing of GANs, dan StyleGANs menunjukkan bagaimana inovasi arsitektur dan strategi pelatihan telah mendorong kemampuan GANs hingga menghasilkan gambar yang nyaris tak bisa dibedakan dari aslinya. Pemahaman tentang kedua jenis model ini sangat penting bagi setiap praktisi *Machine Learning* yang ingin mendalami area pembelajaran representasi dan sintesis data.\n",
        "\n",
        "---"
      ],
      "metadata": {
        "id": "vwknUEjK0QNZ"
      }
    },
    {
      "cell_type": "markdown",
      "source": [
        "# REPRODUCE CODE"
      ],
      "metadata": {
        "id": "3-i5YSyr33IM"
      }
    },
    {
      "cell_type": "markdown",
      "source": [
        "## Performing PCA with an Undercomplete Linear Autoencoder"
      ],
      "metadata": {
        "id": "VcYH96X43_In"
      }
    },
    {
      "cell_type": "code",
      "source": [
        "!pip install tensorflow"
      ],
      "metadata": {
        "colab": {
          "base_uri": "https://localhost:8080/"
        },
        "id": "c3gyb-dB4iGg",
        "outputId": "2a866e01-8418-44ea-e7c9-4f87b7f8c5be"
      },
      "execution_count": 1,
      "outputs": [
        {
          "output_type": "stream",
          "name": "stdout",
          "text": [
            "Requirement already satisfied: tensorflow in /usr/local/lib/python3.11/dist-packages (2.18.0)\n",
            "Requirement already satisfied: absl-py>=1.0.0 in /usr/local/lib/python3.11/dist-packages (from tensorflow) (1.4.0)\n",
            "Requirement already satisfied: astunparse>=1.6.0 in /usr/local/lib/python3.11/dist-packages (from tensorflow) (1.6.3)\n",
            "Requirement already satisfied: flatbuffers>=24.3.25 in /usr/local/lib/python3.11/dist-packages (from tensorflow) (25.2.10)\n",
            "Requirement already satisfied: gast!=0.5.0,!=0.5.1,!=0.5.2,>=0.2.1 in /usr/local/lib/python3.11/dist-packages (from tensorflow) (0.6.0)\n",
            "Requirement already satisfied: google-pasta>=0.1.1 in /usr/local/lib/python3.11/dist-packages (from tensorflow) (0.2.0)\n",
            "Requirement already satisfied: libclang>=13.0.0 in /usr/local/lib/python3.11/dist-packages (from tensorflow) (18.1.1)\n",
            "Requirement already satisfied: opt-einsum>=2.3.2 in /usr/local/lib/python3.11/dist-packages (from tensorflow) (3.4.0)\n",
            "Requirement already satisfied: packaging in /usr/local/lib/python3.11/dist-packages (from tensorflow) (24.2)\n",
            "Requirement already satisfied: protobuf!=4.21.0,!=4.21.1,!=4.21.2,!=4.21.3,!=4.21.4,!=4.21.5,<6.0.0dev,>=3.20.3 in /usr/local/lib/python3.11/dist-packages (from tensorflow) (5.29.5)\n",
            "Requirement already satisfied: requests<3,>=2.21.0 in /usr/local/lib/python3.11/dist-packages (from tensorflow) (2.32.3)\n",
            "Requirement already satisfied: setuptools in /usr/local/lib/python3.11/dist-packages (from tensorflow) (75.2.0)\n",
            "Requirement already satisfied: six>=1.12.0 in /usr/local/lib/python3.11/dist-packages (from tensorflow) (1.17.0)\n",
            "Requirement already satisfied: termcolor>=1.1.0 in /usr/local/lib/python3.11/dist-packages (from tensorflow) (3.1.0)\n",
            "Requirement already satisfied: typing-extensions>=3.6.6 in /usr/local/lib/python3.11/dist-packages (from tensorflow) (4.14.0)\n",
            "Requirement already satisfied: wrapt>=1.11.0 in /usr/local/lib/python3.11/dist-packages (from tensorflow) (1.17.2)\n",
            "Requirement already satisfied: grpcio<2.0,>=1.24.3 in /usr/local/lib/python3.11/dist-packages (from tensorflow) (1.73.0)\n",
            "Requirement already satisfied: tensorboard<2.19,>=2.18 in /usr/local/lib/python3.11/dist-packages (from tensorflow) (2.18.0)\n",
            "Requirement already satisfied: keras>=3.5.0 in /usr/local/lib/python3.11/dist-packages (from tensorflow) (3.8.0)\n",
            "Requirement already satisfied: numpy<2.1.0,>=1.26.0 in /usr/local/lib/python3.11/dist-packages (from tensorflow) (2.0.2)\n",
            "Requirement already satisfied: h5py>=3.11.0 in /usr/local/lib/python3.11/dist-packages (from tensorflow) (3.14.0)\n",
            "Requirement already satisfied: ml-dtypes<0.5.0,>=0.4.0 in /usr/local/lib/python3.11/dist-packages (from tensorflow) (0.4.1)\n",
            "Requirement already satisfied: tensorflow-io-gcs-filesystem>=0.23.1 in /usr/local/lib/python3.11/dist-packages (from tensorflow) (0.37.1)\n",
            "Requirement already satisfied: wheel<1.0,>=0.23.0 in /usr/local/lib/python3.11/dist-packages (from astunparse>=1.6.0->tensorflow) (0.45.1)\n",
            "Requirement already satisfied: rich in /usr/local/lib/python3.11/dist-packages (from keras>=3.5.0->tensorflow) (13.9.4)\n",
            "Requirement already satisfied: namex in /usr/local/lib/python3.11/dist-packages (from keras>=3.5.0->tensorflow) (0.1.0)\n",
            "Requirement already satisfied: optree in /usr/local/lib/python3.11/dist-packages (from keras>=3.5.0->tensorflow) (0.16.0)\n",
            "Requirement already satisfied: charset-normalizer<4,>=2 in /usr/local/lib/python3.11/dist-packages (from requests<3,>=2.21.0->tensorflow) (3.4.2)\n",
            "Requirement already satisfied: idna<4,>=2.5 in /usr/local/lib/python3.11/dist-packages (from requests<3,>=2.21.0->tensorflow) (3.10)\n",
            "Requirement already satisfied: urllib3<3,>=1.21.1 in /usr/local/lib/python3.11/dist-packages (from requests<3,>=2.21.0->tensorflow) (2.4.0)\n",
            "Requirement already satisfied: certifi>=2017.4.17 in /usr/local/lib/python3.11/dist-packages (from requests<3,>=2.21.0->tensorflow) (2025.6.15)\n",
            "Requirement already satisfied: markdown>=2.6.8 in /usr/local/lib/python3.11/dist-packages (from tensorboard<2.19,>=2.18->tensorflow) (3.8)\n",
            "Requirement already satisfied: tensorboard-data-server<0.8.0,>=0.7.0 in /usr/local/lib/python3.11/dist-packages (from tensorboard<2.19,>=2.18->tensorflow) (0.7.2)\n",
            "Requirement already satisfied: werkzeug>=1.0.1 in /usr/local/lib/python3.11/dist-packages (from tensorboard<2.19,>=2.18->tensorflow) (3.1.3)\n",
            "Requirement already satisfied: MarkupSafe>=2.1.1 in /usr/local/lib/python3.11/dist-packages (from werkzeug>=1.0.1->tensorboard<2.19,>=2.18->tensorflow) (3.0.2)\n",
            "Requirement already satisfied: markdown-it-py>=2.2.0 in /usr/local/lib/python3.11/dist-packages (from rich->keras>=3.5.0->tensorflow) (3.0.0)\n",
            "Requirement already satisfied: pygments<3.0.0,>=2.13.0 in /usr/local/lib/python3.11/dist-packages (from rich->keras>=3.5.0->tensorflow) (2.19.1)\n",
            "Requirement already satisfied: mdurl~=0.1 in /usr/local/lib/python3.11/dist-packages (from markdown-it-py>=2.2.0->rich->keras>=3.5.0->tensorflow) (0.1.2)\n"
          ]
        }
      ]
    },
    {
      "cell_type": "code",
      "source": [
        "from tensorflow import keras\n",
        "\n",
        "encoder = keras.models.Sequential([keras.layers.Dense(2, input_shape=[3])])\n",
        "decoder = keras.models.Sequential([keras.layers.Dense(3, input_shape=[2])])\n",
        "autoencoder = keras.models.Sequential([encoder, decoder])\n",
        "\n",
        "autoencoder.compile(loss=\"mse\", optimizer=keras.optimizers.SGD(learning_rate=0.1))\n",
        "\n",
        "# history = autoencoder.fit(X_train, X_train, epochs=20)\n",
        "# codings = encoder.predict(X_train)"
      ],
      "metadata": {
        "colab": {
          "base_uri": "https://localhost:8080/"
        },
        "id": "FOHaTAnc34yj",
        "outputId": "e7b85dbc-fac4-409f-e977-4226bd6d3dab"
      },
      "execution_count": 3,
      "outputs": [
        {
          "output_type": "stream",
          "name": "stderr",
          "text": [
            "/usr/local/lib/python3.11/dist-packages/keras/src/layers/core/dense.py:87: UserWarning: Do not pass an `input_shape`/`input_dim` argument to a layer. When using Sequential models, prefer using an `Input(shape)` object as the first layer in the model instead.\n",
            "  super().__init__(activity_regularizer=activity_regularizer, **kwargs)\n"
          ]
        }
      ]
    },
    {
      "cell_type": "markdown",
      "source": [
        "## Implementing a Stacked Autoencoder Using Keras"
      ],
      "metadata": {
        "id": "UdaL30VZ4SlS"
      }
    },
    {
      "cell_type": "code",
      "source": [
        "stacked_encoder = keras.models.Sequential([\n",
        "    keras.layers.Flatten(input_shape=[28, 28]),\n",
        "    keras.layers.Dense(100, activation=\"selu\"),\n",
        "    keras.layers.Dense(30, activation=\"selu\"),\n",
        "])\n",
        "\n",
        "stacked_decoder = keras.models.Sequential([\n",
        "    keras.layers.Dense(100, activation=\"selu\", input_shape=[30]),\n",
        "    keras.layers.Dense(28 * 28, activation=\"sigmoid\"),\n",
        "    keras.layers.Reshape([28, 28])\n",
        "])\n",
        "\n",
        "stacked_ae = keras.models.Sequential([stacked_encoder, stacked_decoder])\n",
        "\n",
        "stacked_ae.compile(loss=\"binary_crossentropy\",\n",
        "                   optimizer=keras.optimizers.SGD(learning_rate=1.5))\n",
        "\n",
        "# history = stacked_ae.fit(X_train, X_train, epochs=10,\n",
        "#                          validation_data=[X_valid, X_valid])"
      ],
      "metadata": {
        "colab": {
          "base_uri": "https://localhost:8080/"
        },
        "id": "K-LBYasH4TVM",
        "outputId": "a61c031a-b64b-45dc-9440-ae0d0cba06a9"
      },
      "execution_count": 5,
      "outputs": [
        {
          "output_type": "stream",
          "name": "stderr",
          "text": [
            "/usr/local/lib/python3.11/dist-packages/keras/src/layers/reshaping/flatten.py:37: UserWarning: Do not pass an `input_shape`/`input_dim` argument to a layer. When using Sequential models, prefer using an `Input(shape)` object as the first layer in the model instead.\n",
            "  super().__init__(**kwargs)\n",
            "/usr/local/lib/python3.11/dist-packages/keras/src/layers/core/dense.py:87: UserWarning: Do not pass an `input_shape`/`input_dim` argument to a layer. When using Sequential models, prefer using an `Input(shape)` object as the first layer in the model instead.\n",
            "  super().__init__(activity_regularizer=activity_regularizer, **kwargs)\n"
          ]
        }
      ]
    },
    {
      "cell_type": "markdown",
      "source": [
        "## Visualizing the Reconstructions"
      ],
      "metadata": {
        "id": "PemgQRos5Wmw"
      }
    },
    {
      "cell_type": "code",
      "source": [
        "import matplotlib.pyplot as plt\n",
        "\n",
        "def plot_image(image):\n",
        "    plt.imshow(image, cmap=\"binary\")\n",
        "    plt.axis(\"off\")\n",
        "\n",
        "def show_reconstructions(model, n_images=5):\n",
        "    # Dummy X_valid for demonstration\n",
        "    import numpy as np\n",
        "    X_valid = np.random.rand(n_images, 28, 28)\n",
        "\n",
        "    reconstructions = model.predict(X_valid[:n_images])\n",
        "    fig = plt.figure(figsize=(n_images * 1.5, 3))\n",
        "    for image_index in range(n_images):\n",
        "        plt.subplot(2, n_images, 1 + image_index)\n",
        "        plot_image(X_valid[image_index])\n",
        "        plt.subplot(2, n_images, 1 + n_images + image_index)\n",
        "        plot_image(reconstructions[image_index])\n",
        "\n",
        "# show_reconstructions(stacked_ae)"
      ],
      "metadata": {
        "id": "rhBVOMSz5Xny"
      },
      "execution_count": 6,
      "outputs": []
    },
    {
      "cell_type": "markdown",
      "source": [
        "## Visualizing the Fashion MNIST Dataset"
      ],
      "metadata": {
        "id": "DBylL_f95ZCb"
      }
    },
    {
      "cell_type": "code",
      "source": [
        "from sklearn.manifold import TSNE\n",
        "import numpy as np\n",
        "\n",
        "# Dummy data for demonstration\n",
        "# X_valid_compressed = stacked_encoder.predict(X_valid)\n",
        "X_valid_compressed = np.random.rand(100, 30)\n",
        "y_valid = np.random.randint(0, 10, 100)\n",
        "\n",
        "tsne = TSNE()\n",
        "X_valid_2D = tsne.fit_transform(X_valid_compressed)\n",
        "\n",
        "plt.scatter(X_valid_2D[:, 0], X_valid_2D[:, 1], c=y_valid, s=10, cmap=\"tab10\")\n",
        "# plt.show()"
      ],
      "metadata": {
        "colab": {
          "base_uri": "https://localhost:8080/",
          "height": 447
        },
        "id": "Nu2eMX3j5bSq",
        "outputId": "490afe1c-d94d-4b5c-aae2-421e1af64234"
      },
      "execution_count": 7,
      "outputs": [
        {
          "output_type": "execute_result",
          "data": {
            "text/plain": [
              "<matplotlib.collections.PathCollection at 0x7d85c8c76110>"
            ]
          },
          "metadata": {},
          "execution_count": 7
        },
        {
          "output_type": "display_data",
          "data": {
            "text/plain": [
              "<Figure size 640x480 with 1 Axes>"
            ],
            "image/png": "[encoded data removed]"
          },
          "metadata": {}
        }
      ]
    },
    {
      "cell_type": "markdown",
      "source": [
        "## Tying Weights"
      ],
      "metadata": {
        "id": "R0KRWGHr5e4Y"
      }
    },
    {
      "cell_type": "code",
      "source": [
        "from tensorflow import keras\n",
        "import tensorflow as tf\n",
        "\n",
        "# Custom layer for tying weights\n",
        "class DenseTranspose(keras.layers.Layer):\n",
        "    def __init__(self, dense, activation=None, **kwargs):\n",
        "        self.dense = dense\n",
        "        self.activation = keras.activations.get(activation)\n",
        "        super().__init__(**kwargs)\n",
        "\n",
        "    def build(self, batch_input_shape):\n",
        "        # The bias shape should match the input dimension of the original dense layer.\n",
        "        # This is the last dimension of the dense layer's input shape.\n",
        "        # We assume the dense layer's input shape is available by this point.\n",
        "        self.biases = self.add_weight(name=\"bias\", initializer=\"zeros\",\n",
        "                                      shape=[self.dense.input_shape[-1]]) # Get shape from dense.input_shape\n",
        "\n",
        "        super().build(batch_input_shape)\n",
        "\n",
        "    def call(self, inputs):\n",
        "        # Access the kernel directly and transpose it for the matrix multiplication\n",
        "        z = tf.matmul(inputs, self.dense.kernel, transpose_b=True)\n",
        "        return self.activation(z + self.biases)\n",
        "\n",
        "# Building the tied autoencoder\n",
        "dense_1 = keras.layers.Dense(100, activation=\"selu\")\n",
        "dense_2 = keras.layers.Dense(30, activation=\"selu\")\n",
        "\n",
        "tied_encoder = keras.models.Sequential([\n",
        "    keras.layers.Flatten(input_shape=[28, 28]),\n",
        "    dense_1,\n",
        "    dense_2\n",
        "])\n",
        "\n",
        "tied_decoder = keras.models.Sequential([\n",
        "    DenseTranspose(dense_2, activation=\"selu\"), # This layer should have biases with shape [100]\n",
        "    DenseTranspose(dense_1, activation=\"sigmoid\"), # This layer should have biases with shape [784] (after Flatten)\n",
        "    keras.layers.Reshape([28, 28])\n",
        "])\n",
        "\n",
        "tied_ae = keras.models.Sequential([tied_encoder, tied_decoder])"
      ],
      "metadata": {
        "id": "KsF3OiZU5gjn"
      },
      "execution_count": 27,
      "outputs": []
    },
    {
      "cell_type": "markdown",
      "source": [
        "## Convolutional Autoencoders"
      ],
      "metadata": {
        "id": "aGmwpB6E5lH_"
      }
    },
    {
      "cell_type": "code",
      "source": [
        "conv_encoder = keras.models.Sequential([\n",
        "    keras.layers.Reshape([28, 28, 1], input_shape=[28, 28]),\n",
        "    keras.layers.Conv2D(16, kernel_size=3, padding=\"same\", activation=\"selu\"),\n",
        "    keras.layers.MaxPool2D(pool_size=2),\n",
        "    keras.layers.Conv2D(32, kernel_size=3, padding=\"same\", activation=\"selu\"),\n",
        "    keras.layers.MaxPool2D(pool_size=2),\n",
        "    keras.layers.Conv2D(64, kernel_size=3, padding=\"same\", activation=\"selu\"),\n",
        "    keras.layers.MaxPool2D(pool_size=2)\n",
        "])\n",
        "\n",
        "conv_decoder = keras.models.Sequential([\n",
        "    keras.layers.Conv2DTranspose(32, kernel_size=3, strides=2, padding=\"valid\",\n",
        "                                activation=\"selu\",\n",
        "                                input_shape=[3, 3, 64]),\n",
        "    keras.layers.Conv2DTranspose(16, kernel_size=3, strides=2, padding=\"same\",\n",
        "                                activation=\"selu\"),\n",
        "    keras.layers.Conv2DTranspose(1, kernel_size=3, strides=2, padding=\"same\",\n",
        "                                activation=\"sigmoid\"),\n",
        "    keras.layers.Reshape([28, 28])\n",
        "])\n",
        "\n",
        "conv_ae = keras.models.Sequential([conv_encoder, conv_decoder])"
      ],
      "metadata": {
        "colab": {
          "base_uri": "https://localhost:8080/"
        },
        "id": "BQG-GQT85n6F",
        "outputId": "3b2b5abb-5156-4144-c274-9d6a7d96de81"
      },
      "execution_count": 12,
      "outputs": [
        {
          "output_type": "stream",
          "name": "stderr",
          "text": [
            "/usr/local/lib/python3.11/dist-packages/keras/src/layers/reshaping/reshape.py:39: UserWarning: Do not pass an `input_shape`/`input_dim` argument to a layer. When using Sequential models, prefer using an `Input(shape)` object as the first layer in the model instead.\n",
            "  super().__init__(**kwargs)\n",
            "/usr/local/lib/python3.11/dist-packages/keras/src/layers/convolutional/base_conv_transpose.py:94: UserWarning: Do not pass an `input_shape`/`input_dim` argument to a layer. When using Sequential models, prefer using an `Input(shape)` object as the first layer in the model instead.\n",
            "  super().__init__(\n"
          ]
        }
      ]
    },
    {
      "cell_type": "markdown",
      "source": [
        "## Recurrent Autoencoders"
      ],
      "metadata": {
        "id": "-FQLLo6x5sbp"
      }
    },
    {
      "cell_type": "code",
      "source": [
        "recurrent_encoder = keras.models.Sequential([\n",
        "    keras.layers.LSTM(100, return_sequences=True, input_shape=[None, 28]),\n",
        "    keras.layers.LSTM(30)\n",
        "])\n",
        "\n",
        "recurrent_decoder = keras.models.Sequential([\n",
        "    keras.layers.RepeatVector(28, input_shape=[30]),\n",
        "    keras.layers.LSTM(100, return_sequences=True),\n",
        "    keras.layers.TimeDistributed(keras.layers.Dense(28, activation=\"sigmoid\"))\n",
        "])\n",
        "\n",
        "recurrent_ae = keras.models.Sequential([recurrent_encoder, recurrent_decoder])"
      ],
      "metadata": {
        "colab": {
          "base_uri": "https://localhost:8080/"
        },
        "id": "DONsIgLi5wOA",
        "outputId": "8542613c-7d83-4bb7-dd9b-497361589c53"
      },
      "execution_count": 14,
      "outputs": [
        {
          "output_type": "stream",
          "name": "stderr",
          "text": [
            "/usr/local/lib/python3.11/dist-packages/keras/src/layers/rnn/rnn.py:200: UserWarning: Do not pass an `input_shape`/`input_dim` argument to a layer. When using Sequential models, prefer using an `Input(shape)` object as the first layer in the model instead.\n",
            "  super().__init__(**kwargs)\n",
            "/usr/local/lib/python3.11/dist-packages/keras/src/layers/reshaping/repeat_vector.py:29: UserWarning: Do not pass an `input_shape`/`input_dim` argument to a layer. When using Sequential models, prefer using an `Input(shape)` object as the first layer in the model instead.\n",
            "  super().__init__(**kwargs)\n"
          ]
        }
      ]
    },
    {
      "cell_type": "markdown",
      "source": [
        "## Denoising Autoencoders"
      ],
      "metadata": {
        "id": "bQStE5Wz50Qm"
      }
    },
    {
      "cell_type": "code",
      "source": [
        "dropout_encoder = keras.models.Sequential([\n",
        "    keras.layers.Flatten(input_shape=[28, 28]),\n",
        "    keras.layers.Dropout(0.5),\n",
        "    keras.layers.Dense(100, activation=\"selu\"),\n",
        "    keras.layers.Dense(30, activation=\"selu\")\n",
        "])\n",
        "\n",
        "dropout_decoder = keras.models.Sequential([\n",
        "    keras.layers.Dense(100, activation=\"selu\", input_shape=[30]),\n",
        "    keras.layers.Dense(28 * 28, activation=\"sigmoid\"),\n",
        "    keras.layers.Reshape([28, 28])\n",
        "])\n",
        "\n",
        "dropout_ae = keras.models.Sequential([dropout_encoder, dropout_decoder])"
      ],
      "metadata": {
        "colab": {
          "base_uri": "https://localhost:8080/"
        },
        "id": "9wQyqhVl5_Yy",
        "outputId": "abe437c5-f8a2-410e-9c39-4aac10819aa8"
      },
      "execution_count": 19,
      "outputs": [
        {
          "output_type": "stream",
          "name": "stderr",
          "text": [
            "/usr/local/lib/python3.11/dist-packages/keras/src/layers/reshaping/flatten.py:37: UserWarning: Do not pass an `input_shape`/`input_dim` argument to a layer. When using Sequential models, prefer using an `Input(shape)` object as the first layer in the model instead.\n",
            "  super().__init__(**kwargs)\n",
            "/usr/local/lib/python3.11/dist-packages/keras/src/layers/core/dense.py:87: UserWarning: Do not pass an `input_shape`/`input_dim` argument to a layer. When using Sequential models, prefer using an `Input(shape)` object as the first layer in the model instead.\n",
            "  super().__init__(activity_regularizer=activity_regularizer, **kwargs)\n"
          ]
        }
      ]
    },
    {
      "cell_type": "markdown",
      "source": [
        "## Sparse Autoencoders"
      ],
      "metadata": {
        "id": "mkrep3QQ6B_k"
      }
    },
    {
      "cell_type": "code",
      "source": [
        "sparse_l1_encoder = keras.models.Sequential([\n",
        "    keras.layers.Flatten(input_shape=[28, 28]),\n",
        "    keras.layers.Dense(100, activation=\"selu\"),\n",
        "    keras.layers.Dense(300, activation=\"sigmoid\"),\n",
        "    keras.layers.ActivityRegularization(l1=1e-3)\n",
        "])\n",
        "\n",
        "sparse_l1_decoder = keras.models.Sequential([\n",
        "    keras.layers.Dense(100, activation=\"selu\", input_shape=[300]),\n",
        "    keras.layers.Dense(28 * 28, activation=\"sigmoid\"),\n",
        "    keras.layers.Reshape([28, 28])\n",
        "])\n",
        "\n",
        "sparse_l1_ae = keras.models.Sequential([sparse_l1_encoder, sparse_l1_decoder])"
      ],
      "metadata": {
        "colab": {
          "base_uri": "https://localhost:8080/"
        },
        "id": "DKxNYxmH6ET3",
        "outputId": "12761c37-456c-421f-f06d-fa5b5080218d"
      },
      "execution_count": 20,
      "outputs": [
        {
          "output_type": "stream",
          "name": "stderr",
          "text": [
            "/usr/local/lib/python3.11/dist-packages/keras/src/layers/reshaping/flatten.py:37: UserWarning: Do not pass an `input_shape`/`input_dim` argument to a layer. When using Sequential models, prefer using an `Input(shape)` object as the first layer in the model instead.\n",
            "  super().__init__(**kwargs)\n",
            "/usr/local/lib/python3.11/dist-packages/keras/src/layers/core/dense.py:87: UserWarning: Do not pass an `input_shape`/`input_dim` argument to a layer. When using Sequential models, prefer using an `Input(shape)` object as the first layer in the model instead.\n",
            "  super().__init__(activity_regularizer=activity_regularizer, **kwargs)\n"
          ]
        }
      ]
    },
    {
      "cell_type": "markdown",
      "source": [
        "## Menggunakan KL Divergence"
      ],
      "metadata": {
        "id": "0VrEl96V6Fkq"
      }
    },
    {
      "cell_type": "code",
      "source": [
        "import tensorflow.keras.backend as K\n",
        "\n",
        "kl_divergence = keras.losses.kullback_leibler_divergence\n",
        "\n",
        "class KLDivergenceRegularizer(keras.regularizers.Regularizer):\n",
        "    def __init__(self, weight, target=0.1):\n",
        "        self.weight = weight\n",
        "        self.target = target\n",
        "    def __call__(self, inputs):\n",
        "        mean_activities = K.mean(inputs, axis=0)\n",
        "        return self.weight * (\n",
        "            kl_divergence(self.target, mean_activities) +\n",
        "            kl_divergence(1. - self.target, 1. - mean_activities))\n",
        "    def get_config(self):\n",
        "        return {\"weight\": self.weight, \"target\": self.target}\n",
        "\n",
        "kld_reg = KLDivergenceRegularizer(weight=0.05, target=0.1)\n",
        "\n",
        "sparse_kl_encoder = keras.models.Sequential([\n",
        "    keras.layers.Flatten(input_shape=[28, 28]),\n",
        "    keras.layers.Dense(100, activation=\"selu\"),\n",
        "    keras.layers.Dense(300, activation=\"sigmoid\", activity_regularizer=kld_reg)\n",
        "])\n",
        "\n",
        "sparse_kl_decoder = keras.models.Sequential([\n",
        "    keras.layers.Dense(100, activation=\"selu\", input_shape=[300]),\n",
        "    keras.layers.Dense(28 * 28, activation=\"sigmoid\"),\n",
        "    keras.layers.Reshape([28, 28])\n",
        "])\n",
        "\n",
        "sparse_kl_ae = keras.models.Sequential([sparse_kl_encoder, sparse_kl_decoder])"
      ],
      "metadata": {
        "colab": {
          "base_uri": "https://localhost:8080/"
        },
        "id": "vwQUJ-AN6H4U",
        "outputId": "c7ee0de4-03c7-49c9-ca77-8e80e884f8b4"
      },
      "execution_count": 21,
      "outputs": [
        {
          "output_type": "stream",
          "name": "stderr",
          "text": [
            "/usr/local/lib/python3.11/dist-packages/keras/src/layers/core/dense.py:87: UserWarning: Do not pass an `input_shape`/`input_dim` argument to a layer. When using Sequential models, prefer using an `Input(shape)` object as the first layer in the model instead.\n",
            "  super().__init__(activity_regularizer=activity_regularizer, **kwargs)\n"
          ]
        }
      ]
    },
    {
      "cell_type": "markdown",
      "source": [
        "## Variational Autoencoders"
      ],
      "metadata": {
        "id": "uiglextc6J2A"
      }
    },
    {
      "cell_type": "code",
      "source": [
        "import tensorflow as tf\n",
        "\n",
        "class Sampling(keras.layers.Layer):\n",
        "    def call(self, inputs):\n",
        "        mean, log_var = inputs\n",
        "        return K.random_normal(tf.shape(log_var)) * K.exp(log_var / 2) + mean\n",
        "\n",
        "codings_size = 10\n",
        "\n",
        "# Encoder\n",
        "inputs = keras.layers.Input(shape=[28, 28])\n",
        "z = keras.layers.Flatten()(inputs)\n",
        "z = keras.layers.Dense(150, activation=\"selu\")(z)\n",
        "z = keras.layers.Dense(100, activation=\"selu\")(z)\n",
        "codings_mean = keras.layers.Dense(codings_size)(z)\n",
        "codings_log_var = keras.layers.Dense(codings_size)(z)\n",
        "codings = Sampling()([codings_mean, codings_log_var])\n",
        "variational_encoder = keras.Model(\n",
        "    inputs=[inputs], outputs=[codings_mean, codings_log_var, codings])\n",
        "\n",
        "# Decoder\n",
        "decoder_inputs = keras.layers.Input(shape=[codings_size])\n",
        "x = keras.layers.Dense(100, activation=\"selu\")(decoder_inputs)\n",
        "x = keras.layers.Dense(150, activation=\"selu\")(x)\n",
        "x = keras.layers.Dense(28 * 28, activation=\"sigmoid\")(x)\n",
        "outputs = keras.layers.Reshape([28, 28])(x)\n",
        "variational_decoder = keras.Model(inputs=[decoder_inputs], outputs=[outputs])\n",
        "\n",
        "# Variational Autoencoder\n",
        "_, _, codings = variational_encoder(inputs)\n",
        "reconstructions = variational_decoder(codings)\n",
        "variational_ae = keras.Model(inputs=[inputs], outputs=[reconstructions])\n",
        "\n",
        "# Add latent loss and compile\n",
        "latent_loss = -0.5 * K.sum(\n",
        "    1 + codings_log_var - K.exp(codings_log_var) - K.square(codings_mean),\n",
        "    axis=-1)\n",
        "variational_ae.add_loss(K.mean(latent_loss) / 784.)\n",
        "variational_ae.compile(loss=\"binary_crossentropy\", optimizer=\"rmsprop\")\n",
        "\n",
        "# history = variational_ae.fit(X_train, X_train, epochs=50, batch_size=128,\n",
        "#                              validation_data=[X_valid, X_valid])"
      ],
      "metadata": {
        "id": "I9FDPBvg6MAT"
      },
      "execution_count": 28,
      "outputs": []
    },
    {
      "cell_type": "markdown",
      "source": [
        "## Generating Fashion MNIST Images"
      ],
      "metadata": {
        "id": "eTzJ8U4c6Qcm"
      }
    },
    {
      "cell_type": "code",
      "source": [
        "codings = tf.random.normal(shape=[12, codings_size])\n",
        "images = variational_decoder(codings).numpy()"
      ],
      "metadata": {
        "colab": {
          "base_uri": "https://localhost:8080/"
        },
        "id": "SRS_SBTV6SLs",
        "outputId": "0f453921-86e9-44b0-c62b-aed42f13e64d"
      },
      "execution_count": 29,
      "outputs": [
        {
          "output_type": "stream",
          "name": "stderr",
          "text": [
            "/usr/local/lib/python3.11/dist-packages/keras/src/models/functional.py:237: UserWarning: The structure of `inputs` doesn't match the expected structure.\n",
            "Expected: ['keras_tensor_179']\n",
            "Received: inputs=Tensor(shape=(12, 10))\n",
            "  warnings.warn(msg)\n"
          ]
        }
      ]
    },
    {
      "cell_type": "code",
      "source": [
        "codings_grid = tf.reshape(codings, [1, 3, 4, codings_size])\n",
        "larger_grid = tf.image.resize(codings_grid, size=[5, 7])\n",
        "interpolated_codings = tf.reshape(larger_grid, [-1, codings_size])\n",
        "images = variational_decoder(interpolated_codings).numpy()"
      ],
      "metadata": {
        "colab": {
          "base_uri": "https://localhost:8080/"
        },
        "id": "HduO_Xmq6n7o",
        "outputId": "ed7a62bb-4bed-4ece-a6c5-6d2f7812ad52"
      },
      "execution_count": 30,
      "outputs": [
        {
          "output_type": "stream",
          "name": "stderr",
          "text": [
            "/usr/local/lib/python3.11/dist-packages/keras/src/models/functional.py:237: UserWarning: The structure of `inputs` doesn't match the expected structure.\n",
            "Expected: ['keras_tensor_179']\n",
            "Received: inputs=Tensor(shape=(35, 10))\n",
            "  warnings.warn(msg)\n"
          ]
        }
      ]
    },
    {
      "cell_type": "markdown",
      "source": [
        "## Generative Adversarial Networks (GANs)"
      ],
      "metadata": {
        "id": "WFCwbs7F6q1O"
      }
    },
    {
      "cell_type": "code",
      "source": [
        "# Models\n",
        "codings_size = 30\n",
        "generator = keras.models.Sequential([\n",
        "    keras.layers.Dense(100, activation=\"selu\", input_shape=[codings_size]),\n",
        "    keras.layers.Dense(150, activation=\"selu\"),\n",
        "    keras.layers.Dense(28 * 28, activation=\"sigmoid\"),\n",
        "    keras.layers.Reshape([28, 28])\n",
        "])\n",
        "discriminator = keras.models.Sequential([\n",
        "    keras.layers.Flatten(input_shape=[28, 28]),\n",
        "    keras.layers.Dense(150, activation=\"selu\"),\n",
        "    keras.layers.Dense(100, activation=\"selu\"),\n",
        "    keras.layers.Dense(1, activation=\"sigmoid\")\n",
        "])\n",
        "gan = keras.models.Sequential([generator, discriminator])\n",
        "\n",
        "# Compile\n",
        "discriminator.compile(loss=\"binary_crossentropy\", optimizer=\"rmsprop\")\n",
        "discriminator.trainable = False\n",
        "gan.compile(loss=\"binary_crossentropy\", optimizer=\"rmsprop\")\n",
        "\n",
        "# Dataset\n",
        "batch_size = 32\n",
        "# dataset = tf.data.Dataset.from_tensor_slices(X_train).shuffle(1000)\n",
        "# dataset = dataset.batch(batch_size, drop_remainder=True).prefetch(1)\n",
        "\n",
        "# Training loop\n",
        "def train_gan(gan, dataset, batch_size, codings_size, n_epochs=50):\n",
        "    generator, discriminator = gan.layers\n",
        "    for epoch in range(n_epochs):\n",
        "        for X_batch in dataset:\n",
        "            # phase 1 - training the discriminator\n",
        "            noise = tf.random.normal(shape=[batch_size, codings_size])\n",
        "            generated_images = generator(noise)\n",
        "            X_fake_and_real = tf.concat([generated_images, X_batch], axis=0)\n",
        "            y1 = tf.constant([[0.]] * batch_size + [[1.]] * batch_size)\n",
        "            discriminator.trainable = True\n",
        "            discriminator.train_on_batch(X_fake_and_real, y1)\n",
        "            # phase 2 - training the generator\n",
        "            noise = tf.random.normal(shape=[batch_size, codings_size])\n",
        "            y2 = tf.constant([[1.]] * batch_size)\n",
        "            discriminator.trainable = False\n",
        "            gan.train_on_batch(noise, y2)\n",
        "\n",
        "# train_gan(gan, dataset, batch_size, codings_size)"
      ],
      "metadata": {
        "colab": {
          "base_uri": "https://localhost:8080/"
        },
        "id": "LFIJkwcV6rmx",
        "outputId": "00dfad3d-bb92-40af-98da-1e85cc660e29"
      },
      "execution_count": 31,
      "outputs": [
        {
          "output_type": "stream",
          "name": "stderr",
          "text": [
            "/usr/local/lib/python3.11/dist-packages/keras/src/layers/core/dense.py:87: UserWarning: Do not pass an `input_shape`/`input_dim` argument to a layer. When using Sequential models, prefer using an `Input(shape)` object as the first layer in the model instead.\n",
            "  super().__init__(activity_regularizer=activity_regularizer, **kwargs)\n",
            "/usr/local/lib/python3.11/dist-packages/keras/src/layers/reshaping/flatten.py:37: UserWarning: Do not pass an `input_shape`/`input_dim` argument to a layer. When using Sequential models, prefer using an `Input(shape)` object as the first layer in the model instead.\n",
            "  super().__init__(**kwargs)\n"
          ]
        }
      ]
    },
    {
      "cell_type": "markdown",
      "source": [
        "## Deep Convolutional GANs (DCGANs)"
      ],
      "metadata": {
        "id": "OVAwSxtx6uHb"
      }
    },
    {
      "cell_type": "code",
      "source": [
        "codings_size = 100\n",
        "\n",
        "# Generator\n",
        "generator = keras.models.Sequential([\n",
        "    keras.layers.Dense(7 * 7 * 128, input_shape=[codings_size]),\n",
        "    keras.layers.Reshape([7, 7, 128]),\n",
        "    keras.layers.BatchNormalization(),\n",
        "    keras.layers.Conv2DTranspose(64, kernel_size=5, strides=2, padding=\"same\",\n",
        "                                activation=\"selu\"),\n",
        "    keras.layers.BatchNormalization(),\n",
        "    keras.layers.Conv2DTranspose(1, kernel_size=5, strides=2, padding=\"same\",\n",
        "                                activation=\"tanh\"),\n",
        "])\n",
        "\n",
        "# Discriminator\n",
        "discriminator = keras.models.Sequential([\n",
        "    keras.layers.Conv2D(64, kernel_size=5, strides=2, padding=\"same\",\n",
        "                        activation=keras.layers.LeakyReLU(0.2),\n",
        "                        input_shape=[28, 28, 1]),\n",
        "    keras.layers.Dropout(0.4),\n",
        "    keras.layers.Conv2D(128, kernel_size=5, strides=2, padding=\"same\",\n",
        "                        activation=keras.layers.LeakyReLU(0.2)),\n",
        "    keras.layers.Dropout(0.4),\n",
        "    keras.layers.Flatten(),\n",
        "    keras.layers.Dense(1, activation=\"sigmoid\")\n",
        "])\n",
        "\n",
        "gan = keras.models.Sequential([generator, discriminator])\n",
        "\n",
        "# Data Preprocessing\n",
        "# X_train = X_train.reshape(-1, 28, 28, 1) * 2. - 1."
      ],
      "metadata": {
        "colab": {
          "base_uri": "https://localhost:8080/"
        },
        "id": "ZGxUt_TX6uyo",
        "outputId": "222fce39-7e2f-4bdc-c02f-9d947902b819"
      },
      "execution_count": 32,
      "outputs": [
        {
          "output_type": "stream",
          "name": "stderr",
          "text": [
            "/usr/local/lib/python3.11/dist-packages/keras/src/layers/core/dense.py:87: UserWarning: Do not pass an `input_shape`/`input_dim` argument to a layer. When using Sequential models, prefer using an `Input(shape)` object as the first layer in the model instead.\n",
            "  super().__init__(activity_regularizer=activity_regularizer, **kwargs)\n",
            "/usr/local/lib/python3.11/dist-packages/keras/src/layers/convolutional/base_conv.py:107: UserWarning: Do not pass an `input_shape`/`input_dim` argument to a layer. When using Sequential models, prefer using an `Input(shape)` object as the first layer in the model instead.\n",
            "  super().__init__(activity_regularizer=activity_regularizer, **kwargs)\n"
          ]
        }
      ]
    }
  ]
}